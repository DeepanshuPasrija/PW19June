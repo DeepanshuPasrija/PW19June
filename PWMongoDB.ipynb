{
  "nbformat": 4,
  "nbformat_minor": 0,
  "metadata": {
    "colab": {
      "name": "PWMongoDB.ipynb",
      "provenance": [],
      "collapsed_sections": [],
      "authorship_tag": "ABX9TyNZWF6bIAxzs19yokzanZbQ",
      "include_colab_link": true
    },
    "kernelspec": {
      "name": "python3",
      "display_name": "Python 3"
    },
    "language_info": {
      "name": "python"
    }
  },
  "cells": [
    {
      "cell_type": "markdown",
      "metadata": {
        "id": "view-in-github",
        "colab_type": "text"
      },
      "source": [
        "<a href=\"https://colab.research.google.com/github/DeepanshuPasrija/PW19June/blob/main/PWMongoDB.ipynb\" target=\"_parent\"><img src=\"https://colab.research.google.com/assets/colab-badge.svg\" alt=\"Open In Colab\"/></a>"
      ]
    },
    {
      "cell_type": "code",
      "metadata": {
        "id": "ZvKFBwXVMpTV"
      },
      "source": [
        "import pymongo"
      ],
      "execution_count": 30,
      "outputs": []
    },
    {
      "cell_type": "code",
      "metadata": {
        "id": "cg8tbhIVNGYz"
      },
      "source": [
        "uri=\"mongodb://mosmoscosmos:2G1hQt1Nu4j6UEK50QKkHd5EsmbGLgjaep0GG4wmtrI1guPHGAdv9VQL3j8Wj4PajLIvIdx54jyezQLNXkHJCw==@mosmoscosmos.mongo.cosmos.azure.com:10255/?ssl=true&replicaSet=globaldb&retrywrites=false&maxIdleTimeMS=120000&appName=@mosmoscosmos@\"\n",
        "myclient = pymongo.MongoClient(uri)\n",
        "mydb = myclient[\"multiverse\"]"
      ],
      "execution_count": 31,
      "outputs": []
    },
    {
      "cell_type": "code",
      "metadata": {
        "colab": {
          "base_uri": "https://localhost:8080/"
        },
        "id": "S7KmufGrNW6L",
        "outputId": "076b26a3-f20e-4ebd-a1e7-d7d22360ccde"
      },
      "source": [
        "dblist = myclient.list_database_names()\n",
        "if \"multiverse\" in dblist:\n",
        "  print(\"The datbaase is present\")\n",
        "else:\n",
        "  print(\"No database\")"
      ],
      "execution_count": 32,
      "outputs": [
        {
          "output_type": "stream",
          "text": [
            "The datbaase is present\n"
          ],
          "name": "stdout"
        }
      ]
    },
    {
      "cell_type": "code",
      "metadata": {
        "colab": {
          "base_uri": "https://localhost:8080/"
        },
        "id": "S2ETCezSNqX2",
        "outputId": "50211c1c-1b93-4779-eb01-dc3c85233c1a"
      },
      "source": [
        "print(myclient.list_database_names())"
      ],
      "execution_count": 33,
      "outputs": [
        {
          "output_type": "stream",
          "text": [
            "['universe', 'multiverse']\n"
          ],
          "name": "stdout"
        }
      ]
    },
    {
      "cell_type": "code",
      "metadata": {
        "id": "jQ_kP7dIN2UB"
      },
      "source": [
        "myplanet= mydb['earth']"
      ],
      "execution_count": 34,
      "outputs": []
    },
    {
      "cell_type": "code",
      "metadata": {
        "colab": {
          "base_uri": "https://localhost:8080/"
        },
        "id": "kZ5IHTp4OAIG",
        "outputId": "37f3b306-81e8-4398-af83-129d841bfae4"
      },
      "source": [
        "country1={\n",
        "    \"name\":\"Honululu\",\n",
        "    \"population\":\"unknown\"\n",
        "}\n",
        "country2={\n",
        "    \"name\":\"Pikachuland\",\n",
        "    \"capital\":\"Townsville\",\n",
        "    \"potatolover\": True\n",
        "}\n",
        "myplanet.insert_one(country1)"
      ],
      "execution_count": 8,
      "outputs": [
        {
          "output_type": "execute_result",
          "data": {
            "text/plain": [
              "<pymongo.results.InsertOneResult at 0x7fdff22a0280>"
            ]
          },
          "metadata": {
            "tags": []
          },
          "execution_count": 8
        }
      ]
    },
    {
      "cell_type": "code",
      "metadata": {
        "colab": {
          "base_uri": "https://localhost:8080/"
        },
        "id": "PXRfBEtzQilB",
        "outputId": "911f6b2f-4711-4d17-a146-be24a9cf9e04"
      },
      "source": [
        "x = myplanet.insert_one(country2)\n",
        "x"
      ],
      "execution_count": 11,
      "outputs": [
        {
          "output_type": "execute_result",
          "data": {
            "text/plain": [
              "<pymongo.results.InsertOneResult at 0x7fdff0d2fb40>"
            ]
          },
          "metadata": {
            "tags": []
          },
          "execution_count": 11
        }
      ]
    },
    {
      "cell_type": "code",
      "metadata": {
        "colab": {
          "base_uri": "https://localhost:8080/"
        },
        "id": "OcWt9GqwQvTH",
        "outputId": "4e311677-d9f6-4d81-b39b-0b6ccc26eadd"
      },
      "source": [
        "print(dir(x))"
      ],
      "execution_count": 12,
      "outputs": [
        {
          "output_type": "stream",
          "text": [
            "['_InsertOneResult__acknowledged', '_InsertOneResult__inserted_id', '_WriteResult__acknowledged', '__class__', '__delattr__', '__dir__', '__doc__', '__eq__', '__format__', '__ge__', '__getattribute__', '__gt__', '__hash__', '__init__', '__init_subclass__', '__le__', '__lt__', '__module__', '__ne__', '__new__', '__reduce__', '__reduce_ex__', '__repr__', '__setattr__', '__sizeof__', '__slots__', '__str__', '__subclasshook__', '_raise_if_unacknowledged', 'acknowledged', 'inserted_id']\n"
          ],
          "name": "stdout"
        }
      ]
    },
    {
      "cell_type": "code",
      "metadata": {
        "colab": {
          "base_uri": "https://localhost:8080/"
        },
        "id": "ehEuTlK-Q1ne",
        "outputId": "a6380957-ce0e-4e5e-fdfd-6d86f5bfb73d"
      },
      "source": [
        "x.inserted_id"
      ],
      "execution_count": 13,
      "outputs": [
        {
          "output_type": "execute_result",
          "data": {
            "text/plain": [
              "ObjectId('60cda2753fba09e53a806b45')"
            ]
          },
          "metadata": {
            "tags": []
          },
          "execution_count": 13
        }
      ]
    },
    {
      "cell_type": "code",
      "metadata": {
        "id": "etttttRyRy1f"
      },
      "source": [
        "countries = [{\n",
        "    \"name\":\"Tonululu\",\n",
        "    \"population\":100,\n",
        "    \"currency\":\"Dollar\"\n",
        "},{\n",
        "    \"name\":\"Gagacity\",\n",
        "    \"area\":1000,\n",
        "    \"potatolover\": True\n",
        "}]\n",
        "x = myplanet.insert_many(countries)"
      ],
      "execution_count": 17,
      "outputs": []
    },
    {
      "cell_type": "code",
      "metadata": {
        "colab": {
          "base_uri": "https://localhost:8080/"
        },
        "id": "Cg2QbRIUSIpr",
        "outputId": "f991fc6d-c4ed-4960-cef5-92729e13bde8"
      },
      "source": [
        "x.inserted_ids\n"
      ],
      "execution_count": 19,
      "outputs": [
        {
          "output_type": "execute_result",
          "data": {
            "text/plain": [
              "[ObjectId('60cda4263fba09e53a806b46'), ObjectId('60cda4263fba09e53a806b47')]"
            ]
          },
          "metadata": {
            "tags": []
          },
          "execution_count": 19
        }
      ]
    },
    {
      "cell_type": "code",
      "metadata": {
        "id": "YjB-V50rSeB5"
      },
      "source": [
        "x = myplanet.find_one()"
      ],
      "execution_count": 23,
      "outputs": []
    },
    {
      "cell_type": "code",
      "metadata": {
        "colab": {
          "base_uri": "https://localhost:8080/"
        },
        "id": "381tu1vjSm3k",
        "outputId": "757902d3-045d-4777-8e1d-f0551ca51f65"
      },
      "source": [
        "x"
      ],
      "execution_count": 24,
      "outputs": [
        {
          "output_type": "execute_result",
          "data": {
            "text/plain": [
              "{'_id': ObjectId('60cda0473fba09e53a806b44'),\n",
              " 'name': 'Honululu',\n",
              " 'population': 'unknown'}"
            ]
          },
          "metadata": {
            "tags": []
          },
          "execution_count": 24
        }
      ]
    },
    {
      "cell_type": "code",
      "metadata": {
        "colab": {
          "base_uri": "https://localhost:8080/"
        },
        "id": "Q63MKJTUS2dR",
        "outputId": "51a3f5c9-d972-490c-f332-dfaf3cf9daf0"
      },
      "source": [
        "for x in myplanet.find():\n",
        "  print(x)"
      ],
      "execution_count": 25,
      "outputs": [
        {
          "output_type": "stream",
          "text": [
            "{'_id': ObjectId('60cda0473fba09e53a806b44'), 'name': 'Honululu', 'population': 'unknown'}\n",
            "{'_id': ObjectId('60cda14c229ae75786ebdba3'), 'name': 'Honululu', 'population': 'unknown'}\n",
            "{'_id': ObjectId('60cda16629bab2bd7088883f'), 'name': 'Honululu', 'population': 'unknown'}\n",
            "{'_id': ObjectId('60cda16c09c55fb3c5700c1e'), 'name': 'Honululu', 'population': 'unknown'}\n",
            "{'_id': ObjectId('60cda173d516e62486a79940'), 'name': 'Honululu', 'population': 'unknown'}\n",
            "{'_id': ObjectId('60cda1957191267e5b546532'), 'name': 'Honululu', 'population': 'unknown'}\n",
            "{'_id': ObjectId('60cda1b0e10d68777604cfe0'), 'name': 'Honululu', 'population': 'unknown'}\n",
            "{'_id': ObjectId('60cda1d9529823e43872902a'), 'name': 'Honululu', 'population': 'unknown'}\n",
            "{'_id': ObjectId('60cda21cc1a604766b35b92c'), 'name': 'Honululu', 'population': 'unknown'}\n",
            "{'_id': ObjectId('60cda23556db064dac490b12'), 'name': 'Honululu', 'population': 'unknown'}\n",
            "{'_id': ObjectId('60cda2504b85f6a0002b4a98'), 'name': 'Honululu', 'population': 'unknown'}\n",
            "{'_id': ObjectId('60cda25a1c1dfea23bd11a0d'), 'name': 'Honululu', 'population': 'unknown'}\n",
            "{'_id': ObjectId('60cda2646c85a32f381fbfe0'), 'name': 'Honululu', 'population': 'unknown'}\n",
            "{'_id': ObjectId('60cda2753fba09e53a806b45'), 'name': 'Pikachuland', 'capital': 'Townsville', 'potatolover': True}\n",
            "{'_id': ObjectId('60cda27d580c890ba8baa9d2'), 'name': 'Honululu', 'population': 'unknown'}\n",
            "{'_id': ObjectId('60cda2bce10d68777604cfe1'), 'name': 'Pikachuland', 'capital': 'Townsville', 'potatolover': True}\n",
            "{'_id': ObjectId('60cda2d909c55fb3c5700c1f'), 'name': 'Pikachuland', 'capital': 'Townsville', 'potatolover': True}\n",
            "{'_id': ObjectId('60cda2e729bab2bd70888840'), 'name': 'Pikachuland', 'capital': 'Townsville', 'potatolover': True}\n",
            "{'_id': ObjectId('60cda3127191267e5b546533'), 'name': 'Pikachuland', 'capital': 'Townsville', 'potatolover': True}\n",
            "{'_id': ObjectId('60cda319229ae75786ebdba4'), 'name': 'Pikachuland', 'capital': 'Townsville', 'potatolover': True}\n",
            "{'_id': ObjectId('60cda321529823e43872902b'), 'name': 'Pikachuland', 'capital': 'Townsville', 'potatolover': True}\n",
            "{'_id': ObjectId('60cda32d6c85a32f381fbfe1'), 'name': 'Pikachuland', 'capital': 'Townsville', 'potatolover': True}\n",
            "{'_id': ObjectId('60cda338d516e62486a79941'), 'name': 'Pikachuland', 'capital': 'Townsville', 'potatolover': True}\n",
            "{'_id': ObjectId('60cda33b580c890ba8baa9d3'), 'name': 'Pikachuland', 'capital': 'Townsville', 'potatolover': True}\n",
            "{'_id': ObjectId('60cda34956db064dac490b13'), 'name': 'Pikachuland', 'capital': 'Townsville', 'potatolover': True}\n",
            "{'_id': ObjectId('60cda3634dff9fbb33ce0ae6'), 'name': 'Honululu', 'population': 'unknown'}\n",
            "{'_id': ObjectId('60cda38a4dff9fbb33ce0ae7'), 'name': 'Pikachuland', 'capital': 'Townsville', 'potatolover': True}\n",
            "{'_id': ObjectId('60cda3ab1f2d2c42d8a82ffb'), 'name': 'Honululu', 'population': 'unknown'}\n",
            "{'_id': ObjectId('60cda4141c1dfea23bd11a0e'), 'name': 'Pikachuland', 'capital': 'Townsville', 'potatolover': True}\n",
            "{'_id': ObjectId('60cda4263fba09e53a806b46'), 'name': 'Tonululu', 'population': 100, 'currency': 'Dollar'}\n",
            "{'_id': ObjectId('60cda4263fba09e53a806b47'), 'name': 'Gagacity', 'area': 1000, 'potatolover': True}\n",
            "{'_id': ObjectId('60cda428791946c53a70d5ab'), 'name': 'Honululu', 'population': 'unknown'}\n",
            "{'_id': ObjectId('60cda436e69ef63a405c6408'), 'name': 'Honululu', 'population': 'unknown'}\n",
            "{'_id': ObjectId('60cda439c1a604766b35b92d'), 'name': 'Pikachuland', 'capital': 'Townsville', 'potatolover': True}\n",
            "{'_id': ObjectId('60cda454e69ef63a405c6409'), 'name': 'Pikachuland', 'capital': 'Townsville', 'potatolover': True}\n",
            "{'_id': ObjectId('60cda4dc09c55fb3c5700c20'), 'name': 'Tonululu', 'population': 100, 'currency': 'Dollar'}\n",
            "{'_id': ObjectId('60cda4dc09c55fb3c5700c21'), 'name': 'Gagacity', 'area': 1000, 'potatolover': True}\n",
            "{'_id': ObjectId('60cda4f2529823e43872902c'), 'name': 'Tonululu', 'population': 100, 'currency': 'Dollar'}\n",
            "{'_id': ObjectId('60cda4f2529823e43872902d'), 'name': 'Gagacity', 'area': 1000, 'potatolover': True}\n",
            "{'_id': ObjectId('60cda4f4e69ef63a405c640a'), 'name': 'Tonululu', 'population': 100, 'currency': 'Dollar'}\n",
            "{'_id': ObjectId('60cda4f4e69ef63a405c640b'), 'name': 'Gagacity', 'area': 1000, 'potatolover': True}\n",
            "{'_id': ObjectId('60cda4f529bab2bd70888841'), 'name': 'Tonululu', 'population': 100, 'currency': 'Dollar'}\n",
            "{'_id': ObjectId('60cda4f529bab2bd70888842'), 'name': 'Gagacity', 'area': 1000, 'potatolover': True}\n",
            "{'_id': ObjectId('60cda509229ae75786ebdba5'), 'name': 'Tonululu', 'population': 100, 'currency': 'Dollar'}\n",
            "{'_id': ObjectId('60cda509229ae75786ebdba6'), 'name': 'Gagacity', 'area': 1000, 'potatolover': True}\n",
            "{'_id': ObjectId('60cda50f580c890ba8baa9d4'), 'name': 'Honululu', 'population': 'unknown'}\n",
            "{'_id': ObjectId('60cda50f580c890ba8baa9d5'), 'name': 'Pikachuland', 'capital': 'Townsville', 'potatolover': True}\n",
            "{'_id': ObjectId('60cda5284dff9fbb33ce0ae8'), 'name': 'Tonululu', 'population': 100, 'currency': 'Dollar'}\n",
            "{'_id': ObjectId('60cda5284dff9fbb33ce0ae9'), 'name': 'Gagacity', 'area': 1000, 'potatolover': True}\n",
            "{'_id': ObjectId('60cda54d791946c53a70d5ac'), 'name': 'Pikachuland', 'capital': 'Townsville', 'potatolover': True}\n",
            "{'_id': ObjectId('60cda55fbdc374793bc26636'), 'name': 'Honululu', 'population': 'unknown'}\n",
            "{'_id': ObjectId('60cda5601c1dfea23bd11a0f'), 'name': 'Tonululu', 'population': 100, 'currency': 'Dollar'}\n",
            "{'_id': ObjectId('60cda5601c1dfea23bd11a10'), 'name': 'Gagacity', 'area': 1000, 'potatolover': True}\n",
            "{'_id': ObjectId('60cda5676c85a32f381fbfe2'), 'name': 'Tonululu', 'population': 100, 'currency': 'Dollar'}\n",
            "{'_id': ObjectId('60cda5676c85a32f381fbfe3'), 'name': 'Gagacity', 'area': 1000, 'potatolover': True}\n",
            "{'_id': ObjectId('60cda5716c85a32f381fbfe4'), 'name': 'Tonululu', 'population': 100, 'currency': 'Dollar'}\n",
            "{'_id': ObjectId('60cda5716c85a32f381fbfe5'), 'name': 'Gagacity', 'area': 1000, 'potatolover': True}\n",
            "{'_id': ObjectId('60cda575e10d68777604cfe2'), 'name': 'Tonululu', 'population': 100, 'currency': 'Dollar'}\n",
            "{'_id': ObjectId('60cda575e10d68777604cfe3'), 'name': 'Gagacity', 'area': 1000, 'potatolover': True}\n",
            "{'_id': ObjectId('60cda5898f877eaf4fae064b'), 'name': 'Honululu', 'population': 'unknown'}\n",
            "{'_id': ObjectId('60cda58e8f877eaf4fae064c'), 'name': 'Honululu', 'population': 'unknown'}\n"
          ],
          "name": "stdout"
        }
      ]
    },
    {
      "cell_type": "code",
      "metadata": {
        "colab": {
          "base_uri": "https://localhost:8080/"
        },
        "id": "nZuInIBCT-Tt",
        "outputId": "3ed87115-d240-45ba-c3b5-c992068e039d"
      },
      "source": [
        "for x in myplanet.find({}, {\"_id\":0}):\n",
        "  print(x)"
      ],
      "execution_count": 27,
      "outputs": [
        {
          "output_type": "stream",
          "text": [
            "{'name': 'Honululu', 'population': 'unknown'}\n",
            "{'name': 'Honululu', 'population': 'unknown'}\n",
            "{'name': 'Honululu', 'population': 'unknown'}\n",
            "{'name': 'Honululu', 'population': 'unknown'}\n",
            "{'name': 'Honululu', 'population': 'unknown'}\n",
            "{'name': 'Honululu', 'population': 'unknown'}\n",
            "{'name': 'Honululu', 'population': 'unknown'}\n",
            "{'name': 'Honululu', 'population': 'unknown'}\n",
            "{'name': 'Honululu', 'population': 'unknown'}\n",
            "{'name': 'Honululu', 'population': 'unknown'}\n",
            "{'name': 'Honululu', 'population': 'unknown'}\n",
            "{'name': 'Honululu', 'population': 'unknown'}\n",
            "{'name': 'Honululu', 'population': 'unknown'}\n",
            "{'name': 'Pikachuland', 'capital': 'Townsville', 'potatolover': True}\n",
            "{'name': 'Honululu', 'population': 'unknown'}\n",
            "{'name': 'Pikachuland', 'capital': 'Townsville', 'potatolover': True}\n",
            "{'name': 'Pikachuland', 'capital': 'Townsville', 'potatolover': True}\n",
            "{'name': 'Pikachuland', 'capital': 'Townsville', 'potatolover': True}\n",
            "{'name': 'Pikachuland', 'capital': 'Townsville', 'potatolover': True}\n",
            "{'name': 'Pikachuland', 'capital': 'Townsville', 'potatolover': True}\n",
            "{'name': 'Pikachuland', 'capital': 'Townsville', 'potatolover': True}\n",
            "{'name': 'Pikachuland', 'capital': 'Townsville', 'potatolover': True}\n",
            "{'name': 'Pikachuland', 'capital': 'Townsville', 'potatolover': True}\n",
            "{'name': 'Pikachuland', 'capital': 'Townsville', 'potatolover': True}\n",
            "{'name': 'Pikachuland', 'capital': 'Townsville', 'potatolover': True}\n",
            "{'name': 'Honululu', 'population': 'unknown'}\n",
            "{'name': 'Pikachuland', 'capital': 'Townsville', 'potatolover': True}\n",
            "{'name': 'Honululu', 'population': 'unknown'}\n",
            "{'name': 'Pikachuland', 'capital': 'Townsville', 'potatolover': True}\n",
            "{'name': 'Tonululu', 'population': 100, 'currency': 'Dollar'}\n",
            "{'name': 'Gagacity', 'area': 1000, 'potatolover': True}\n",
            "{'name': 'Honululu', 'population': 'unknown'}\n",
            "{'name': 'Honululu', 'population': 'unknown'}\n",
            "{'name': 'Pikachuland', 'capital': 'Townsville', 'potatolover': True}\n",
            "{'name': 'Pikachuland', 'capital': 'Townsville', 'potatolover': True}\n",
            "{'name': 'Tonululu', 'population': 100, 'currency': 'Dollar'}\n",
            "{'name': 'Gagacity', 'area': 1000, 'potatolover': True}\n",
            "{'name': 'Tonululu', 'population': 100, 'currency': 'Dollar'}\n",
            "{'name': 'Gagacity', 'area': 1000, 'potatolover': True}\n",
            "{'name': 'Tonululu', 'population': 100, 'currency': 'Dollar'}\n",
            "{'name': 'Gagacity', 'area': 1000, 'potatolover': True}\n",
            "{'name': 'Tonululu', 'population': 100, 'currency': 'Dollar'}\n",
            "{'name': 'Gagacity', 'area': 1000, 'potatolover': True}\n",
            "{'name': 'Tonululu', 'population': 100, 'currency': 'Dollar'}\n",
            "{'name': 'Gagacity', 'area': 1000, 'potatolover': True}\n",
            "{'name': 'Honululu', 'population': 'unknown'}\n",
            "{'name': 'Pikachuland', 'capital': 'Townsville', 'potatolover': True}\n",
            "{'name': 'Tonululu', 'population': 100, 'currency': 'Dollar'}\n",
            "{'name': 'Gagacity', 'area': 1000, 'potatolover': True}\n",
            "{'name': 'Pikachuland', 'capital': 'Townsville', 'potatolover': True}\n",
            "{'name': 'Honululu', 'population': 'unknown'}\n",
            "{'name': 'Tonululu', 'population': 100, 'currency': 'Dollar'}\n",
            "{'name': 'Gagacity', 'area': 1000, 'potatolover': True}\n",
            "{'name': 'Tonululu', 'population': 100, 'currency': 'Dollar'}\n",
            "{'name': 'Gagacity', 'area': 1000, 'potatolover': True}\n",
            "{'name': 'Tonululu', 'population': 100, 'currency': 'Dollar'}\n",
            "{'name': 'Gagacity', 'area': 1000, 'potatolover': True}\n",
            "{'name': 'Tonululu', 'population': 100, 'currency': 'Dollar'}\n",
            "{'name': 'Gagacity', 'area': 1000, 'potatolover': True}\n",
            "{'name': 'Honululu', 'population': 'unknown'}\n",
            "{'name': 'Honululu', 'population': 'unknown'}\n",
            "{'name': 'Tonululu', 'population': 100, 'currency': 'Dollar'}\n",
            "{'name': 'Gagacity', 'area': 1000, 'potatolover': True}\n",
            "{'name': 'Pikachuland', 'capital': 'Townsville', 'potatolover': True}\n",
            "{'name': 'Tonululu', 'population': 100, 'currency': 'Dollar'}\n",
            "{'name': 'Gagacity', 'area': 1000, 'potatolover': True}\n",
            "{'name': 'Tonululu', 'population': 100, 'currency': 'Dollar'}\n",
            "{'name': 'Gagacity', 'area': 1000, 'potatolover': True}\n"
          ],
          "name": "stdout"
        }
      ]
    },
    {
      "cell_type": "code",
      "metadata": {
        "colab": {
          "base_uri": "https://localhost:8080/"
        },
        "id": "orppV89aVKdz",
        "outputId": "8a8d3011-b309-4889-9ab7-f636ee1ed885"
      },
      "source": [
        "for x in myplanet.find({}, {\"_id\":0,\"name\":1, \"potatolover\":1}):\n",
        "  print(x)"
      ],
      "execution_count": 28,
      "outputs": [
        {
          "output_type": "stream",
          "text": [
            "{'name': 'Honululu'}\n",
            "{'name': 'Honululu'}\n",
            "{'name': 'Honululu'}\n",
            "{'name': 'Honululu'}\n",
            "{'name': 'Honululu'}\n",
            "{'name': 'Honululu'}\n",
            "{'name': 'Honululu'}\n",
            "{'name': 'Honululu'}\n",
            "{'name': 'Honululu'}\n",
            "{'name': 'Honululu'}\n",
            "{'name': 'Honululu'}\n",
            "{'name': 'Honululu'}\n",
            "{'name': 'Honululu'}\n",
            "{'name': 'Pikachuland', 'potatolover': True}\n",
            "{'name': 'Honululu'}\n",
            "{'name': 'Pikachuland', 'potatolover': True}\n",
            "{'name': 'Pikachuland', 'potatolover': True}\n",
            "{'name': 'Pikachuland', 'potatolover': True}\n",
            "{'name': 'Pikachuland', 'potatolover': True}\n",
            "{'name': 'Pikachuland', 'potatolover': True}\n",
            "{'name': 'Pikachuland', 'potatolover': True}\n",
            "{'name': 'Pikachuland', 'potatolover': True}\n",
            "{'name': 'Pikachuland', 'potatolover': True}\n",
            "{'name': 'Pikachuland', 'potatolover': True}\n",
            "{'name': 'Pikachuland', 'potatolover': True}\n",
            "{'name': 'Honululu'}\n",
            "{'name': 'Pikachuland', 'potatolover': True}\n",
            "{'name': 'Honululu'}\n",
            "{'name': 'Pikachuland', 'potatolover': True}\n",
            "{'name': 'Tonululu'}\n",
            "{'name': 'Gagacity', 'potatolover': True}\n",
            "{'name': 'Honululu'}\n",
            "{'name': 'Honululu'}\n",
            "{'name': 'Pikachuland', 'potatolover': True}\n",
            "{'name': 'Pikachuland', 'potatolover': True}\n",
            "{'name': 'Tonululu'}\n",
            "{'name': 'Gagacity', 'potatolover': True}\n",
            "{'name': 'Tonululu'}\n",
            "{'name': 'Gagacity', 'potatolover': True}\n",
            "{'name': 'Tonululu'}\n",
            "{'name': 'Gagacity', 'potatolover': True}\n",
            "{'name': 'Tonululu'}\n",
            "{'name': 'Gagacity', 'potatolover': True}\n",
            "{'name': 'Tonululu'}\n",
            "{'name': 'Gagacity', 'potatolover': True}\n",
            "{'name': 'Honululu'}\n",
            "{'name': 'Pikachuland', 'potatolover': True}\n",
            "{'name': 'Tonululu'}\n",
            "{'name': 'Gagacity', 'potatolover': True}\n",
            "{'name': 'Pikachuland', 'potatolover': True}\n",
            "{'name': 'Honululu'}\n",
            "{'name': 'Tonululu'}\n",
            "{'name': 'Gagacity', 'potatolover': True}\n",
            "{'name': 'Tonululu'}\n",
            "{'name': 'Gagacity', 'potatolover': True}\n",
            "{'name': 'Tonululu'}\n",
            "{'name': 'Gagacity', 'potatolover': True}\n",
            "{'name': 'Tonululu'}\n",
            "{'name': 'Gagacity', 'potatolover': True}\n",
            "{'name': 'Honululu'}\n",
            "{'name': 'Honululu'}\n",
            "{'name': 'Tonululu'}\n",
            "{'name': 'Gagacity', 'potatolover': True}\n",
            "{'name': 'Pikachuland', 'potatolover': True}\n",
            "{'name': 'Tonululu'}\n",
            "{'name': 'Gagacity', 'potatolover': True}\n",
            "{'name': 'Tonululu'}\n",
            "{'name': 'Gagacity', 'potatolover': True}\n",
            "{'name': 'Tonululu'}\n",
            "{'name': 'Gagacity'}\n",
            "{'name': 'Tonululu'}\n",
            "{'name': 'Gagacity'}\n",
            "{'name': 'Tonululu'}\n",
            "{'name': 'Gagacity'}\n"
          ],
          "name": "stdout"
        }
      ]
    },
    {
      "cell_type": "code",
      "metadata": {
        "colab": {
          "base_uri": "https://localhost:8080/",
          "height": 381
        },
        "id": "_a1FsC12VlP_",
        "outputId": "9c49411d-fa85-44a0-a42f-55d60a572635"
      },
      "source": [
        "for x in myplanet.find({}, {\"_id\":0,\"name\":1, \"potatolover\":0}):\n",
        "  print(x)"
      ],
      "execution_count": 29,
      "outputs": [
        {
          "output_type": "error",
          "ename": "OperationFailure",
          "evalue": "ignored",
          "traceback": [
            "\u001b[0;31m---------------------------------------------------------------------------\u001b[0m",
            "\u001b[0;31mOperationFailure\u001b[0m                          Traceback (most recent call last)",
            "\u001b[0;32m<ipython-input-29-152aee8a1247>\u001b[0m in \u001b[0;36m<module>\u001b[0;34m()\u001b[0m\n\u001b[0;32m----> 1\u001b[0;31m \u001b[0;32mfor\u001b[0m \u001b[0mx\u001b[0m \u001b[0;32min\u001b[0m \u001b[0mmyplanet\u001b[0m\u001b[0;34m.\u001b[0m\u001b[0mfind\u001b[0m\u001b[0;34m(\u001b[0m\u001b[0;34m{\u001b[0m\u001b[0;34m}\u001b[0m\u001b[0;34m,\u001b[0m \u001b[0;34m{\u001b[0m\u001b[0;34m\"_id\"\u001b[0m\u001b[0;34m:\u001b[0m\u001b[0;36m0\u001b[0m\u001b[0;34m,\u001b[0m\u001b[0;34m\"name\"\u001b[0m\u001b[0;34m:\u001b[0m\u001b[0;36m1\u001b[0m\u001b[0;34m,\u001b[0m \u001b[0;34m\"potatolover\"\u001b[0m\u001b[0;34m:\u001b[0m\u001b[0;36m0\u001b[0m\u001b[0;34m}\u001b[0m\u001b[0;34m)\u001b[0m\u001b[0;34m:\u001b[0m\u001b[0;34m\u001b[0m\u001b[0;34m\u001b[0m\u001b[0m\n\u001b[0m\u001b[1;32m      2\u001b[0m   \u001b[0mprint\u001b[0m\u001b[0;34m(\u001b[0m\u001b[0mx\u001b[0m\u001b[0;34m)\u001b[0m\u001b[0;34m\u001b[0m\u001b[0;34m\u001b[0m\u001b[0m\n",
            "\u001b[0;32m/usr/local/lib/python3.7/dist-packages/pymongo/cursor.py\u001b[0m in \u001b[0;36mnext\u001b[0;34m(self)\u001b[0m\n\u001b[1;32m   1205\u001b[0m         \u001b[0;32mif\u001b[0m \u001b[0mself\u001b[0m\u001b[0;34m.\u001b[0m\u001b[0m__empty\u001b[0m\u001b[0;34m:\u001b[0m\u001b[0;34m\u001b[0m\u001b[0;34m\u001b[0m\u001b[0m\n\u001b[1;32m   1206\u001b[0m             \u001b[0;32mraise\u001b[0m \u001b[0mStopIteration\u001b[0m\u001b[0;34m\u001b[0m\u001b[0;34m\u001b[0m\u001b[0m\n\u001b[0;32m-> 1207\u001b[0;31m         \u001b[0;32mif\u001b[0m \u001b[0mlen\u001b[0m\u001b[0;34m(\u001b[0m\u001b[0mself\u001b[0m\u001b[0;34m.\u001b[0m\u001b[0m__data\u001b[0m\u001b[0;34m)\u001b[0m \u001b[0;32mor\u001b[0m \u001b[0mself\u001b[0m\u001b[0;34m.\u001b[0m\u001b[0m_refresh\u001b[0m\u001b[0;34m(\u001b[0m\u001b[0;34m)\u001b[0m\u001b[0;34m:\u001b[0m\u001b[0;34m\u001b[0m\u001b[0;34m\u001b[0m\u001b[0m\n\u001b[0m\u001b[1;32m   1208\u001b[0m             \u001b[0;32mif\u001b[0m \u001b[0mself\u001b[0m\u001b[0;34m.\u001b[0m\u001b[0m__manipulate\u001b[0m\u001b[0;34m:\u001b[0m\u001b[0;34m\u001b[0m\u001b[0;34m\u001b[0m\u001b[0m\n\u001b[1;32m   1209\u001b[0m                 \u001b[0m_db\u001b[0m \u001b[0;34m=\u001b[0m \u001b[0mself\u001b[0m\u001b[0;34m.\u001b[0m\u001b[0m__collection\u001b[0m\u001b[0;34m.\u001b[0m\u001b[0mdatabase\u001b[0m\u001b[0;34m\u001b[0m\u001b[0;34m\u001b[0m\u001b[0m\n",
            "\u001b[0;32m/usr/local/lib/python3.7/dist-packages/pymongo/cursor.py\u001b[0m in \u001b[0;36m_refresh\u001b[0;34m(self)\u001b[0m\n\u001b[1;32m   1122\u001b[0m                                   \u001b[0mself\u001b[0m\u001b[0;34m.\u001b[0m\u001b[0m__collection\u001b[0m\u001b[0;34m.\u001b[0m\u001b[0mdatabase\u001b[0m\u001b[0;34m.\u001b[0m\u001b[0mclient\u001b[0m\u001b[0;34m,\u001b[0m\u001b[0;34m\u001b[0m\u001b[0;34m\u001b[0m\u001b[0m\n\u001b[1;32m   1123\u001b[0m                                   self.__allow_disk_use)\n\u001b[0;32m-> 1124\u001b[0;31m             \u001b[0mself\u001b[0m\u001b[0;34m.\u001b[0m\u001b[0m__send_message\u001b[0m\u001b[0;34m(\u001b[0m\u001b[0mq\u001b[0m\u001b[0;34m)\u001b[0m\u001b[0;34m\u001b[0m\u001b[0;34m\u001b[0m\u001b[0m\n\u001b[0m\u001b[1;32m   1125\u001b[0m         \u001b[0;32melif\u001b[0m \u001b[0mself\u001b[0m\u001b[0;34m.\u001b[0m\u001b[0m__id\u001b[0m\u001b[0;34m:\u001b[0m  \u001b[0;31m# Get More\u001b[0m\u001b[0;34m\u001b[0m\u001b[0;34m\u001b[0m\u001b[0m\n\u001b[1;32m   1126\u001b[0m             \u001b[0;32mif\u001b[0m \u001b[0mself\u001b[0m\u001b[0;34m.\u001b[0m\u001b[0m__limit\u001b[0m\u001b[0;34m:\u001b[0m\u001b[0;34m\u001b[0m\u001b[0;34m\u001b[0m\u001b[0m\n",
            "\u001b[0;32m/usr/local/lib/python3.7/dist-packages/pymongo/cursor.py\u001b[0m in \u001b[0;36m__send_message\u001b[0;34m(self, operation)\u001b[0m\n\u001b[1;32m    999\u001b[0m             response = client._run_operation_with_response(\n\u001b[1;32m   1000\u001b[0m                 \u001b[0moperation\u001b[0m\u001b[0;34m,\u001b[0m \u001b[0mself\u001b[0m\u001b[0;34m.\u001b[0m\u001b[0m_unpack_response\u001b[0m\u001b[0;34m,\u001b[0m \u001b[0mexhaust\u001b[0m\u001b[0;34m=\u001b[0m\u001b[0mself\u001b[0m\u001b[0;34m.\u001b[0m\u001b[0m__exhaust\u001b[0m\u001b[0;34m,\u001b[0m\u001b[0;34m\u001b[0m\u001b[0;34m\u001b[0m\u001b[0m\n\u001b[0;32m-> 1001\u001b[0;31m                 address=self.__address)\n\u001b[0m\u001b[1;32m   1002\u001b[0m         \u001b[0;32mexcept\u001b[0m \u001b[0mOperationFailure\u001b[0m\u001b[0;34m:\u001b[0m\u001b[0;34m\u001b[0m\u001b[0;34m\u001b[0m\u001b[0m\n\u001b[1;32m   1003\u001b[0m             \u001b[0mself\u001b[0m\u001b[0;34m.\u001b[0m\u001b[0m__killed\u001b[0m \u001b[0;34m=\u001b[0m \u001b[0;32mTrue\u001b[0m\u001b[0;34m\u001b[0m\u001b[0;34m\u001b[0m\u001b[0m\n",
            "\u001b[0;32m/usr/local/lib/python3.7/dist-packages/pymongo/mongo_client.py\u001b[0m in \u001b[0;36m_run_operation_with_response\u001b[0;34m(self, operation, unpack_res, exhaust, address)\u001b[0m\n\u001b[1;32m   1370\u001b[0m             \u001b[0maddress\u001b[0m\u001b[0;34m=\u001b[0m\u001b[0maddress\u001b[0m\u001b[0;34m,\u001b[0m\u001b[0;34m\u001b[0m\u001b[0;34m\u001b[0m\u001b[0m\n\u001b[1;32m   1371\u001b[0m             \u001b[0mretryable\u001b[0m\u001b[0;34m=\u001b[0m\u001b[0misinstance\u001b[0m\u001b[0;34m(\u001b[0m\u001b[0moperation\u001b[0m\u001b[0;34m,\u001b[0m \u001b[0mmessage\u001b[0m\u001b[0;34m.\u001b[0m\u001b[0m_Query\u001b[0m\u001b[0;34m)\u001b[0m\u001b[0;34m,\u001b[0m\u001b[0;34m\u001b[0m\u001b[0;34m\u001b[0m\u001b[0m\n\u001b[0;32m-> 1372\u001b[0;31m             exhaust=exhaust)\n\u001b[0m\u001b[1;32m   1373\u001b[0m \u001b[0;34m\u001b[0m\u001b[0m\n\u001b[1;32m   1374\u001b[0m     \u001b[0;32mdef\u001b[0m \u001b[0m_retry_with_session\u001b[0m\u001b[0;34m(\u001b[0m\u001b[0mself\u001b[0m\u001b[0;34m,\u001b[0m \u001b[0mretryable\u001b[0m\u001b[0;34m,\u001b[0m \u001b[0mfunc\u001b[0m\u001b[0;34m,\u001b[0m \u001b[0msession\u001b[0m\u001b[0;34m,\u001b[0m \u001b[0mbulk\u001b[0m\u001b[0;34m)\u001b[0m\u001b[0;34m:\u001b[0m\u001b[0;34m\u001b[0m\u001b[0;34m\u001b[0m\u001b[0m\n",
            "\u001b[0;32m/usr/local/lib/python3.7/dist-packages/pymongo/mongo_client.py\u001b[0m in \u001b[0;36m_retryable_read\u001b[0;34m(self, func, read_pref, session, address, retryable, exhaust)\u001b[0m\n\u001b[1;32m   1469\u001b[0m                         \u001b[0;31m# not support retryable reads, raise the last error.\u001b[0m\u001b[0;34m\u001b[0m\u001b[0;34m\u001b[0m\u001b[0;34m\u001b[0m\u001b[0m\n\u001b[1;32m   1470\u001b[0m                         \u001b[0;32mraise\u001b[0m \u001b[0mlast_error\u001b[0m\u001b[0;34m\u001b[0m\u001b[0;34m\u001b[0m\u001b[0m\n\u001b[0;32m-> 1471\u001b[0;31m                     \u001b[0;32mreturn\u001b[0m \u001b[0mfunc\u001b[0m\u001b[0;34m(\u001b[0m\u001b[0msession\u001b[0m\u001b[0;34m,\u001b[0m \u001b[0mserver\u001b[0m\u001b[0;34m,\u001b[0m \u001b[0msock_info\u001b[0m\u001b[0;34m,\u001b[0m \u001b[0mslave_ok\u001b[0m\u001b[0;34m)\u001b[0m\u001b[0;34m\u001b[0m\u001b[0;34m\u001b[0m\u001b[0m\n\u001b[0m\u001b[1;32m   1472\u001b[0m             \u001b[0;32mexcept\u001b[0m \u001b[0mServerSelectionTimeoutError\u001b[0m\u001b[0;34m:\u001b[0m\u001b[0;34m\u001b[0m\u001b[0;34m\u001b[0m\u001b[0m\n\u001b[1;32m   1473\u001b[0m                 \u001b[0;32mif\u001b[0m \u001b[0mretrying\u001b[0m\u001b[0;34m:\u001b[0m\u001b[0;34m\u001b[0m\u001b[0;34m\u001b[0m\u001b[0m\n",
            "\u001b[0;32m/usr/local/lib/python3.7/dist-packages/pymongo/mongo_client.py\u001b[0m in \u001b[0;36m_cmd\u001b[0;34m(session, server, sock_info, slave_ok)\u001b[0m\n\u001b[1;32m   1364\u001b[0m                 \u001b[0mself\u001b[0m\u001b[0;34m.\u001b[0m\u001b[0m_event_listeners\u001b[0m\u001b[0;34m,\u001b[0m\u001b[0;34m\u001b[0m\u001b[0;34m\u001b[0m\u001b[0m\n\u001b[1;32m   1365\u001b[0m                 \u001b[0mexhaust\u001b[0m\u001b[0;34m,\u001b[0m\u001b[0;34m\u001b[0m\u001b[0;34m\u001b[0m\u001b[0m\n\u001b[0;32m-> 1366\u001b[0;31m                 unpack_res)\n\u001b[0m\u001b[1;32m   1367\u001b[0m \u001b[0;34m\u001b[0m\u001b[0m\n\u001b[1;32m   1368\u001b[0m         return self._retryable_read(\n",
            "\u001b[0;32m/usr/local/lib/python3.7/dist-packages/pymongo/server.py\u001b[0m in \u001b[0;36mrun_operation_with_response\u001b[0;34m(self, sock_info, operation, set_slave_okay, listeners, exhaust, unpack_res)\u001b[0m\n\u001b[1;32m    133\u001b[0m                 \u001b[0mfirst\u001b[0m \u001b[0;34m=\u001b[0m \u001b[0mdocs\u001b[0m\u001b[0;34m[\u001b[0m\u001b[0;36m0\u001b[0m\u001b[0;34m]\u001b[0m\u001b[0;34m\u001b[0m\u001b[0;34m\u001b[0m\u001b[0m\n\u001b[1;32m    134\u001b[0m                 \u001b[0moperation\u001b[0m\u001b[0;34m.\u001b[0m\u001b[0mclient\u001b[0m\u001b[0;34m.\u001b[0m\u001b[0m_process_response\u001b[0m\u001b[0;34m(\u001b[0m\u001b[0mfirst\u001b[0m\u001b[0;34m,\u001b[0m \u001b[0moperation\u001b[0m\u001b[0;34m.\u001b[0m\u001b[0msession\u001b[0m\u001b[0;34m)\u001b[0m\u001b[0;34m\u001b[0m\u001b[0;34m\u001b[0m\u001b[0m\n\u001b[0;32m--> 135\u001b[0;31m                 \u001b[0m_check_command_response\u001b[0m\u001b[0;34m(\u001b[0m\u001b[0mfirst\u001b[0m\u001b[0;34m,\u001b[0m \u001b[0msock_info\u001b[0m\u001b[0;34m.\u001b[0m\u001b[0mmax_wire_version\u001b[0m\u001b[0;34m)\u001b[0m\u001b[0;34m\u001b[0m\u001b[0;34m\u001b[0m\u001b[0m\n\u001b[0m\u001b[1;32m    136\u001b[0m         \u001b[0;32mexcept\u001b[0m \u001b[0mException\u001b[0m \u001b[0;32mas\u001b[0m \u001b[0mexc\u001b[0m\u001b[0;34m:\u001b[0m\u001b[0;34m\u001b[0m\u001b[0;34m\u001b[0m\u001b[0m\n\u001b[1;32m    137\u001b[0m             \u001b[0;32mif\u001b[0m \u001b[0mpublish\u001b[0m\u001b[0;34m:\u001b[0m\u001b[0;34m\u001b[0m\u001b[0;34m\u001b[0m\u001b[0m\n",
            "\u001b[0;32m/usr/local/lib/python3.7/dist-packages/pymongo/helpers.py\u001b[0m in \u001b[0;36m_check_command_response\u001b[0;34m(response, max_wire_version, allowable_errors, parse_write_concern_error)\u001b[0m\n\u001b[1;32m    162\u001b[0m         \u001b[0;32mraise\u001b[0m \u001b[0mCursorNotFound\u001b[0m\u001b[0;34m(\u001b[0m\u001b[0merrmsg\u001b[0m\u001b[0;34m,\u001b[0m \u001b[0mcode\u001b[0m\u001b[0;34m,\u001b[0m \u001b[0mresponse\u001b[0m\u001b[0;34m,\u001b[0m \u001b[0mmax_wire_version\u001b[0m\u001b[0;34m)\u001b[0m\u001b[0;34m\u001b[0m\u001b[0;34m\u001b[0m\u001b[0m\n\u001b[1;32m    163\u001b[0m \u001b[0;34m\u001b[0m\u001b[0m\n\u001b[0;32m--> 164\u001b[0;31m     \u001b[0;32mraise\u001b[0m \u001b[0mOperationFailure\u001b[0m\u001b[0;34m(\u001b[0m\u001b[0merrmsg\u001b[0m\u001b[0;34m,\u001b[0m \u001b[0mcode\u001b[0m\u001b[0;34m,\u001b[0m \u001b[0mresponse\u001b[0m\u001b[0;34m,\u001b[0m \u001b[0mmax_wire_version\u001b[0m\u001b[0;34m)\u001b[0m\u001b[0;34m\u001b[0m\u001b[0;34m\u001b[0m\u001b[0m\n\u001b[0m\u001b[1;32m    165\u001b[0m \u001b[0;34m\u001b[0m\u001b[0m\n\u001b[1;32m    166\u001b[0m \u001b[0;34m\u001b[0m\u001b[0m\n",
            "\u001b[0;31mOperationFailure\u001b[0m: Projection cannot have a mix of inclusion and exclusion, full error: {'ok': 0.0, 'errmsg': 'Projection cannot have a mix of inclusion and exclusion', 'code': 2, 'codeName': 'BadValue'}"
          ]
        }
      ]
    },
    {
      "cell_type": "code",
      "metadata": {
        "colab": {
          "base_uri": "https://localhost:8080/"
        },
        "id": "rkPXA4X9oVBO",
        "outputId": "b2e7650d-89b8-41c6-8695-a15632d08a74"
      },
      "source": [
        "search_doc = {'population':'unknown'}\n",
        "for x in myplanet.find(search_doc):\n",
        "  print(x)"
      ],
      "execution_count": 38,
      "outputs": [
        {
          "output_type": "stream",
          "text": [
            "{'_id': ObjectId('60cda0473fba09e53a806b44'), 'name': 'Honululu', 'population': 'unknown'}\n",
            "{'_id': ObjectId('60cda14c229ae75786ebdba3'), 'name': 'Honululu', 'population': 'unknown'}\n",
            "{'_id': ObjectId('60cda16629bab2bd7088883f'), 'name': 'Honululu', 'population': 'unknown'}\n",
            "{'_id': ObjectId('60cda16c09c55fb3c5700c1e'), 'name': 'Honululu', 'population': 'unknown'}\n",
            "{'_id': ObjectId('60cda173d516e62486a79940'), 'name': 'Honululu', 'population': 'unknown'}\n",
            "{'_id': ObjectId('60cda1957191267e5b546532'), 'name': 'Honululu', 'population': 'unknown'}\n",
            "{'_id': ObjectId('60cda1b0e10d68777604cfe0'), 'name': 'Honululu', 'population': 'unknown'}\n",
            "{'_id': ObjectId('60cda1d9529823e43872902a'), 'name': 'Honululu', 'population': 'unknown'}\n",
            "{'_id': ObjectId('60cda21cc1a604766b35b92c'), 'name': 'Honululu', 'population': 'unknown'}\n",
            "{'_id': ObjectId('60cda23556db064dac490b12'), 'name': 'Honululu', 'population': 'unknown'}\n",
            "{'_id': ObjectId('60cda2504b85f6a0002b4a98'), 'name': 'Honululu', 'population': 'unknown'}\n",
            "{'_id': ObjectId('60cda25a1c1dfea23bd11a0d'), 'name': 'Honululu', 'population': 'unknown'}\n",
            "{'_id': ObjectId('60cda2646c85a32f381fbfe0'), 'name': 'Honululu', 'population': 'unknown'}\n",
            "{'_id': ObjectId('60cda27d580c890ba8baa9d2'), 'name': 'Honululu', 'population': 'unknown'}\n",
            "{'_id': ObjectId('60cda3634dff9fbb33ce0ae6'), 'name': 'Honululu', 'population': 'unknown'}\n",
            "{'_id': ObjectId('60cda3ab1f2d2c42d8a82ffb'), 'name': 'Honululu', 'population': 'unknown'}\n",
            "{'_id': ObjectId('60cda428791946c53a70d5ab'), 'name': 'Honululu', 'population': 'unknown'}\n",
            "{'_id': ObjectId('60cda436e69ef63a405c6408'), 'name': 'Honululu', 'population': 'unknown'}\n",
            "{'_id': ObjectId('60cda50f580c890ba8baa9d4'), 'name': 'Honululu', 'population': 'unknown'}\n",
            "{'_id': ObjectId('60cda55fbdc374793bc26636'), 'name': 'Honululu', 'population': 'unknown'}\n",
            "{'_id': ObjectId('60cda5898f877eaf4fae064b'), 'name': 'Honululu', 'population': 'unknown'}\n",
            "{'_id': ObjectId('60cda58e8f877eaf4fae064c'), 'name': 'Honululu', 'population': 'unknown'}\n",
            "{'_id': ObjectId('60cdaa08c1a2cacbf3e07a3d'), 'name': 'Honululu', 'population': 'unknown'}\n",
            "{'_id': ObjectId('60cdbaa5e6bbfd3f7b72a715'), 'name': 'Honululu', 'population': 'unknown'}\n"
          ],
          "name": "stdout"
        }
      ]
    },
    {
      "cell_type": "code",
      "metadata": {
        "colab": {
          "base_uri": "https://localhost:8080/"
        },
        "id": "taNy7mNDoz5f",
        "outputId": "5e069850-bb65-4f1a-9551-6b9c7f06a630"
      },
      "source": [
        "search_doc = {'population':{\"$lt\":1000 } }\n",
        "for x in myplanet.find(search_doc):\n",
        "  print(x)"
      ],
      "execution_count": 39,
      "outputs": [
        {
          "output_type": "stream",
          "text": [
            "{'_id': ObjectId('60cda4263fba09e53a806b46'), 'name': 'Tonululu', 'population': 100, 'currency': 'Dollar'}\n",
            "{'_id': ObjectId('60cda4dc09c55fb3c5700c20'), 'name': 'Tonululu', 'population': 100, 'currency': 'Dollar'}\n",
            "{'_id': ObjectId('60cda4f2529823e43872902c'), 'name': 'Tonululu', 'population': 100, 'currency': 'Dollar'}\n",
            "{'_id': ObjectId('60cda4f4e69ef63a405c640a'), 'name': 'Tonululu', 'population': 100, 'currency': 'Dollar'}\n",
            "{'_id': ObjectId('60cda4f529bab2bd70888841'), 'name': 'Tonululu', 'population': 100, 'currency': 'Dollar'}\n",
            "{'_id': ObjectId('60cda509229ae75786ebdba5'), 'name': 'Tonululu', 'population': 100, 'currency': 'Dollar'}\n",
            "{'_id': ObjectId('60cda5284dff9fbb33ce0ae8'), 'name': 'Tonululu', 'population': 100, 'currency': 'Dollar'}\n",
            "{'_id': ObjectId('60cda5601c1dfea23bd11a0f'), 'name': 'Tonululu', 'population': 100, 'currency': 'Dollar'}\n",
            "{'_id': ObjectId('60cda5676c85a32f381fbfe2'), 'name': 'Tonululu', 'population': 100, 'currency': 'Dollar'}\n",
            "{'_id': ObjectId('60cda5716c85a32f381fbfe4'), 'name': 'Tonululu', 'population': 100, 'currency': 'Dollar'}\n",
            "{'_id': ObjectId('60cda575e10d68777604cfe2'), 'name': 'Tonululu', 'population': 100, 'currency': 'Dollar'}\n",
            "{'_id': ObjectId('60cda5a5791946c53a70d5ad'), 'name': 'Tonululu', 'population': 100, 'currency': 'Dollar'}\n",
            "{'_id': ObjectId('60cda5b8d516e62486a79942'), 'name': 'Tonululu', 'population': 100, 'currency': 'Dollar'}\n",
            "{'_id': ObjectId('60cda5bebdc374793bc26638'), 'name': 'Tonululu', 'population': 100, 'currency': 'Dollar'}\n",
            "{'_id': ObjectId('60cda6ce8f877eaf4fae064d'), 'name': 'Tonululu', 'population': 100, 'curreny': 'Dollar'}\n",
            "{'_id': ObjectId('60cda6d58f877eaf4fae064f'), 'name': 'Tonululu', 'population': 100, 'curreny': 'Dollar'}\n",
            "{'_id': ObjectId('60cda6da8f877eaf4fae0651'), 'name': 'Tonululu', 'population': 100, 'curreny': 'Dollar'}\n",
            "{'_id': ObjectId('60cda7a056db064dac490b14'), 'name': 'Tonululu', 'population': 100, 'currency': 'Dollar'}\n",
            "{'_id': ObjectId('60cdbab4e6bbfd3f7b72a717'), 'name': 'Tonululu', 'population': 100, 'currency': 'Dollar'}\n"
          ],
          "name": "stdout"
        }
      ]
    },
    {
      "cell_type": "code",
      "metadata": {
        "colab": {
          "base_uri": "https://localhost:8080/"
        },
        "id": "prE_il5KqlP5",
        "outputId": "03949bc3-f11e-4076-b78d-d4cc66ffe87e"
      },
      "source": [
        "search_doc = {'name':{\"$gt\":\"P\" } }\n",
        "for x in myplanet.find(search_doc):\n",
        "  print(x)"
      ],
      "execution_count": 40,
      "outputs": [
        {
          "output_type": "stream",
          "text": [
            "{'_id': ObjectId('60cda2753fba09e53a806b45'), 'name': 'Pikachuland', 'capital': 'Townsville', 'potatolover': True}\n",
            "{'_id': ObjectId('60cda2bce10d68777604cfe1'), 'name': 'Pikachuland', 'capital': 'Townsville', 'potatolover': True}\n",
            "{'_id': ObjectId('60cda2d909c55fb3c5700c1f'), 'name': 'Pikachuland', 'capital': 'Townsville', 'potatolover': True}\n",
            "{'_id': ObjectId('60cda2e729bab2bd70888840'), 'name': 'Pikachuland', 'capital': 'Townsville', 'potatolover': True}\n",
            "{'_id': ObjectId('60cda3127191267e5b546533'), 'name': 'Pikachuland', 'capital': 'Townsville', 'potatolover': True}\n",
            "{'_id': ObjectId('60cda319229ae75786ebdba4'), 'name': 'Pikachuland', 'capital': 'Townsville', 'potatolover': True}\n",
            "{'_id': ObjectId('60cda321529823e43872902b'), 'name': 'Pikachuland', 'capital': 'Townsville', 'potatolover': True}\n",
            "{'_id': ObjectId('60cda32d6c85a32f381fbfe1'), 'name': 'Pikachuland', 'capital': 'Townsville', 'potatolover': True}\n",
            "{'_id': ObjectId('60cda338d516e62486a79941'), 'name': 'Pikachuland', 'capital': 'Townsville', 'potatolover': True}\n",
            "{'_id': ObjectId('60cda33b580c890ba8baa9d3'), 'name': 'Pikachuland', 'capital': 'Townsville', 'potatolover': True}\n",
            "{'_id': ObjectId('60cda34956db064dac490b13'), 'name': 'Pikachuland', 'capital': 'Townsville', 'potatolover': True}\n",
            "{'_id': ObjectId('60cda38a4dff9fbb33ce0ae7'), 'name': 'Pikachuland', 'capital': 'Townsville', 'potatolover': True}\n",
            "{'_id': ObjectId('60cda4141c1dfea23bd11a0e'), 'name': 'Pikachuland', 'capital': 'Townsville', 'potatolover': True}\n",
            "{'_id': ObjectId('60cda4263fba09e53a806b46'), 'name': 'Tonululu', 'population': 100, 'currency': 'Dollar'}\n",
            "{'_id': ObjectId('60cda439c1a604766b35b92d'), 'name': 'Pikachuland', 'capital': 'Townsville', 'potatolover': True}\n",
            "{'_id': ObjectId('60cda454e69ef63a405c6409'), 'name': 'Pikachuland', 'capital': 'Townsville', 'potatolover': True}\n",
            "{'_id': ObjectId('60cda4dc09c55fb3c5700c20'), 'name': 'Tonululu', 'population': 100, 'currency': 'Dollar'}\n",
            "{'_id': ObjectId('60cda4f2529823e43872902c'), 'name': 'Tonululu', 'population': 100, 'currency': 'Dollar'}\n",
            "{'_id': ObjectId('60cda4f4e69ef63a405c640a'), 'name': 'Tonululu', 'population': 100, 'currency': 'Dollar'}\n",
            "{'_id': ObjectId('60cda4f529bab2bd70888841'), 'name': 'Tonululu', 'population': 100, 'currency': 'Dollar'}\n",
            "{'_id': ObjectId('60cda509229ae75786ebdba5'), 'name': 'Tonululu', 'population': 100, 'currency': 'Dollar'}\n",
            "{'_id': ObjectId('60cda50f580c890ba8baa9d5'), 'name': 'Pikachuland', 'capital': 'Townsville', 'potatolover': True}\n",
            "{'_id': ObjectId('60cda5284dff9fbb33ce0ae8'), 'name': 'Tonululu', 'population': 100, 'currency': 'Dollar'}\n",
            "{'_id': ObjectId('60cda54d791946c53a70d5ac'), 'name': 'Pikachuland', 'capital': 'Townsville', 'potatolover': True}\n",
            "{'_id': ObjectId('60cda5601c1dfea23bd11a0f'), 'name': 'Tonululu', 'population': 100, 'currency': 'Dollar'}\n",
            "{'_id': ObjectId('60cda5676c85a32f381fbfe2'), 'name': 'Tonululu', 'population': 100, 'currency': 'Dollar'}\n",
            "{'_id': ObjectId('60cda5716c85a32f381fbfe4'), 'name': 'Tonululu', 'population': 100, 'currency': 'Dollar'}\n",
            "{'_id': ObjectId('60cda575e10d68777604cfe2'), 'name': 'Tonululu', 'population': 100, 'currency': 'Dollar'}\n",
            "{'_id': ObjectId('60cda5a5791946c53a70d5ad'), 'name': 'Tonululu', 'population': 100, 'currency': 'Dollar'}\n",
            "{'_id': ObjectId('60cda5acbdc374793bc26637'), 'name': 'Pikachuland', 'capital': 'Townsville', 'potatolover': True}\n",
            "{'_id': ObjectId('60cda5b8d516e62486a79942'), 'name': 'Tonululu', 'population': 100, 'currency': 'Dollar'}\n",
            "{'_id': ObjectId('60cda5bebdc374793bc26638'), 'name': 'Tonululu', 'population': 100, 'currency': 'Dollar'}\n",
            "{'_id': ObjectId('60cda6ce8f877eaf4fae064d'), 'name': 'Tonululu', 'population': 100, 'curreny': 'Dollar'}\n",
            "{'_id': ObjectId('60cda6d58f877eaf4fae064f'), 'name': 'Tonululu', 'population': 100, 'curreny': 'Dollar'}\n",
            "{'_id': ObjectId('60cda6da8f877eaf4fae0651'), 'name': 'Tonululu', 'population': 100, 'curreny': 'Dollar'}\n",
            "{'_id': ObjectId('60cda7a056db064dac490b14'), 'name': 'Tonululu', 'population': 100, 'currency': 'Dollar'}\n",
            "{'_id': ObjectId('60cdbaa7e6bbfd3f7b72a716'), 'name': 'Pikachuland', 'capital': 'Townsville', 'potatolover': True}\n",
            "{'_id': ObjectId('60cdbab4e6bbfd3f7b72a717'), 'name': 'Tonululu', 'population': 100, 'currency': 'Dollar'}\n",
            "{'_id': ObjectId('60cdbbc8c1a604766b35b92e'), 'name': 'Tonululu', 'population': 100, 'currency': 'Dollar'}\n"
          ],
          "name": "stdout"
        }
      ]
    },
    {
      "cell_type": "code",
      "metadata": {
        "colab": {
          "base_uri": "https://localhost:8080/"
        },
        "id": "WX64B_lLq9NQ",
        "outputId": "39783301-b006-4630-dba5-05c0519b97b8"
      },
      "source": [
        "myquery = {'name':{\"$regex\":\"^P\" } }\n",
        "for x in myplanet.find(myquery):\n",
        "  print(x)"
      ],
      "execution_count": 42,
      "outputs": [
        {
          "output_type": "stream",
          "text": [
            "{'_id': ObjectId('60cda2753fba09e53a806b45'), 'name': 'Pikachuland', 'capital': 'Townsville', 'potatolover': True}\n",
            "{'_id': ObjectId('60cda2bce10d68777604cfe1'), 'name': 'Pikachuland', 'capital': 'Townsville', 'potatolover': True}\n",
            "{'_id': ObjectId('60cda2d909c55fb3c5700c1f'), 'name': 'Pikachuland', 'capital': 'Townsville', 'potatolover': True}\n",
            "{'_id': ObjectId('60cda2e729bab2bd70888840'), 'name': 'Pikachuland', 'capital': 'Townsville', 'potatolover': True}\n",
            "{'_id': ObjectId('60cda3127191267e5b546533'), 'name': 'Pikachuland', 'capital': 'Townsville', 'potatolover': True}\n",
            "{'_id': ObjectId('60cda319229ae75786ebdba4'), 'name': 'Pikachuland', 'capital': 'Townsville', 'potatolover': True}\n",
            "{'_id': ObjectId('60cda321529823e43872902b'), 'name': 'Pikachuland', 'capital': 'Townsville', 'potatolover': True}\n",
            "{'_id': ObjectId('60cda32d6c85a32f381fbfe1'), 'name': 'Pikachuland', 'capital': 'Townsville', 'potatolover': True}\n",
            "{'_id': ObjectId('60cda338d516e62486a79941'), 'name': 'Pikachuland', 'capital': 'Townsville', 'potatolover': True}\n",
            "{'_id': ObjectId('60cda33b580c890ba8baa9d3'), 'name': 'Pikachuland', 'capital': 'Townsville', 'potatolover': True}\n",
            "{'_id': ObjectId('60cda34956db064dac490b13'), 'name': 'Pikachuland', 'capital': 'Townsville', 'potatolover': True}\n",
            "{'_id': ObjectId('60cda38a4dff9fbb33ce0ae7'), 'name': 'Pikachuland', 'capital': 'Townsville', 'potatolover': True}\n",
            "{'_id': ObjectId('60cda4141c1dfea23bd11a0e'), 'name': 'Pikachuland', 'capital': 'Townsville', 'potatolover': True}\n",
            "{'_id': ObjectId('60cda439c1a604766b35b92d'), 'name': 'Pikachuland', 'capital': 'Townsville', 'potatolover': True}\n",
            "{'_id': ObjectId('60cda454e69ef63a405c6409'), 'name': 'Pikachuland', 'capital': 'Townsville', 'potatolover': True}\n",
            "{'_id': ObjectId('60cda50f580c890ba8baa9d5'), 'name': 'Pikachuland', 'capital': 'Townsville', 'potatolover': True}\n",
            "{'_id': ObjectId('60cda54d791946c53a70d5ac'), 'name': 'Pikachuland', 'capital': 'Townsville', 'potatolover': True}\n",
            "{'_id': ObjectId('60cda5acbdc374793bc26637'), 'name': 'Pikachuland', 'capital': 'Townsville', 'potatolover': True}\n",
            "{'_id': ObjectId('60cdbaa7e6bbfd3f7b72a716'), 'name': 'Pikachuland', 'capital': 'Townsville', 'potatolover': True}\n"
          ],
          "name": "stdout"
        }
      ]
    },
    {
      "cell_type": "code",
      "metadata": {
        "colab": {
          "base_uri": "https://localhost:8080/"
        },
        "id": "h3maqZ-NsGtl",
        "outputId": "c75bc932-7bf6-4b3e-b25e-0cb46a53ca33"
      },
      "source": [
        "searchfor= { \"name\" : \"Pikachuland\" }\n",
        "updatefor = {\"$set\": { \"population\":500, \"drama\": True } }\n",
        "\n",
        "myplanet.update_one(searchfor, updatefor)\n",
        "\n",
        "for place in myplanet.find():\n",
        "  print(place)"
      ],
      "execution_count": 44,
      "outputs": [
        {
          "output_type": "stream",
          "text": [
            "{'_id': ObjectId('60cda0473fba09e53a806b44'), 'name': 'Honululu', 'population': 'unknown'}\n",
            "{'_id': ObjectId('60cda14c229ae75786ebdba3'), 'name': 'Honululu', 'population': 'unknown'}\n",
            "{'_id': ObjectId('60cda16629bab2bd7088883f'), 'name': 'Honululu', 'population': 'unknown'}\n",
            "{'_id': ObjectId('60cda16c09c55fb3c5700c1e'), 'name': 'Honululu', 'population': 'unknown'}\n",
            "{'_id': ObjectId('60cda173d516e62486a79940'), 'name': 'Honululu', 'population': 'unknown'}\n",
            "{'_id': ObjectId('60cda1957191267e5b546532'), 'name': 'Honululu', 'population': 'unknown'}\n",
            "{'_id': ObjectId('60cda1b0e10d68777604cfe0'), 'name': 'Honululu', 'population': 'unknown'}\n",
            "{'_id': ObjectId('60cda1d9529823e43872902a'), 'name': 'Honululu', 'population': 'unknown'}\n",
            "{'_id': ObjectId('60cda21cc1a604766b35b92c'), 'name': 'Honululu', 'population': 'unknown'}\n",
            "{'_id': ObjectId('60cda23556db064dac490b12'), 'name': 'Honululu', 'population': 'unknown'}\n",
            "{'_id': ObjectId('60cda2504b85f6a0002b4a98'), 'name': 'Honululu', 'population': 'unknown'}\n",
            "{'_id': ObjectId('60cda25a1c1dfea23bd11a0d'), 'name': 'Honululu', 'population': 'unknown'}\n",
            "{'_id': ObjectId('60cda2646c85a32f381fbfe0'), 'name': 'Honululu', 'population': 'unknown'}\n",
            "{'_id': ObjectId('60cda2753fba09e53a806b45'), 'name': 'Pikachuland', 'capital': 'Townsville', 'potatolover': True, 'population': 500, 'drama': True}\n",
            "{'_id': ObjectId('60cda27d580c890ba8baa9d2'), 'name': 'Honululu', 'population': 'unknown'}\n",
            "{'_id': ObjectId('60cda2bce10d68777604cfe1'), 'name': 'Pikachuland', 'capital': 'Townsville', 'potatolover': True}\n",
            "{'_id': ObjectId('60cda2d909c55fb3c5700c1f'), 'name': 'Pikachuland', 'capital': 'Townsville', 'potatolover': True}\n",
            "{'_id': ObjectId('60cda2e729bab2bd70888840'), 'name': 'Pikachuland', 'capital': 'Townsville', 'potatolover': True}\n",
            "{'_id': ObjectId('60cda3127191267e5b546533'), 'name': 'Pikachuland', 'capital': 'Townsville', 'potatolover': True}\n",
            "{'_id': ObjectId('60cda319229ae75786ebdba4'), 'name': 'Pikachuland', 'capital': 'Townsville', 'potatolover': True}\n",
            "{'_id': ObjectId('60cda321529823e43872902b'), 'name': 'Pikachuland', 'capital': 'Townsville', 'potatolover': True}\n",
            "{'_id': ObjectId('60cda32d6c85a32f381fbfe1'), 'name': 'Pikachuland', 'capital': 'Townsville', 'potatolover': True}\n",
            "{'_id': ObjectId('60cda338d516e62486a79941'), 'name': 'Pikachuland', 'capital': 'Townsville', 'potatolover': True}\n",
            "{'_id': ObjectId('60cda33b580c890ba8baa9d3'), 'name': 'Pikachuland', 'capital': 'Townsville', 'potatolover': True}\n",
            "{'_id': ObjectId('60cda34956db064dac490b13'), 'name': 'Pikachuland', 'capital': 'Townsville', 'potatolover': True}\n",
            "{'_id': ObjectId('60cda3634dff9fbb33ce0ae6'), 'name': 'Honululu', 'population': 'unknown'}\n",
            "{'_id': ObjectId('60cda38a4dff9fbb33ce0ae7'), 'name': 'Pikachuland', 'capital': 'Townsville', 'potatolover': True}\n",
            "{'_id': ObjectId('60cda3ab1f2d2c42d8a82ffb'), 'name': 'Honululu', 'population': 'unknown'}\n",
            "{'_id': ObjectId('60cda4141c1dfea23bd11a0e'), 'name': 'Pikachuland', 'capital': 'Townsville', 'potatolover': True}\n",
            "{'_id': ObjectId('60cda4263fba09e53a806b46'), 'name': 'Tonululu', 'population': 100, 'currency': 'Dollar'}\n",
            "{'_id': ObjectId('60cda4263fba09e53a806b47'), 'name': 'Gagacity', 'area': 1000, 'potatolover': True}\n",
            "{'_id': ObjectId('60cda428791946c53a70d5ab'), 'name': 'Honululu', 'population': 'unknown'}\n",
            "{'_id': ObjectId('60cda436e69ef63a405c6408'), 'name': 'Honululu', 'population': 'unknown'}\n",
            "{'_id': ObjectId('60cda439c1a604766b35b92d'), 'name': 'Pikachuland', 'capital': 'Townsville', 'potatolover': True}\n",
            "{'_id': ObjectId('60cda454e69ef63a405c6409'), 'name': 'Pikachuland', 'capital': 'Townsville', 'potatolover': True}\n",
            "{'_id': ObjectId('60cda4dc09c55fb3c5700c20'), 'name': 'Tonululu', 'population': 100, 'currency': 'Dollar'}\n",
            "{'_id': ObjectId('60cda4dc09c55fb3c5700c21'), 'name': 'Gagacity', 'area': 1000, 'potatolover': True}\n",
            "{'_id': ObjectId('60cda4f2529823e43872902c'), 'name': 'Tonululu', 'population': 100, 'currency': 'Dollar'}\n",
            "{'_id': ObjectId('60cda4f2529823e43872902d'), 'name': 'Gagacity', 'area': 1000, 'potatolover': True}\n",
            "{'_id': ObjectId('60cda4f4e69ef63a405c640a'), 'name': 'Tonululu', 'population': 100, 'currency': 'Dollar'}\n",
            "{'_id': ObjectId('60cda4f4e69ef63a405c640b'), 'name': 'Gagacity', 'area': 1000, 'potatolover': True}\n",
            "{'_id': ObjectId('60cda4f529bab2bd70888841'), 'name': 'Tonululu', 'population': 100, 'currency': 'Dollar'}\n",
            "{'_id': ObjectId('60cda4f529bab2bd70888842'), 'name': 'Gagacity', 'area': 1000, 'potatolover': True}\n",
            "{'_id': ObjectId('60cda509229ae75786ebdba5'), 'name': 'Tonululu', 'population': 100, 'currency': 'Dollar'}\n",
            "{'_id': ObjectId('60cda509229ae75786ebdba6'), 'name': 'Gagacity', 'area': 1000, 'potatolover': True}\n",
            "{'_id': ObjectId('60cda50f580c890ba8baa9d4'), 'name': 'Honululu', 'population': 'unknown'}\n",
            "{'_id': ObjectId('60cda50f580c890ba8baa9d5'), 'name': 'Pikachuland', 'capital': 'Townsville', 'potatolover': True}\n",
            "{'_id': ObjectId('60cda5284dff9fbb33ce0ae8'), 'name': 'Tonululu', 'population': 100, 'currency': 'Dollar'}\n",
            "{'_id': ObjectId('60cda5284dff9fbb33ce0ae9'), 'name': 'Gagacity', 'area': 1000, 'potatolover': True}\n",
            "{'_id': ObjectId('60cda54d791946c53a70d5ac'), 'name': 'Pikachuland', 'capital': 'Townsville', 'potatolover': True}\n",
            "{'_id': ObjectId('60cda55fbdc374793bc26636'), 'name': 'Honululu', 'population': 'unknown'}\n",
            "{'_id': ObjectId('60cda5601c1dfea23bd11a0f'), 'name': 'Tonululu', 'population': 100, 'currency': 'Dollar'}\n",
            "{'_id': ObjectId('60cda5601c1dfea23bd11a10'), 'name': 'Gagacity', 'area': 1000, 'potatolover': True}\n",
            "{'_id': ObjectId('60cda5676c85a32f381fbfe2'), 'name': 'Tonululu', 'population': 100, 'currency': 'Dollar'}\n",
            "{'_id': ObjectId('60cda5676c85a32f381fbfe3'), 'name': 'Gagacity', 'area': 1000, 'potatolover': True}\n",
            "{'_id': ObjectId('60cda5716c85a32f381fbfe4'), 'name': 'Tonululu', 'population': 100, 'currency': 'Dollar'}\n",
            "{'_id': ObjectId('60cda5716c85a32f381fbfe5'), 'name': 'Gagacity', 'area': 1000, 'potatolover': True}\n",
            "{'_id': ObjectId('60cda575e10d68777604cfe2'), 'name': 'Tonululu', 'population': 100, 'currency': 'Dollar'}\n",
            "{'_id': ObjectId('60cda575e10d68777604cfe3'), 'name': 'Gagacity', 'area': 1000, 'potatolover': True}\n",
            "{'_id': ObjectId('60cda5898f877eaf4fae064b'), 'name': 'Honululu', 'population': 'unknown'}\n",
            "{'_id': ObjectId('60cda58e8f877eaf4fae064c'), 'name': 'Honululu', 'population': 'unknown'}\n",
            "{'_id': ObjectId('60cda5a5791946c53a70d5ad'), 'name': 'Tonululu', 'population': 100, 'currency': 'Dollar'}\n",
            "{'_id': ObjectId('60cda5a5791946c53a70d5ae'), 'name': 'Gagacity', 'area': 1000, 'potatolover': True}\n",
            "{'_id': ObjectId('60cda5acbdc374793bc26637'), 'name': 'Pikachuland', 'capital': 'Townsville', 'potatolover': True}\n",
            "{'_id': ObjectId('60cda5b8d516e62486a79942'), 'name': 'Tonululu', 'population': 100, 'currency': 'Dollar'}\n",
            "{'_id': ObjectId('60cda5b8d516e62486a79943'), 'name': 'Gagacity', 'area': 1000, 'potatolover': True}\n",
            "{'_id': ObjectId('60cda5bebdc374793bc26638'), 'name': 'Tonululu', 'population': 100, 'currency': 'Dollar'}\n",
            "{'_id': ObjectId('60cda5bebdc374793bc26639'), 'name': 'Gagacity', 'area': 1000, 'potatolover': True}\n",
            "{'_id': ObjectId('60cda6ce8f877eaf4fae064d'), 'name': 'Tonululu', 'population': 100, 'curreny': 'Dollar'}\n",
            "{'_id': ObjectId('60cda6ce8f877eaf4fae064e'), 'name': 'Gagacity', 'area': 1000}\n",
            "{'_id': ObjectId('60cda6d58f877eaf4fae064f'), 'name': 'Tonululu', 'population': 100, 'curreny': 'Dollar'}\n",
            "{'_id': ObjectId('60cda6d58f877eaf4fae0650'), 'name': 'Gagacity', 'area': 1000}\n",
            "{'_id': ObjectId('60cda6da8f877eaf4fae0651'), 'name': 'Tonululu', 'population': 100, 'curreny': 'Dollar'}\n",
            "{'_id': ObjectId('60cda6da8f877eaf4fae0652'), 'name': 'Gagacity', 'area': 1000}\n",
            "{'_id': ObjectId('60cda7a056db064dac490b14'), 'name': 'Tonululu', 'population': 100, 'currency': 'Dollar'}\n",
            "{'_id': ObjectId('60cda7a056db064dac490b15'), 'name': 'Gagacity', 'area': 1000, 'potatolover': True}\n",
            "{'_id': ObjectId('60cdaa08c1a2cacbf3e07a3d'), 'name': 'Honululu', 'population': 'unknown'}\n",
            "{'_id': ObjectId('60cdbaa5e6bbfd3f7b72a715'), 'name': 'Honululu', 'population': 'unknown'}\n",
            "{'_id': ObjectId('60cdbaa7e6bbfd3f7b72a716'), 'name': 'Pikachuland', 'capital': 'Townsville', 'potatolover': True}\n",
            "{'_id': ObjectId('60cdbab4e6bbfd3f7b72a717'), 'name': 'Tonululu', 'population': 100, 'currency': 'Dollar'}\n",
            "{'_id': ObjectId('60cdbab4e6bbfd3f7b72a718'), 'name': 'Gagacity', 'area': 1000, 'potatolover': True}\n",
            "{'_id': ObjectId('60cdbbc8c1a604766b35b92e'), 'name': 'Tonululu', 'population': 100, 'currency': 'Dollar'}\n",
            "{'_id': ObjectId('60cdbbc8c1a604766b35b92f'), 'name': 'Gagacity', 'area': 1000, 'potatolover': True}\n",
            "{'_id': ObjectId('60cdbdd7ba72977ae064957a'), 'name': 'Honululu', 'population': 'unknown'}\n",
            "{'_id': ObjectId('60cdbddbba72977ae064957b'), 'name': 'Pikachuland', 'capital': 'Townsville', 'potatolover': True}\n",
            "{'_id': ObjectId('60cdbde5ba72977ae064957c'), 'name': 'Tonululu', 'population': 100, 'currency': 'Dollar'}\n",
            "{'_id': ObjectId('60cdbde5ba72977ae064957d'), 'name': 'Gagacity', 'area': 1000, 'potatolover': True}\n"
          ],
          "name": "stdout"
        }
      ]
    },
    {
      "cell_type": "code",
      "metadata": {
        "colab": {
          "base_uri": "https://localhost:8080/"
        },
        "id": "CnIoJT_rtSmw",
        "outputId": "39de780b-bbbd-4f22-ffc4-c9c266eb0d19"
      },
      "source": [
        "searchfor= { \"name\" : { \"$regex\":\"^[HPTG]\"} }\n",
        "updatefor = {\"$set\": { \"lovesKetchup\":False} }\n",
        "\n",
        "x = myplanet.update_many(searchfor, updatefor)\n",
        "\n",
        "print(x.modified_count,\"Document updated.\")\n",
        "\n",
        "for place in myplanet.find():\n",
        "  print(place)"
      ],
      "execution_count": 46,
      "outputs": [
        {
          "output_type": "stream",
          "text": [
            "0 Document updated.\n",
            "{'_id': ObjectId('60cda0473fba09e53a806b44'), 'name': 'Honululu', 'population': 'unknown', 'lovesKetchup': False}\n",
            "{'_id': ObjectId('60cda14c229ae75786ebdba3'), 'name': 'Honululu', 'population': 'unknown', 'lovesKetchup': False}\n",
            "{'_id': ObjectId('60cda16629bab2bd7088883f'), 'name': 'Honululu', 'population': 'unknown', 'lovesKetchup': False}\n",
            "{'_id': ObjectId('60cda16c09c55fb3c5700c1e'), 'name': 'Honululu', 'population': 'unknown', 'lovesKetchup': False}\n",
            "{'_id': ObjectId('60cda173d516e62486a79940'), 'name': 'Honululu', 'population': 'unknown', 'lovesKetchup': False}\n",
            "{'_id': ObjectId('60cda1957191267e5b546532'), 'name': 'Honululu', 'population': 'unknown', 'lovesKetchup': False}\n",
            "{'_id': ObjectId('60cda1b0e10d68777604cfe0'), 'name': 'Honululu', 'population': 'unknown', 'lovesKetchup': False}\n",
            "{'_id': ObjectId('60cda1d9529823e43872902a'), 'name': 'Honululu', 'population': 'unknown', 'lovesKetchup': False}\n",
            "{'_id': ObjectId('60cda21cc1a604766b35b92c'), 'name': 'Honululu', 'population': 'unknown', 'lovesKetchup': False}\n",
            "{'_id': ObjectId('60cda23556db064dac490b12'), 'name': 'Honululu', 'population': 'unknown', 'lovesKetchup': False}\n",
            "{'_id': ObjectId('60cda2504b85f6a0002b4a98'), 'name': 'Honululu', 'population': 'unknown', 'lovesKetchup': False}\n",
            "{'_id': ObjectId('60cda25a1c1dfea23bd11a0d'), 'name': 'Honululu', 'population': 'unknown', 'lovesKetchup': False}\n",
            "{'_id': ObjectId('60cda2646c85a32f381fbfe0'), 'name': 'Honululu', 'population': 'unknown', 'lovesKetchup': False}\n",
            "{'_id': ObjectId('60cda2753fba09e53a806b45'), 'name': 'Pikachuland', 'capital': 'Townsville', 'potatolover': True, 'population': 500, 'drama': True, 'lovesKetchup': False}\n",
            "{'_id': ObjectId('60cda27d580c890ba8baa9d2'), 'name': 'Honululu', 'population': 'unknown', 'lovesKetchup': False}\n",
            "{'_id': ObjectId('60cda2bce10d68777604cfe1'), 'name': 'Pikachuland', 'capital': 'Townsville', 'potatolover': True, 'lovesKetchup': False}\n",
            "{'_id': ObjectId('60cda2d909c55fb3c5700c1f'), 'name': 'Pikachuland', 'capital': 'Townsville', 'potatolover': True, 'lovesKetchup': False}\n",
            "{'_id': ObjectId('60cda2e729bab2bd70888840'), 'name': 'Pikachuland', 'capital': 'Townsville', 'potatolover': True, 'lovesKetchup': False}\n",
            "{'_id': ObjectId('60cda3127191267e5b546533'), 'name': 'Pikachuland', 'capital': 'Townsville', 'potatolover': True, 'lovesKetchup': False}\n",
            "{'_id': ObjectId('60cda319229ae75786ebdba4'), 'name': 'Pikachuland', 'capital': 'Townsville', 'potatolover': True, 'lovesKetchup': False}\n",
            "{'_id': ObjectId('60cda321529823e43872902b'), 'name': 'Pikachuland', 'capital': 'Townsville', 'potatolover': True, 'lovesKetchup': False}\n",
            "{'_id': ObjectId('60cda32d6c85a32f381fbfe1'), 'name': 'Pikachuland', 'capital': 'Townsville', 'potatolover': True, 'lovesKetchup': False}\n",
            "{'_id': ObjectId('60cda338d516e62486a79941'), 'name': 'Pikachuland', 'capital': 'Townsville', 'potatolover': True, 'lovesKetchup': False}\n",
            "{'_id': ObjectId('60cda33b580c890ba8baa9d3'), 'name': 'Pikachuland', 'capital': 'Townsville', 'potatolover': True, 'lovesKetchup': False}\n",
            "{'_id': ObjectId('60cda34956db064dac490b13'), 'name': 'Pikachuland', 'capital': 'Townsville', 'potatolover': True, 'lovesKetchup': False}\n",
            "{'_id': ObjectId('60cda3634dff9fbb33ce0ae6'), 'name': 'Honululu', 'population': 'unknown', 'lovesKetchup': False}\n",
            "{'_id': ObjectId('60cda38a4dff9fbb33ce0ae7'), 'name': 'Pikachuland', 'capital': 'Townsville', 'potatolover': True, 'lovesKetchup': False}\n",
            "{'_id': ObjectId('60cda3ab1f2d2c42d8a82ffb'), 'name': 'Honululu', 'population': 'unknown', 'lovesKetchup': False}\n",
            "{'_id': ObjectId('60cda4141c1dfea23bd11a0e'), 'name': 'Pikachuland', 'capital': 'Townsville', 'potatolover': True, 'lovesKetchup': False}\n",
            "{'_id': ObjectId('60cda4263fba09e53a806b46'), 'name': 'Tonululu', 'population': 100, 'currency': 'Dollar', 'lovesKetchup': False}\n",
            "{'_id': ObjectId('60cda4263fba09e53a806b47'), 'name': 'Gagacity', 'area': 1000, 'potatolover': True, 'lovesKetchup': False}\n",
            "{'_id': ObjectId('60cda428791946c53a70d5ab'), 'name': 'Honululu', 'population': 'unknown', 'lovesKetchup': False}\n",
            "{'_id': ObjectId('60cda436e69ef63a405c6408'), 'name': 'Honululu', 'population': 'unknown', 'lovesKetchup': False}\n",
            "{'_id': ObjectId('60cda439c1a604766b35b92d'), 'name': 'Pikachuland', 'capital': 'Townsville', 'potatolover': True, 'lovesKetchup': False}\n",
            "{'_id': ObjectId('60cda454e69ef63a405c6409'), 'name': 'Pikachuland', 'capital': 'Townsville', 'potatolover': True, 'lovesKetchup': False}\n",
            "{'_id': ObjectId('60cda4dc09c55fb3c5700c20'), 'name': 'Tonululu', 'population': 100, 'currency': 'Dollar', 'lovesKetchup': False}\n",
            "{'_id': ObjectId('60cda4dc09c55fb3c5700c21'), 'name': 'Gagacity', 'area': 1000, 'potatolover': True, 'lovesKetchup': False}\n",
            "{'_id': ObjectId('60cda4f2529823e43872902c'), 'name': 'Tonululu', 'population': 100, 'currency': 'Dollar', 'lovesKetchup': False}\n",
            "{'_id': ObjectId('60cda4f2529823e43872902d'), 'name': 'Gagacity', 'area': 1000, 'potatolover': True, 'lovesKetchup': False}\n",
            "{'_id': ObjectId('60cda4f4e69ef63a405c640a'), 'name': 'Tonululu', 'population': 100, 'currency': 'Dollar', 'lovesKetchup': False}\n",
            "{'_id': ObjectId('60cda4f4e69ef63a405c640b'), 'name': 'Gagacity', 'area': 1000, 'potatolover': True, 'lovesKetchup': False}\n",
            "{'_id': ObjectId('60cda4f529bab2bd70888841'), 'name': 'Tonululu', 'population': 100, 'currency': 'Dollar', 'lovesKetchup': False}\n",
            "{'_id': ObjectId('60cda4f529bab2bd70888842'), 'name': 'Gagacity', 'area': 1000, 'potatolover': True, 'lovesKetchup': False}\n",
            "{'_id': ObjectId('60cda509229ae75786ebdba5'), 'name': 'Tonululu', 'population': 100, 'currency': 'Dollar', 'lovesKetchup': False}\n",
            "{'_id': ObjectId('60cda509229ae75786ebdba6'), 'name': 'Gagacity', 'area': 1000, 'potatolover': True, 'lovesKetchup': False}\n",
            "{'_id': ObjectId('60cda50f580c890ba8baa9d4'), 'name': 'Honululu', 'population': 'unknown', 'lovesKetchup': False}\n",
            "{'_id': ObjectId('60cda50f580c890ba8baa9d5'), 'name': 'Pikachuland', 'capital': 'Townsville', 'potatolover': True, 'lovesKetchup': False}\n",
            "{'_id': ObjectId('60cda5284dff9fbb33ce0ae8'), 'name': 'Tonululu', 'population': 100, 'currency': 'Dollar', 'lovesKetchup': False}\n",
            "{'_id': ObjectId('60cda5284dff9fbb33ce0ae9'), 'name': 'Gagacity', 'area': 1000, 'potatolover': True, 'lovesKetchup': False}\n",
            "{'_id': ObjectId('60cda54d791946c53a70d5ac'), 'name': 'Pikachuland', 'capital': 'Townsville', 'potatolover': True, 'lovesKetchup': False}\n",
            "{'_id': ObjectId('60cda55fbdc374793bc26636'), 'name': 'Honululu', 'population': 'unknown', 'lovesKetchup': False}\n",
            "{'_id': ObjectId('60cda5601c1dfea23bd11a0f'), 'name': 'Tonululu', 'population': 100, 'currency': 'Dollar', 'lovesKetchup': False}\n",
            "{'_id': ObjectId('60cda5601c1dfea23bd11a10'), 'name': 'Gagacity', 'area': 1000, 'potatolover': True, 'lovesKetchup': False}\n",
            "{'_id': ObjectId('60cda5676c85a32f381fbfe2'), 'name': 'Tonululu', 'population': 100, 'currency': 'Dollar', 'lovesKetchup': False}\n",
            "{'_id': ObjectId('60cda5676c85a32f381fbfe3'), 'name': 'Gagacity', 'area': 1000, 'potatolover': True, 'lovesKetchup': False}\n",
            "{'_id': ObjectId('60cda5716c85a32f381fbfe4'), 'name': 'Tonululu', 'population': 100, 'currency': 'Dollar', 'lovesKetchup': False}\n",
            "{'_id': ObjectId('60cda5716c85a32f381fbfe5'), 'name': 'Gagacity', 'area': 1000, 'potatolover': True, 'lovesKetchup': False}\n",
            "{'_id': ObjectId('60cda575e10d68777604cfe2'), 'name': 'Tonululu', 'population': 100, 'currency': 'Dollar', 'lovesKetchup': False}\n",
            "{'_id': ObjectId('60cda575e10d68777604cfe3'), 'name': 'Gagacity', 'area': 1000, 'potatolover': True, 'lovesKetchup': False}\n",
            "{'_id': ObjectId('60cda5898f877eaf4fae064b'), 'name': 'Honululu', 'population': 'unknown', 'lovesKetchup': False}\n",
            "{'_id': ObjectId('60cda58e8f877eaf4fae064c'), 'name': 'Honululu', 'population': 'unknown', 'lovesKetchup': False}\n",
            "{'_id': ObjectId('60cda5a5791946c53a70d5ad'), 'name': 'Tonululu', 'population': 100, 'currency': 'Dollar', 'lovesKetchup': False}\n",
            "{'_id': ObjectId('60cda5a5791946c53a70d5ae'), 'name': 'Gagacity', 'area': 1000, 'potatolover': True, 'lovesKetchup': False}\n",
            "{'_id': ObjectId('60cda5acbdc374793bc26637'), 'name': 'Pikachuland', 'capital': 'Townsville', 'potatolover': True, 'lovesKetchup': False}\n",
            "{'_id': ObjectId('60cda5b8d516e62486a79942'), 'name': 'Tonululu', 'population': 100, 'currency': 'Dollar', 'lovesKetchup': False}\n",
            "{'_id': ObjectId('60cda5b8d516e62486a79943'), 'name': 'Gagacity', 'area': 1000, 'potatolover': True, 'lovesKetchup': False}\n",
            "{'_id': ObjectId('60cda5bebdc374793bc26638'), 'name': 'Tonululu', 'population': 100, 'currency': 'Dollar', 'lovesKetchup': False}\n",
            "{'_id': ObjectId('60cda5bebdc374793bc26639'), 'name': 'Gagacity', 'area': 1000, 'potatolover': True, 'lovesKetchup': False}\n",
            "{'_id': ObjectId('60cda6ce8f877eaf4fae064d'), 'name': 'Tonululu', 'population': 100, 'curreny': 'Dollar', 'lovesKetchup': False}\n",
            "{'_id': ObjectId('60cda6ce8f877eaf4fae064e'), 'name': 'Gagacity', 'area': 1000, 'lovesKetchup': False}\n",
            "{'_id': ObjectId('60cda6d58f877eaf4fae064f'), 'name': 'Tonululu', 'population': 100, 'curreny': 'Dollar', 'lovesKetchup': False}\n",
            "{'_id': ObjectId('60cda6d58f877eaf4fae0650'), 'name': 'Gagacity', 'area': 1000, 'lovesKetchup': False}\n",
            "{'_id': ObjectId('60cda6da8f877eaf4fae0651'), 'name': 'Tonululu', 'population': 100, 'curreny': 'Dollar', 'lovesKetchup': False}\n",
            "{'_id': ObjectId('60cda6da8f877eaf4fae0652'), 'name': 'Gagacity', 'area': 1000, 'lovesKetchup': False}\n",
            "{'_id': ObjectId('60cda7a056db064dac490b14'), 'name': 'Tonululu', 'population': 100, 'currency': 'Dollar', 'lovesKetchup': False}\n",
            "{'_id': ObjectId('60cda7a056db064dac490b15'), 'name': 'Gagacity', 'area': 1000, 'potatolover': True, 'lovesKetchup': False}\n",
            "{'_id': ObjectId('60cdaa08c1a2cacbf3e07a3d'), 'name': 'Honululu', 'population': 'unknown', 'lovesKetchup': False}\n",
            "{'_id': ObjectId('60cdbaa5e6bbfd3f7b72a715'), 'name': 'Honululu', 'population': 'unknown', 'lovesKetchup': False}\n",
            "{'_id': ObjectId('60cdbaa7e6bbfd3f7b72a716'), 'name': 'Pikachuland', 'capital': 'Townsville', 'potatolover': True, 'lovesKetchup': False}\n",
            "{'_id': ObjectId('60cdbab4e6bbfd3f7b72a717'), 'name': 'Tonululu', 'population': 100, 'currency': 'Dollar', 'lovesKetchup': False}\n",
            "{'_id': ObjectId('60cdbab4e6bbfd3f7b72a718'), 'name': 'Gagacity', 'area': 1000, 'potatolover': True, 'lovesKetchup': False}\n",
            "{'_id': ObjectId('60cdbbc8c1a604766b35b92e'), 'name': 'Tonululu', 'population': 100, 'currency': 'Dollar', 'lovesKetchup': False}\n",
            "{'_id': ObjectId('60cdbbc8c1a604766b35b92f'), 'name': 'Gagacity', 'area': 1000, 'potatolover': True, 'lovesKetchup': False}\n",
            "{'_id': ObjectId('60cdbdd7ba72977ae064957a'), 'name': 'Honululu', 'population': 'unknown', 'lovesKetchup': False}\n",
            "{'_id': ObjectId('60cdbddbba72977ae064957b'), 'name': 'Pikachuland', 'capital': 'Townsville', 'potatolover': True, 'lovesKetchup': False}\n",
            "{'_id': ObjectId('60cdbde5ba72977ae064957c'), 'name': 'Tonululu', 'population': 100, 'currency': 'Dollar', 'lovesKetchup': False}\n",
            "{'_id': ObjectId('60cdbde5ba72977ae064957d'), 'name': 'Gagacity', 'area': 1000, 'potatolover': True, 'lovesKetchup': False}\n"
          ],
          "name": "stdout"
        }
      ]
    },
    {
      "cell_type": "code",
      "metadata": {
        "colab": {
          "base_uri": "https://localhost:8080/"
        },
        "id": "BM71FPvrvOXu",
        "outputId": "66e957f6-08d4-42dd-862f-7374daba8e69"
      },
      "source": [
        "for place in myplanet.find().limit(5):\n",
        "  print(place)"
      ],
      "execution_count": 48,
      "outputs": [
        {
          "output_type": "stream",
          "text": [
            "{'_id': ObjectId('60cda0473fba09e53a806b44'), 'name': 'Honululu', 'population': 'unknown', 'lovesKetchup': False, 'drama': True}\n",
            "{'_id': ObjectId('60cda14c229ae75786ebdba3'), 'name': 'Honululu', 'population': 'unknown', 'lovesKetchup': False, 'drama': True}\n",
            "{'_id': ObjectId('60cda16629bab2bd7088883f'), 'name': 'Honululu', 'population': 'unknown', 'lovesKetchup': False, 'drama': True}\n",
            "{'_id': ObjectId('60cda16c09c55fb3c5700c1e'), 'name': 'Honululu', 'population': 'unknown', 'lovesKetchup': False, 'drama': True}\n",
            "{'_id': ObjectId('60cda173d516e62486a79940'), 'name': 'Honululu', 'population': 'unknown', 'lovesKetchup': False, 'drama': True}\n"
          ],
          "name": "stdout"
        }
      ]
    },
    {
      "cell_type": "code",
      "metadata": {
        "colab": {
          "base_uri": "https://localhost:8080/"
        },
        "id": "X9VTf0M_veac",
        "outputId": "60c9e077-9b06-4798-b97d-e4f732603d37"
      },
      "source": [
        "import random\n",
        "\n",
        "def sendRandomNumbers():\n",
        "  return int(random.random()* 1000 )\n",
        "\n",
        "\n",
        "all_ids=[]\n",
        "\n",
        "for x in myplanet.find({\"name\":{\"$gt\":\"P\"}},{\"_id\":1, \"name\":1}):\n",
        "  all_ids.append(x)\n",
        "print(all_ids)"
      ],
      "execution_count": 52,
      "outputs": [
        {
          "output_type": "stream",
          "text": [
            "[{'_id': ObjectId('60cda2753fba09e53a806b45'), 'name': 'Pikachuland'}, {'_id': ObjectId('60cda2bce10d68777604cfe1'), 'name': 'Pikachuland'}, {'_id': ObjectId('60cda2d909c55fb3c5700c1f'), 'name': 'Pikachuland'}, {'_id': ObjectId('60cda2e729bab2bd70888840'), 'name': 'Pikachuland'}, {'_id': ObjectId('60cda3127191267e5b546533'), 'name': 'Pikachuland'}, {'_id': ObjectId('60cda319229ae75786ebdba4'), 'name': 'Pikachuland'}, {'_id': ObjectId('60cda321529823e43872902b'), 'name': 'Pikachuland'}, {'_id': ObjectId('60cda32d6c85a32f381fbfe1'), 'name': 'Pikachuland'}, {'_id': ObjectId('60cda338d516e62486a79941'), 'name': 'Pikachuland'}, {'_id': ObjectId('60cda33b580c890ba8baa9d3'), 'name': 'Pikachuland'}, {'_id': ObjectId('60cda34956db064dac490b13'), 'name': 'Pikachuland'}, {'_id': ObjectId('60cda38a4dff9fbb33ce0ae7'), 'name': 'Pikachuland'}, {'_id': ObjectId('60cda4141c1dfea23bd11a0e'), 'name': 'Pikachuland'}, {'_id': ObjectId('60cda4263fba09e53a806b46'), 'name': 'Tonululu'}, {'_id': ObjectId('60cda439c1a604766b35b92d'), 'name': 'Pikachuland'}, {'_id': ObjectId('60cda454e69ef63a405c6409'), 'name': 'Pikachuland'}, {'_id': ObjectId('60cda4dc09c55fb3c5700c20'), 'name': 'Tonululu'}, {'_id': ObjectId('60cda4f2529823e43872902c'), 'name': 'Tonululu'}, {'_id': ObjectId('60cda4f4e69ef63a405c640a'), 'name': 'Tonululu'}, {'_id': ObjectId('60cda4f529bab2bd70888841'), 'name': 'Tonululu'}, {'_id': ObjectId('60cda509229ae75786ebdba5'), 'name': 'Tonululu'}, {'_id': ObjectId('60cda50f580c890ba8baa9d5'), 'name': 'Pikachuland'}, {'_id': ObjectId('60cda5284dff9fbb33ce0ae8'), 'name': 'Tonululu'}, {'_id': ObjectId('60cda54d791946c53a70d5ac'), 'name': 'Pikachuland'}, {'_id': ObjectId('60cda5601c1dfea23bd11a0f'), 'name': 'Tonululu'}, {'_id': ObjectId('60cda5676c85a32f381fbfe2'), 'name': 'Tonululu'}, {'_id': ObjectId('60cda5716c85a32f381fbfe4'), 'name': 'Tonululu'}, {'_id': ObjectId('60cda575e10d68777604cfe2'), 'name': 'Tonululu'}, {'_id': ObjectId('60cda5a5791946c53a70d5ad'), 'name': 'Tonululu'}, {'_id': ObjectId('60cda5acbdc374793bc26637'), 'name': 'Pikachuland'}, {'_id': ObjectId('60cda5b8d516e62486a79942'), 'name': 'Tonululu'}, {'_id': ObjectId('60cda5bebdc374793bc26638'), 'name': 'Tonululu'}, {'_id': ObjectId('60cda6ce8f877eaf4fae064d'), 'name': 'Tonululu'}, {'_id': ObjectId('60cda6d58f877eaf4fae064f'), 'name': 'Tonululu'}, {'_id': ObjectId('60cda6da8f877eaf4fae0651'), 'name': 'Tonululu'}, {'_id': ObjectId('60cda7a056db064dac490b14'), 'name': 'Tonululu'}, {'_id': ObjectId('60cdbaa7e6bbfd3f7b72a716'), 'name': 'Pikachuland'}, {'_id': ObjectId('60cdbab4e6bbfd3f7b72a717'), 'name': 'Tonululu'}, {'_id': ObjectId('60cdbbc8c1a604766b35b92e'), 'name': 'Tonululu'}, {'_id': ObjectId('60cdbddbba72977ae064957b'), 'name': 'Pikachuland'}, {'_id': ObjectId('60cdbde5ba72977ae064957c'), 'name': 'Tonululu'}]\n"
          ],
          "name": "stdout"
        }
      ]
    },
    {
      "cell_type": "code",
      "metadata": {
        "colab": {
          "base_uri": "https://localhost:8080/"
        },
        "id": "wJ0DECVDwXiX",
        "outputId": "9aa7059a-d7d6-4d8f-a000-afc00e9a7eeb"
      },
      "source": [
        "for record in all_ids:\n",
        "  searchfor = { \"name\" : record[\"name\"]}\n",
        "  updatefor = {\"$set\": { \"population\": sendRandomNumbers() } }\n",
        "  print(searchfor)\n",
        "  res = myplanet.update_one(searchfor,updatefor)\n",
        "  print(res)"
      ],
      "execution_count": 55,
      "outputs": [
        {
          "output_type": "stream",
          "text": [
            "{'name': 'Pikachuland'}\n",
            "<pymongo.results.UpdateResult object at 0x7fdfefb9ef50>\n",
            "{'name': 'Pikachuland'}\n",
            "<pymongo.results.UpdateResult object at 0x7fdfefb9e0a0>\n",
            "{'name': 'Pikachuland'}\n",
            "<pymongo.results.UpdateResult object at 0x7fdfefb919b0>\n",
            "{'name': 'Pikachuland'}\n",
            "<pymongo.results.UpdateResult object at 0x7fdfefba2410>\n",
            "{'name': 'Pikachuland'}\n",
            "<pymongo.results.UpdateResult object at 0x7fdfefb91e10>\n",
            "{'name': 'Pikachuland'}\n",
            "<pymongo.results.UpdateResult object at 0x7fdfefba2f00>\n",
            "{'name': 'Pikachuland'}\n",
            "<pymongo.results.UpdateResult object at 0x7fdfefb9e9b0>\n",
            "{'name': 'Pikachuland'}\n",
            "<pymongo.results.UpdateResult object at 0x7fdfefb93690>\n",
            "{'name': 'Pikachuland'}\n",
            "<pymongo.results.UpdateResult object at 0x7fdfefb93870>\n",
            "{'name': 'Pikachuland'}\n",
            "<pymongo.results.UpdateResult object at 0x7fdfefc1baf0>\n",
            "{'name': 'Pikachuland'}\n",
            "<pymongo.results.UpdateResult object at 0x7fdff0c5ec80>\n",
            "{'name': 'Pikachuland'}\n",
            "<pymongo.results.UpdateResult object at 0x7fdfefbc03c0>\n",
            "{'name': 'Pikachuland'}\n",
            "<pymongo.results.UpdateResult object at 0x7fdfefba2410>\n",
            "{'name': 'Tonululu'}\n",
            "<pymongo.results.UpdateResult object at 0x7fdfefb9eaf0>\n",
            "{'name': 'Pikachuland'}\n",
            "<pymongo.results.UpdateResult object at 0x7fdfefc1c370>\n",
            "{'name': 'Pikachuland'}\n",
            "<pymongo.results.UpdateResult object at 0x7fdfefc1ceb0>\n",
            "{'name': 'Tonululu'}\n",
            "<pymongo.results.UpdateResult object at 0x7fdfefb93870>\n",
            "{'name': 'Tonululu'}\n",
            "<pymongo.results.UpdateResult object at 0x7fdff0ccbaf0>\n",
            "{'name': 'Tonululu'}\n",
            "<pymongo.results.UpdateResult object at 0x7fdfefba2f00>\n",
            "{'name': 'Tonululu'}\n",
            "<pymongo.results.UpdateResult object at 0x7fdfefc1ceb0>\n",
            "{'name': 'Tonululu'}\n",
            "<pymongo.results.UpdateResult object at 0x7fdfefc1c370>\n",
            "{'name': 'Pikachuland'}\n",
            "<pymongo.results.UpdateResult object at 0x7fdfefb8cbe0>\n",
            "{'name': 'Tonululu'}\n",
            "<pymongo.results.UpdateResult object at 0x7fdfefc1f460>\n",
            "{'name': 'Pikachuland'}\n",
            "<pymongo.results.UpdateResult object at 0x7fdfefc1ceb0>\n",
            "{'name': 'Tonululu'}\n",
            "<pymongo.results.UpdateResult object at 0x7fdfefc1c370>\n",
            "{'name': 'Tonululu'}\n",
            "<pymongo.results.UpdateResult object at 0x7fdfefbb9230>\n",
            "{'name': 'Tonululu'}\n",
            "<pymongo.results.UpdateResult object at 0x7fdfefba2410>\n",
            "{'name': 'Tonululu'}\n",
            "<pymongo.results.UpdateResult object at 0x7fdfefb8cbe0>\n",
            "{'name': 'Tonululu'}\n",
            "<pymongo.results.UpdateResult object at 0x7fdfefc1f460>\n",
            "{'name': 'Pikachuland'}\n",
            "<pymongo.results.UpdateResult object at 0x7fdfefbc0c30>\n",
            "{'name': 'Tonululu'}\n",
            "<pymongo.results.UpdateResult object at 0x7fdfefc09b40>\n",
            "{'name': 'Tonululu'}\n",
            "<pymongo.results.UpdateResult object at 0x7fdfefba25a0>\n",
            "{'name': 'Tonululu'}\n",
            "<pymongo.results.UpdateResult object at 0x7fdff0c5deb0>\n",
            "{'name': 'Tonululu'}\n",
            "<pymongo.results.UpdateResult object at 0x7fdfefbc0c30>\n",
            "{'name': 'Tonululu'}\n",
            "<pymongo.results.UpdateResult object at 0x7fdfefb93f50>\n",
            "{'name': 'Tonululu'}\n",
            "<pymongo.results.UpdateResult object at 0x7fdfefc1baf0>\n",
            "{'name': 'Pikachuland'}\n",
            "<pymongo.results.UpdateResult object at 0x7fdfefbb94b0>\n",
            "{'name': 'Tonululu'}\n",
            "<pymongo.results.UpdateResult object at 0x7fdfefbc0a50>\n",
            "{'name': 'Tonululu'}\n",
            "<pymongo.results.UpdateResult object at 0x7fdfefbb9dc0>\n",
            "{'name': 'Pikachuland'}\n",
            "<pymongo.results.UpdateResult object at 0x7fdff0c5deb0>\n",
            "{'name': 'Tonululu'}\n",
            "<pymongo.results.UpdateResult object at 0x7fdfefc204b0>\n"
          ],
          "name": "stdout"
        }
      ]
    },
    {
      "cell_type": "code",
      "metadata": {
        "colab": {
          "base_uri": "https://localhost:8080/"
        },
        "id": "blq92_ibxPuE",
        "outputId": "40365fd1-5b90-4c02-daa5-c64bf4c6e8d6"
      },
      "source": [
        "for place in myplanet.find():\n",
        "  print(place)"
      ],
      "execution_count": 56,
      "outputs": [
        {
          "output_type": "stream",
          "text": [
            "{'_id': ObjectId('60cda0473fba09e53a806b44'), 'name': 'Honululu', 'population': 'unknown', 'lovesKetchup': False, 'drama': True}\n",
            "{'_id': ObjectId('60cda14c229ae75786ebdba3'), 'name': 'Honululu', 'population': 'unknown', 'lovesKetchup': False, 'drama': True}\n",
            "{'_id': ObjectId('60cda16629bab2bd7088883f'), 'name': 'Honululu', 'population': 'unknown', 'lovesKetchup': False, 'drama': True}\n",
            "{'_id': ObjectId('60cda16c09c55fb3c5700c1e'), 'name': 'Honululu', 'population': 'unknown', 'lovesKetchup': False, 'drama': True}\n",
            "{'_id': ObjectId('60cda173d516e62486a79940'), 'name': 'Honululu', 'population': 'unknown', 'lovesKetchup': False, 'drama': True}\n",
            "{'_id': ObjectId('60cda1957191267e5b546532'), 'name': 'Honululu', 'population': 'unknown', 'lovesKetchup': False, 'drama': True}\n",
            "{'_id': ObjectId('60cda1b0e10d68777604cfe0'), 'name': 'Honululu', 'population': 'unknown', 'lovesKetchup': False, 'drama': True}\n",
            "{'_id': ObjectId('60cda1d9529823e43872902a'), 'name': 'Honululu', 'population': 'unknown', 'lovesKetchup': False, 'drama': True}\n",
            "{'_id': ObjectId('60cda21cc1a604766b35b92c'), 'name': 'Honululu', 'population': 'unknown', 'lovesKetchup': False, 'drama': True}\n",
            "{'_id': ObjectId('60cda23556db064dac490b12'), 'name': 'Honululu', 'population': 'unknown', 'lovesKetchup': False, 'drama': True}\n",
            "{'_id': ObjectId('60cda2504b85f6a0002b4a98'), 'name': 'Honululu', 'population': 'unknown', 'lovesKetchup': False, 'drama': True}\n",
            "{'_id': ObjectId('60cda25a1c1dfea23bd11a0d'), 'name': 'Honululu', 'population': 'unknown', 'lovesKetchup': False, 'drama': True}\n",
            "{'_id': ObjectId('60cda2646c85a32f381fbfe0'), 'name': 'Honululu', 'population': 'unknown', 'lovesKetchup': False, 'drama': True}\n",
            "{'_id': ObjectId('60cda2753fba09e53a806b45'), 'name': 'Pikachuland', 'capital': 'Townsville', 'potatolover': True, 'population': 488, 'drama': True, 'lovesKetchup': False}\n",
            "{'_id': ObjectId('60cda27d580c890ba8baa9d2'), 'name': 'Honululu', 'population': 'unknown', 'lovesKetchup': False, 'drama': True}\n",
            "{'_id': ObjectId('60cda2bce10d68777604cfe1'), 'name': 'Pikachuland', 'capital': 'Townsville', 'potatolover': True, 'lovesKetchup': False, 'drama': True}\n",
            "{'_id': ObjectId('60cda2d909c55fb3c5700c1f'), 'name': 'Pikachuland', 'capital': 'Townsville', 'potatolover': True, 'lovesKetchup': False, 'drama': True}\n",
            "{'_id': ObjectId('60cda2e729bab2bd70888840'), 'name': 'Pikachuland', 'capital': 'Townsville', 'potatolover': True, 'lovesKetchup': False, 'drama': True}\n",
            "{'_id': ObjectId('60cda3127191267e5b546533'), 'name': 'Pikachuland', 'capital': 'Townsville', 'potatolover': True, 'lovesKetchup': False, 'drama': True}\n",
            "{'_id': ObjectId('60cda319229ae75786ebdba4'), 'name': 'Pikachuland', 'capital': 'Townsville', 'potatolover': True, 'lovesKetchup': False, 'drama': True}\n",
            "{'_id': ObjectId('60cda321529823e43872902b'), 'name': 'Pikachuland', 'capital': 'Townsville', 'potatolover': True, 'lovesKetchup': False, 'drama': True}\n",
            "{'_id': ObjectId('60cda32d6c85a32f381fbfe1'), 'name': 'Pikachuland', 'capital': 'Townsville', 'potatolover': True, 'lovesKetchup': False, 'drama': True}\n",
            "{'_id': ObjectId('60cda338d516e62486a79941'), 'name': 'Pikachuland', 'capital': 'Townsville', 'potatolover': True, 'lovesKetchup': False, 'drama': True}\n",
            "{'_id': ObjectId('60cda33b580c890ba8baa9d3'), 'name': 'Pikachuland', 'capital': 'Townsville', 'potatolover': True, 'lovesKetchup': False, 'drama': True}\n",
            "{'_id': ObjectId('60cda34956db064dac490b13'), 'name': 'Pikachuland', 'capital': 'Townsville', 'potatolover': True, 'lovesKetchup': False, 'drama': True}\n",
            "{'_id': ObjectId('60cda3634dff9fbb33ce0ae6'), 'name': 'Honululu', 'population': 'unknown', 'lovesKetchup': False, 'drama': True}\n",
            "{'_id': ObjectId('60cda38a4dff9fbb33ce0ae7'), 'name': 'Pikachuland', 'capital': 'Townsville', 'potatolover': True, 'lovesKetchup': False, 'drama': True}\n",
            "{'_id': ObjectId('60cda3ab1f2d2c42d8a82ffb'), 'name': 'Honululu', 'population': 'unknown', 'lovesKetchup': False, 'drama': True}\n",
            "{'_id': ObjectId('60cda4141c1dfea23bd11a0e'), 'name': 'Pikachuland', 'capital': 'Townsville', 'potatolover': True, 'lovesKetchup': False, 'drama': True}\n",
            "{'_id': ObjectId('60cda4263fba09e53a806b46'), 'name': 'Tonululu', 'population': 835, 'currency': 'Dollar', 'lovesKetchup': False, 'drama': True}\n",
            "{'_id': ObjectId('60cda4263fba09e53a806b47'), 'name': 'Gagacity', 'area': 1000, 'potatolover': True, 'lovesKetchup': False, 'drama': True}\n",
            "{'_id': ObjectId('60cda428791946c53a70d5ab'), 'name': 'Honululu', 'population': 'unknown', 'lovesKetchup': False, 'drama': True}\n",
            "{'_id': ObjectId('60cda436e69ef63a405c6408'), 'name': 'Honululu', 'population': 'unknown', 'lovesKetchup': False, 'drama': True}\n",
            "{'_id': ObjectId('60cda439c1a604766b35b92d'), 'name': 'Pikachuland', 'capital': 'Townsville', 'potatolover': True, 'lovesKetchup': False, 'drama': True}\n",
            "{'_id': ObjectId('60cda454e69ef63a405c6409'), 'name': 'Pikachuland', 'capital': 'Townsville', 'potatolover': True, 'lovesKetchup': False, 'drama': True}\n",
            "{'_id': ObjectId('60cda4dc09c55fb3c5700c20'), 'name': 'Tonululu', 'population': 100, 'currency': 'Dollar', 'lovesKetchup': False, 'drama': True}\n",
            "{'_id': ObjectId('60cda4dc09c55fb3c5700c21'), 'name': 'Gagacity', 'area': 1000, 'potatolover': True, 'lovesKetchup': False, 'drama': True}\n",
            "{'_id': ObjectId('60cda4f2529823e43872902c'), 'name': 'Tonululu', 'population': 100, 'currency': 'Dollar', 'lovesKetchup': False, 'drama': True}\n",
            "{'_id': ObjectId('60cda4f2529823e43872902d'), 'name': 'Gagacity', 'area': 1000, 'potatolover': True, 'lovesKetchup': False, 'drama': True}\n",
            "{'_id': ObjectId('60cda4f4e69ef63a405c640a'), 'name': 'Tonululu', 'population': 100, 'currency': 'Dollar', 'lovesKetchup': False, 'drama': True}\n",
            "{'_id': ObjectId('60cda4f4e69ef63a405c640b'), 'name': 'Gagacity', 'area': 1000, 'potatolover': True, 'lovesKetchup': False, 'drama': True}\n",
            "{'_id': ObjectId('60cda4f529bab2bd70888841'), 'name': 'Tonululu', 'population': 100, 'currency': 'Dollar', 'lovesKetchup': False, 'drama': True}\n",
            "{'_id': ObjectId('60cda4f529bab2bd70888842'), 'name': 'Gagacity', 'area': 1000, 'potatolover': True, 'lovesKetchup': False, 'drama': True}\n",
            "{'_id': ObjectId('60cda509229ae75786ebdba5'), 'name': 'Tonululu', 'population': 100, 'currency': 'Dollar', 'lovesKetchup': False, 'drama': True}\n",
            "{'_id': ObjectId('60cda509229ae75786ebdba6'), 'name': 'Gagacity', 'area': 1000, 'potatolover': True, 'lovesKetchup': False, 'drama': True}\n",
            "{'_id': ObjectId('60cda50f580c890ba8baa9d4'), 'name': 'Honululu', 'population': 'unknown', 'lovesKetchup': False, 'drama': True}\n",
            "{'_id': ObjectId('60cda50f580c890ba8baa9d5'), 'name': 'Pikachuland', 'capital': 'Townsville', 'potatolover': True, 'lovesKetchup': False, 'drama': True}\n",
            "{'_id': ObjectId('60cda5284dff9fbb33ce0ae8'), 'name': 'Tonululu', 'population': 100, 'currency': 'Dollar', 'lovesKetchup': False, 'drama': True}\n",
            "{'_id': ObjectId('60cda5284dff9fbb33ce0ae9'), 'name': 'Gagacity', 'area': 1000, 'potatolover': True, 'lovesKetchup': False, 'drama': True}\n",
            "{'_id': ObjectId('60cda54d791946c53a70d5ac'), 'name': 'Pikachuland', 'capital': 'Townsville', 'potatolover': True, 'lovesKetchup': False, 'drama': True}\n",
            "{'_id': ObjectId('60cda55fbdc374793bc26636'), 'name': 'Honululu', 'population': 'unknown', 'lovesKetchup': False, 'drama': True}\n",
            "{'_id': ObjectId('60cda5601c1dfea23bd11a0f'), 'name': 'Tonululu', 'population': 100, 'currency': 'Dollar', 'lovesKetchup': False, 'drama': True}\n",
            "{'_id': ObjectId('60cda5601c1dfea23bd11a10'), 'name': 'Gagacity', 'area': 1000, 'potatolover': True, 'lovesKetchup': False, 'drama': True}\n",
            "{'_id': ObjectId('60cda5676c85a32f381fbfe2'), 'name': 'Tonululu', 'population': 100, 'currency': 'Dollar', 'lovesKetchup': False, 'drama': True}\n",
            "{'_id': ObjectId('60cda5676c85a32f381fbfe3'), 'name': 'Gagacity', 'area': 1000, 'potatolover': True, 'lovesKetchup': False, 'drama': True}\n",
            "{'_id': ObjectId('60cda5716c85a32f381fbfe4'), 'name': 'Tonululu', 'population': 100, 'currency': 'Dollar', 'lovesKetchup': False, 'drama': True}\n",
            "{'_id': ObjectId('60cda5716c85a32f381fbfe5'), 'name': 'Gagacity', 'area': 1000, 'potatolover': True, 'lovesKetchup': False, 'drama': True}\n",
            "{'_id': ObjectId('60cda575e10d68777604cfe2'), 'name': 'Tonululu', 'population': 100, 'currency': 'Dollar', 'lovesKetchup': False, 'drama': True}\n",
            "{'_id': ObjectId('60cda575e10d68777604cfe3'), 'name': 'Gagacity', 'area': 1000, 'potatolover': True, 'lovesKetchup': False, 'drama': True}\n",
            "{'_id': ObjectId('60cda5898f877eaf4fae064b'), 'name': 'Honululu', 'population': 'unknown', 'lovesKetchup': False, 'drama': True}\n",
            "{'_id': ObjectId('60cda58e8f877eaf4fae064c'), 'name': 'Honululu', 'population': 'unknown', 'lovesKetchup': False, 'drama': True}\n",
            "{'_id': ObjectId('60cda5a5791946c53a70d5ad'), 'name': 'Tonululu', 'population': 100, 'currency': 'Dollar', 'lovesKetchup': False, 'drama': True}\n",
            "{'_id': ObjectId('60cda5a5791946c53a70d5ae'), 'name': 'Gagacity', 'area': 1000, 'potatolover': True, 'lovesKetchup': False, 'drama': True}\n",
            "{'_id': ObjectId('60cda5acbdc374793bc26637'), 'name': 'Pikachuland', 'capital': 'Townsville', 'potatolover': True, 'lovesKetchup': False, 'drama': True}\n",
            "{'_id': ObjectId('60cda5b8d516e62486a79942'), 'name': 'Tonululu', 'population': 100, 'currency': 'Dollar', 'lovesKetchup': False, 'drama': True}\n",
            "{'_id': ObjectId('60cda5b8d516e62486a79943'), 'name': 'Gagacity', 'area': 1000, 'potatolover': True, 'lovesKetchup': False, 'drama': True}\n",
            "{'_id': ObjectId('60cda5bebdc374793bc26638'), 'name': 'Tonululu', 'population': 100, 'currency': 'Dollar', 'lovesKetchup': False, 'drama': True}\n",
            "{'_id': ObjectId('60cda5bebdc374793bc26639'), 'name': 'Gagacity', 'area': 1000, 'potatolover': True, 'lovesKetchup': False, 'drama': True}\n",
            "{'_id': ObjectId('60cda6ce8f877eaf4fae064d'), 'name': 'Tonululu', 'population': 100, 'curreny': 'Dollar', 'lovesKetchup': False, 'drama': True}\n",
            "{'_id': ObjectId('60cda6ce8f877eaf4fae064e'), 'name': 'Gagacity', 'area': 1000, 'lovesKetchup': False, 'drama': True}\n",
            "{'_id': ObjectId('60cda6d58f877eaf4fae064f'), 'name': 'Tonululu', 'population': 100, 'curreny': 'Dollar', 'lovesKetchup': False, 'drama': True}\n",
            "{'_id': ObjectId('60cda6d58f877eaf4fae0650'), 'name': 'Gagacity', 'area': 1000, 'lovesKetchup': False, 'drama': True}\n",
            "{'_id': ObjectId('60cda6da8f877eaf4fae0651'), 'name': 'Tonululu', 'population': 100, 'curreny': 'Dollar', 'lovesKetchup': False, 'drama': True}\n",
            "{'_id': ObjectId('60cda6da8f877eaf4fae0652'), 'name': 'Gagacity', 'area': 1000, 'lovesKetchup': False, 'drama': True}\n",
            "{'_id': ObjectId('60cda7a056db064dac490b14'), 'name': 'Tonululu', 'population': 100, 'currency': 'Dollar', 'lovesKetchup': False, 'drama': True}\n",
            "{'_id': ObjectId('60cda7a056db064dac490b15'), 'name': 'Gagacity', 'area': 1000, 'potatolover': True, 'lovesKetchup': False, 'drama': True}\n",
            "{'_id': ObjectId('60cdaa08c1a2cacbf3e07a3d'), 'name': 'Honululu', 'population': 'unknown', 'lovesKetchup': False, 'drama': True}\n",
            "{'_id': ObjectId('60cdbaa5e6bbfd3f7b72a715'), 'name': 'Honululu', 'population': 'unknown', 'lovesKetchup': False, 'drama': True}\n",
            "{'_id': ObjectId('60cdbaa7e6bbfd3f7b72a716'), 'name': 'Pikachuland', 'capital': 'Townsville', 'potatolover': True, 'lovesKetchup': False, 'drama': True}\n",
            "{'_id': ObjectId('60cdbab4e6bbfd3f7b72a717'), 'name': 'Tonululu', 'population': 100, 'currency': 'Dollar', 'lovesKetchup': False, 'drama': True}\n",
            "{'_id': ObjectId('60cdbab4e6bbfd3f7b72a718'), 'name': 'Gagacity', 'area': 1000, 'potatolover': True, 'lovesKetchup': False, 'drama': True}\n",
            "{'_id': ObjectId('60cdbbc8c1a604766b35b92e'), 'name': 'Tonululu', 'population': 100, 'currency': 'Dollar', 'lovesKetchup': False, 'drama': True}\n",
            "{'_id': ObjectId('60cdbbc8c1a604766b35b92f'), 'name': 'Gagacity', 'area': 1000, 'potatolover': True, 'lovesKetchup': False, 'drama': True}\n",
            "{'_id': ObjectId('60cdbdd7ba72977ae064957a'), 'name': 'Honululu', 'population': 'unknown', 'lovesKetchup': False, 'drama': True}\n",
            "{'_id': ObjectId('60cdbddbba72977ae064957b'), 'name': 'Pikachuland', 'capital': 'Townsville', 'potatolover': True, 'lovesKetchup': False, 'drama': True}\n",
            "{'_id': ObjectId('60cdbde5ba72977ae064957c'), 'name': 'Tonululu', 'population': 100, 'currency': 'Dollar', 'lovesKetchup': False, 'drama': True}\n",
            "{'_id': ObjectId('60cdbde5ba72977ae064957d'), 'name': 'Gagacity', 'area': 1000, 'potatolover': True, 'lovesKetchup': False, 'drama': True}\n"
          ],
          "name": "stdout"
        }
      ]
    }
  ]
}