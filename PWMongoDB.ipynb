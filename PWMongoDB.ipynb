{
  "nbformat": 4,
  "nbformat_minor": 0,
  "metadata": {
    "colab": {
      "name": "PWMongoDB.ipynb",
      "provenance": [],
      "authorship_tag": "ABX9TyPWmEM+1GTzdzuIKabMyyRH",
      "include_colab_link": true
    },
    "kernelspec": {
      "name": "python3",
      "display_name": "Python 3"
    },
    "language_info": {
      "name": "python"
    }
  },
  "cells": [
    {
      "cell_type": "markdown",
      "metadata": {
        "id": "view-in-github",
        "colab_type": "text"
      },
      "source": [
        "<a href=\"https://colab.research.google.com/github/DeepanshuPasrija/PW19June/blob/main/PWMongoDB.ipynb\" target=\"_parent\"><img src=\"https://colab.research.google.com/assets/colab-badge.svg\" alt=\"Open In Colab\"/></a>"
      ]
    },
    {
      "cell_type": "code",
      "metadata": {
        "id": "ZvKFBwXVMpTV"
      },
      "source": [
        "import pymongo"
      ],
      "execution_count": 2,
      "outputs": []
    },
    {
      "cell_type": "code",
      "metadata": {
        "id": "cg8tbhIVNGYz"
      },
      "source": [
        "uri=\"mongodb://mosmoscosmos:2G1hQt1Nu4j6UEK50QKkHd5EsmbGLgjaep0GG4wmtrI1guPHGAdv9VQL3j8Wj4PajLIvIdx54jyezQLNXkHJCw==@mosmoscosmos.mongo.cosmos.azure.com:10255/?ssl=true&replicaSet=globaldb&retrywrites=false&maxIdleTimeMS=120000&appName=@mosmoscosmos@\"\n",
        "myclient = pymongo.MongoClient(uri)\n",
        "mydb = myclient[\"multiverse\"]"
      ],
      "execution_count": 3,
      "outputs": []
    },
    {
      "cell_type": "code",
      "metadata": {
        "colab": {
          "base_uri": "https://localhost:8080/"
        },
        "id": "S7KmufGrNW6L",
        "outputId": "9578c361-bd05-49d8-8143-de4036840e0e"
      },
      "source": [
        "dblist = myclient.list_database_names()\n",
        "if \"multiverse\" in dblist:\n",
        "  print(\"The datbaase is present\")\n",
        "else:\n",
        "  print(\"No database\")"
      ],
      "execution_count": 9,
      "outputs": [
        {
          "output_type": "stream",
          "text": [
            "The datbaase is present\n"
          ],
          "name": "stdout"
        }
      ]
    },
    {
      "cell_type": "code",
      "metadata": {
        "colab": {
          "base_uri": "https://localhost:8080/"
        },
        "id": "S2ETCezSNqX2",
        "outputId": "e703b295-fc2b-443c-f726-540a80e8cb79"
      },
      "source": [
        "print(myclient.list_database_names())"
      ],
      "execution_count": 10,
      "outputs": [
        {
          "output_type": "stream",
          "text": [
            "['universe', 'multiverse']\n"
          ],
          "name": "stdout"
        }
      ]
    },
    {
      "cell_type": "code",
      "metadata": {
        "id": "jQ_kP7dIN2UB"
      },
      "source": [
        "myplanet= mydb['earth']"
      ],
      "execution_count": 7,
      "outputs": []
    },
    {
      "cell_type": "code",
      "metadata": {
        "colab": {
          "base_uri": "https://localhost:8080/"
        },
        "id": "kZ5IHTp4OAIG",
        "outputId": "37f3b306-81e8-4398-af83-129d841bfae4"
      },
      "source": [
        "country1={\n",
        "    \"name\":\"Honululu\",\n",
        "    \"population\":\"unknown\"\n",
        "}\n",
        "country2={\n",
        "    \"name\":\"Pikachuland\",\n",
        "    \"capital\":\"Townsville\",\n",
        "    \"potatolover\": True\n",
        "}\n",
        "myplanet.insert_one(country1)"
      ],
      "execution_count": 8,
      "outputs": [
        {
          "output_type": "execute_result",
          "data": {
            "text/plain": [
              "<pymongo.results.InsertOneResult at 0x7fdff22a0280>"
            ]
          },
          "metadata": {
            "tags": []
          },
          "execution_count": 8
        }
      ]
    },
    {
      "cell_type": "code",
      "metadata": {
        "colab": {
          "base_uri": "https://localhost:8080/"
        },
        "id": "PXRfBEtzQilB",
        "outputId": "911f6b2f-4711-4d17-a146-be24a9cf9e04"
      },
      "source": [
        "x = myplanet.insert_one(country2)\n",
        "x"
      ],
      "execution_count": 11,
      "outputs": [
        {
          "output_type": "execute_result",
          "data": {
            "text/plain": [
              "<pymongo.results.InsertOneResult at 0x7fdff0d2fb40>"
            ]
          },
          "metadata": {
            "tags": []
          },
          "execution_count": 11
        }
      ]
    },
    {
      "cell_type": "code",
      "metadata": {
        "colab": {
          "base_uri": "https://localhost:8080/"
        },
        "id": "OcWt9GqwQvTH",
        "outputId": "4e311677-d9f6-4d81-b39b-0b6ccc26eadd"
      },
      "source": [
        "print(dir(x))"
      ],
      "execution_count": 12,
      "outputs": [
        {
          "output_type": "stream",
          "text": [
            "['_InsertOneResult__acknowledged', '_InsertOneResult__inserted_id', '_WriteResult__acknowledged', '__class__', '__delattr__', '__dir__', '__doc__', '__eq__', '__format__', '__ge__', '__getattribute__', '__gt__', '__hash__', '__init__', '__init_subclass__', '__le__', '__lt__', '__module__', '__ne__', '__new__', '__reduce__', '__reduce_ex__', '__repr__', '__setattr__', '__sizeof__', '__slots__', '__str__', '__subclasshook__', '_raise_if_unacknowledged', 'acknowledged', 'inserted_id']\n"
          ],
          "name": "stdout"
        }
      ]
    },
    {
      "cell_type": "code",
      "metadata": {
        "colab": {
          "base_uri": "https://localhost:8080/"
        },
        "id": "ehEuTlK-Q1ne",
        "outputId": "a6380957-ce0e-4e5e-fdfd-6d86f5bfb73d"
      },
      "source": [
        "x.inserted_id"
      ],
      "execution_count": 13,
      "outputs": [
        {
          "output_type": "execute_result",
          "data": {
            "text/plain": [
              "ObjectId('60cda2753fba09e53a806b45')"
            ]
          },
          "metadata": {
            "tags": []
          },
          "execution_count": 13
        }
      ]
    },
    {
      "cell_type": "code",
      "metadata": {
        "id": "etttttRyRy1f"
      },
      "source": [
        "countries = [{\n",
        "    \"name\":\"Tonululu\",\n",
        "    \"population\":100,\n",
        "    \"currency\":\"Dollar\"\n",
        "},{\n",
        "    \"name\":\"Gagacity\",\n",
        "    \"area\":1000,\n",
        "    \"potatolover\": True\n",
        "}]\n",
        "x = myplanet.insert_many(countries)"
      ],
      "execution_count": 17,
      "outputs": []
    },
    {
      "cell_type": "code",
      "metadata": {
        "colab": {
          "base_uri": "https://localhost:8080/"
        },
        "id": "Cg2QbRIUSIpr",
        "outputId": "f991fc6d-c4ed-4960-cef5-92729e13bde8"
      },
      "source": [
        "x.inserted_ids\n"
      ],
      "execution_count": 19,
      "outputs": [
        {
          "output_type": "execute_result",
          "data": {
            "text/plain": [
              "[ObjectId('60cda4263fba09e53a806b46'), ObjectId('60cda4263fba09e53a806b47')]"
            ]
          },
          "metadata": {
            "tags": []
          },
          "execution_count": 19
        }
      ]
    },
    {
      "cell_type": "code",
      "metadata": {
        "id": "YjB-V50rSeB5"
      },
      "source": [
        "x = myplanet.find_one()"
      ],
      "execution_count": 23,
      "outputs": []
    },
    {
      "cell_type": "code",
      "metadata": {
        "colab": {
          "base_uri": "https://localhost:8080/"
        },
        "id": "381tu1vjSm3k",
        "outputId": "757902d3-045d-4777-8e1d-f0551ca51f65"
      },
      "source": [
        "x"
      ],
      "execution_count": 24,
      "outputs": [
        {
          "output_type": "execute_result",
          "data": {
            "text/plain": [
              "{'_id': ObjectId('60cda0473fba09e53a806b44'),\n",
              " 'name': 'Honululu',\n",
              " 'population': 'unknown'}"
            ]
          },
          "metadata": {
            "tags": []
          },
          "execution_count": 24
        }
      ]
    },
    {
      "cell_type": "code",
      "metadata": {
        "colab": {
          "base_uri": "https://localhost:8080/"
        },
        "id": "Q63MKJTUS2dR",
        "outputId": "51a3f5c9-d972-490c-f332-dfaf3cf9daf0"
      },
      "source": [
        "for x in myplanet.find():\n",
        "  print(x)"
      ],
      "execution_count": 25,
      "outputs": [
        {
          "output_type": "stream",
          "text": [
            "{'_id': ObjectId('60cda0473fba09e53a806b44'), 'name': 'Honululu', 'population': 'unknown'}\n",
            "{'_id': ObjectId('60cda14c229ae75786ebdba3'), 'name': 'Honululu', 'population': 'unknown'}\n",
            "{'_id': ObjectId('60cda16629bab2bd7088883f'), 'name': 'Honululu', 'population': 'unknown'}\n",
            "{'_id': ObjectId('60cda16c09c55fb3c5700c1e'), 'name': 'Honululu', 'population': 'unknown'}\n",
            "{'_id': ObjectId('60cda173d516e62486a79940'), 'name': 'Honululu', 'population': 'unknown'}\n",
            "{'_id': ObjectId('60cda1957191267e5b546532'), 'name': 'Honululu', 'population': 'unknown'}\n",
            "{'_id': ObjectId('60cda1b0e10d68777604cfe0'), 'name': 'Honululu', 'population': 'unknown'}\n",
            "{'_id': ObjectId('60cda1d9529823e43872902a'), 'name': 'Honululu', 'population': 'unknown'}\n",
            "{'_id': ObjectId('60cda21cc1a604766b35b92c'), 'name': 'Honululu', 'population': 'unknown'}\n",
            "{'_id': ObjectId('60cda23556db064dac490b12'), 'name': 'Honululu', 'population': 'unknown'}\n",
            "{'_id': ObjectId('60cda2504b85f6a0002b4a98'), 'name': 'Honululu', 'population': 'unknown'}\n",
            "{'_id': ObjectId('60cda25a1c1dfea23bd11a0d'), 'name': 'Honululu', 'population': 'unknown'}\n",
            "{'_id': ObjectId('60cda2646c85a32f381fbfe0'), 'name': 'Honululu', 'population': 'unknown'}\n",
            "{'_id': ObjectId('60cda2753fba09e53a806b45'), 'name': 'Pikachuland', 'capital': 'Townsville', 'potatolover': True}\n",
            "{'_id': ObjectId('60cda27d580c890ba8baa9d2'), 'name': 'Honululu', 'population': 'unknown'}\n",
            "{'_id': ObjectId('60cda2bce10d68777604cfe1'), 'name': 'Pikachuland', 'capital': 'Townsville', 'potatolover': True}\n",
            "{'_id': ObjectId('60cda2d909c55fb3c5700c1f'), 'name': 'Pikachuland', 'capital': 'Townsville', 'potatolover': True}\n",
            "{'_id': ObjectId('60cda2e729bab2bd70888840'), 'name': 'Pikachuland', 'capital': 'Townsville', 'potatolover': True}\n",
            "{'_id': ObjectId('60cda3127191267e5b546533'), 'name': 'Pikachuland', 'capital': 'Townsville', 'potatolover': True}\n",
            "{'_id': ObjectId('60cda319229ae75786ebdba4'), 'name': 'Pikachuland', 'capital': 'Townsville', 'potatolover': True}\n",
            "{'_id': ObjectId('60cda321529823e43872902b'), 'name': 'Pikachuland', 'capital': 'Townsville', 'potatolover': True}\n",
            "{'_id': ObjectId('60cda32d6c85a32f381fbfe1'), 'name': 'Pikachuland', 'capital': 'Townsville', 'potatolover': True}\n",
            "{'_id': ObjectId('60cda338d516e62486a79941'), 'name': 'Pikachuland', 'capital': 'Townsville', 'potatolover': True}\n",
            "{'_id': ObjectId('60cda33b580c890ba8baa9d3'), 'name': 'Pikachuland', 'capital': 'Townsville', 'potatolover': True}\n",
            "{'_id': ObjectId('60cda34956db064dac490b13'), 'name': 'Pikachuland', 'capital': 'Townsville', 'potatolover': True}\n",
            "{'_id': ObjectId('60cda3634dff9fbb33ce0ae6'), 'name': 'Honululu', 'population': 'unknown'}\n",
            "{'_id': ObjectId('60cda38a4dff9fbb33ce0ae7'), 'name': 'Pikachuland', 'capital': 'Townsville', 'potatolover': True}\n",
            "{'_id': ObjectId('60cda3ab1f2d2c42d8a82ffb'), 'name': 'Honululu', 'population': 'unknown'}\n",
            "{'_id': ObjectId('60cda4141c1dfea23bd11a0e'), 'name': 'Pikachuland', 'capital': 'Townsville', 'potatolover': True}\n",
            "{'_id': ObjectId('60cda4263fba09e53a806b46'), 'name': 'Tonululu', 'population': 100, 'currency': 'Dollar'}\n",
            "{'_id': ObjectId('60cda4263fba09e53a806b47'), 'name': 'Gagacity', 'area': 1000, 'potatolover': True}\n",
            "{'_id': ObjectId('60cda428791946c53a70d5ab'), 'name': 'Honululu', 'population': 'unknown'}\n",
            "{'_id': ObjectId('60cda436e69ef63a405c6408'), 'name': 'Honululu', 'population': 'unknown'}\n",
            "{'_id': ObjectId('60cda439c1a604766b35b92d'), 'name': 'Pikachuland', 'capital': 'Townsville', 'potatolover': True}\n",
            "{'_id': ObjectId('60cda454e69ef63a405c6409'), 'name': 'Pikachuland', 'capital': 'Townsville', 'potatolover': True}\n",
            "{'_id': ObjectId('60cda4dc09c55fb3c5700c20'), 'name': 'Tonululu', 'population': 100, 'currency': 'Dollar'}\n",
            "{'_id': ObjectId('60cda4dc09c55fb3c5700c21'), 'name': 'Gagacity', 'area': 1000, 'potatolover': True}\n",
            "{'_id': ObjectId('60cda4f2529823e43872902c'), 'name': 'Tonululu', 'population': 100, 'currency': 'Dollar'}\n",
            "{'_id': ObjectId('60cda4f2529823e43872902d'), 'name': 'Gagacity', 'area': 1000, 'potatolover': True}\n",
            "{'_id': ObjectId('60cda4f4e69ef63a405c640a'), 'name': 'Tonululu', 'population': 100, 'currency': 'Dollar'}\n",
            "{'_id': ObjectId('60cda4f4e69ef63a405c640b'), 'name': 'Gagacity', 'area': 1000, 'potatolover': True}\n",
            "{'_id': ObjectId('60cda4f529bab2bd70888841'), 'name': 'Tonululu', 'population': 100, 'currency': 'Dollar'}\n",
            "{'_id': ObjectId('60cda4f529bab2bd70888842'), 'name': 'Gagacity', 'area': 1000, 'potatolover': True}\n",
            "{'_id': ObjectId('60cda509229ae75786ebdba5'), 'name': 'Tonululu', 'population': 100, 'currency': 'Dollar'}\n",
            "{'_id': ObjectId('60cda509229ae75786ebdba6'), 'name': 'Gagacity', 'area': 1000, 'potatolover': True}\n",
            "{'_id': ObjectId('60cda50f580c890ba8baa9d4'), 'name': 'Honululu', 'population': 'unknown'}\n",
            "{'_id': ObjectId('60cda50f580c890ba8baa9d5'), 'name': 'Pikachuland', 'capital': 'Townsville', 'potatolover': True}\n",
            "{'_id': ObjectId('60cda5284dff9fbb33ce0ae8'), 'name': 'Tonululu', 'population': 100, 'currency': 'Dollar'}\n",
            "{'_id': ObjectId('60cda5284dff9fbb33ce0ae9'), 'name': 'Gagacity', 'area': 1000, 'potatolover': True}\n",
            "{'_id': ObjectId('60cda54d791946c53a70d5ac'), 'name': 'Pikachuland', 'capital': 'Townsville', 'potatolover': True}\n",
            "{'_id': ObjectId('60cda55fbdc374793bc26636'), 'name': 'Honululu', 'population': 'unknown'}\n",
            "{'_id': ObjectId('60cda5601c1dfea23bd11a0f'), 'name': 'Tonululu', 'population': 100, 'currency': 'Dollar'}\n",
            "{'_id': ObjectId('60cda5601c1dfea23bd11a10'), 'name': 'Gagacity', 'area': 1000, 'potatolover': True}\n",
            "{'_id': ObjectId('60cda5676c85a32f381fbfe2'), 'name': 'Tonululu', 'population': 100, 'currency': 'Dollar'}\n",
            "{'_id': ObjectId('60cda5676c85a32f381fbfe3'), 'name': 'Gagacity', 'area': 1000, 'potatolover': True}\n",
            "{'_id': ObjectId('60cda5716c85a32f381fbfe4'), 'name': 'Tonululu', 'population': 100, 'currency': 'Dollar'}\n",
            "{'_id': ObjectId('60cda5716c85a32f381fbfe5'), 'name': 'Gagacity', 'area': 1000, 'potatolover': True}\n",
            "{'_id': ObjectId('60cda575e10d68777604cfe2'), 'name': 'Tonululu', 'population': 100, 'currency': 'Dollar'}\n",
            "{'_id': ObjectId('60cda575e10d68777604cfe3'), 'name': 'Gagacity', 'area': 1000, 'potatolover': True}\n",
            "{'_id': ObjectId('60cda5898f877eaf4fae064b'), 'name': 'Honululu', 'population': 'unknown'}\n",
            "{'_id': ObjectId('60cda58e8f877eaf4fae064c'), 'name': 'Honululu', 'population': 'unknown'}\n"
          ],
          "name": "stdout"
        }
      ]
    },
    {
      "cell_type": "code",
      "metadata": {
        "colab": {
          "base_uri": "https://localhost:8080/"
        },
        "id": "nZuInIBCT-Tt",
        "outputId": "3ed87115-d240-45ba-c3b5-c992068e039d"
      },
      "source": [
        "for x in myplanet.find({}, {\"_id\":0}):\n",
        "  print(x)"
      ],
      "execution_count": 27,
      "outputs": [
        {
          "output_type": "stream",
          "text": [
            "{'name': 'Honululu', 'population': 'unknown'}\n",
            "{'name': 'Honululu', 'population': 'unknown'}\n",
            "{'name': 'Honululu', 'population': 'unknown'}\n",
            "{'name': 'Honululu', 'population': 'unknown'}\n",
            "{'name': 'Honululu', 'population': 'unknown'}\n",
            "{'name': 'Honululu', 'population': 'unknown'}\n",
            "{'name': 'Honululu', 'population': 'unknown'}\n",
            "{'name': 'Honululu', 'population': 'unknown'}\n",
            "{'name': 'Honululu', 'population': 'unknown'}\n",
            "{'name': 'Honululu', 'population': 'unknown'}\n",
            "{'name': 'Honululu', 'population': 'unknown'}\n",
            "{'name': 'Honululu', 'population': 'unknown'}\n",
            "{'name': 'Honululu', 'population': 'unknown'}\n",
            "{'name': 'Pikachuland', 'capital': 'Townsville', 'potatolover': True}\n",
            "{'name': 'Honululu', 'population': 'unknown'}\n",
            "{'name': 'Pikachuland', 'capital': 'Townsville', 'potatolover': True}\n",
            "{'name': 'Pikachuland', 'capital': 'Townsville', 'potatolover': True}\n",
            "{'name': 'Pikachuland', 'capital': 'Townsville', 'potatolover': True}\n",
            "{'name': 'Pikachuland', 'capital': 'Townsville', 'potatolover': True}\n",
            "{'name': 'Pikachuland', 'capital': 'Townsville', 'potatolover': True}\n",
            "{'name': 'Pikachuland', 'capital': 'Townsville', 'potatolover': True}\n",
            "{'name': 'Pikachuland', 'capital': 'Townsville', 'potatolover': True}\n",
            "{'name': 'Pikachuland', 'capital': 'Townsville', 'potatolover': True}\n",
            "{'name': 'Pikachuland', 'capital': 'Townsville', 'potatolover': True}\n",
            "{'name': 'Pikachuland', 'capital': 'Townsville', 'potatolover': True}\n",
            "{'name': 'Honululu', 'population': 'unknown'}\n",
            "{'name': 'Pikachuland', 'capital': 'Townsville', 'potatolover': True}\n",
            "{'name': 'Honululu', 'population': 'unknown'}\n",
            "{'name': 'Pikachuland', 'capital': 'Townsville', 'potatolover': True}\n",
            "{'name': 'Tonululu', 'population': 100, 'currency': 'Dollar'}\n",
            "{'name': 'Gagacity', 'area': 1000, 'potatolover': True}\n",
            "{'name': 'Honululu', 'population': 'unknown'}\n",
            "{'name': 'Honululu', 'population': 'unknown'}\n",
            "{'name': 'Pikachuland', 'capital': 'Townsville', 'potatolover': True}\n",
            "{'name': 'Pikachuland', 'capital': 'Townsville', 'potatolover': True}\n",
            "{'name': 'Tonululu', 'population': 100, 'currency': 'Dollar'}\n",
            "{'name': 'Gagacity', 'area': 1000, 'potatolover': True}\n",
            "{'name': 'Tonululu', 'population': 100, 'currency': 'Dollar'}\n",
            "{'name': 'Gagacity', 'area': 1000, 'potatolover': True}\n",
            "{'name': 'Tonululu', 'population': 100, 'currency': 'Dollar'}\n",
            "{'name': 'Gagacity', 'area': 1000, 'potatolover': True}\n",
            "{'name': 'Tonululu', 'population': 100, 'currency': 'Dollar'}\n",
            "{'name': 'Gagacity', 'area': 1000, 'potatolover': True}\n",
            "{'name': 'Tonululu', 'population': 100, 'currency': 'Dollar'}\n",
            "{'name': 'Gagacity', 'area': 1000, 'potatolover': True}\n",
            "{'name': 'Honululu', 'population': 'unknown'}\n",
            "{'name': 'Pikachuland', 'capital': 'Townsville', 'potatolover': True}\n",
            "{'name': 'Tonululu', 'population': 100, 'currency': 'Dollar'}\n",
            "{'name': 'Gagacity', 'area': 1000, 'potatolover': True}\n",
            "{'name': 'Pikachuland', 'capital': 'Townsville', 'potatolover': True}\n",
            "{'name': 'Honululu', 'population': 'unknown'}\n",
            "{'name': 'Tonululu', 'population': 100, 'currency': 'Dollar'}\n",
            "{'name': 'Gagacity', 'area': 1000, 'potatolover': True}\n",
            "{'name': 'Tonululu', 'population': 100, 'currency': 'Dollar'}\n",
            "{'name': 'Gagacity', 'area': 1000, 'potatolover': True}\n",
            "{'name': 'Tonululu', 'population': 100, 'currency': 'Dollar'}\n",
            "{'name': 'Gagacity', 'area': 1000, 'potatolover': True}\n",
            "{'name': 'Tonululu', 'population': 100, 'currency': 'Dollar'}\n",
            "{'name': 'Gagacity', 'area': 1000, 'potatolover': True}\n",
            "{'name': 'Honululu', 'population': 'unknown'}\n",
            "{'name': 'Honululu', 'population': 'unknown'}\n",
            "{'name': 'Tonululu', 'population': 100, 'currency': 'Dollar'}\n",
            "{'name': 'Gagacity', 'area': 1000, 'potatolover': True}\n",
            "{'name': 'Pikachuland', 'capital': 'Townsville', 'potatolover': True}\n",
            "{'name': 'Tonululu', 'population': 100, 'currency': 'Dollar'}\n",
            "{'name': 'Gagacity', 'area': 1000, 'potatolover': True}\n",
            "{'name': 'Tonululu', 'population': 100, 'currency': 'Dollar'}\n",
            "{'name': 'Gagacity', 'area': 1000, 'potatolover': True}\n"
          ],
          "name": "stdout"
        }
      ]
    }
  ]
}