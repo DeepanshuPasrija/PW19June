{
  "nbformat": 4,
  "nbformat_minor": 0,
  "metadata": {
    "colab": {
      "name": "PWMongoDB.ipynb",
      "provenance": [],
      "authorship_tag": "ABX9TyPyUWdHz3bX6twMCmTdb6Vl",
      "include_colab_link": true
    },
    "kernelspec": {
      "name": "python3",
      "display_name": "Python 3"
    },
    "language_info": {
      "name": "python"
    }
  },
  "cells": [
    {
      "cell_type": "markdown",
      "metadata": {
        "id": "view-in-github",
        "colab_type": "text"
      },
      "source": [
        "<a href=\"https://colab.research.google.com/github/DeepanshuPasrija/PW19June/blob/main/PWMongoDB.ipynb\" target=\"_parent\"><img src=\"https://colab.research.google.com/assets/colab-badge.svg\" alt=\"Open In Colab\"/></a>"
      ]
    },
    {
      "cell_type": "code",
      "metadata": {
        "id": "ZvKFBwXVMpTV"
      },
      "source": [
        "import pymongo"
      ],
      "execution_count": 2,
      "outputs": []
    },
    {
      "cell_type": "code",
      "metadata": {
        "id": "cg8tbhIVNGYz"
      },
      "source": [
        "uri=\"mongodb://mosmoscosmos:2G1hQt1Nu4j6UEK50QKkHd5EsmbGLgjaep0GG4wmtrI1guPHGAdv9VQL3j8Wj4PajLIvIdx54jyezQLNXkHJCw==@mosmoscosmos.mongo.cosmos.azure.com:10255/?ssl=true&replicaSet=globaldb&retrywrites=false&maxIdleTimeMS=120000&appName=@mosmoscosmos@\"\n",
        "myclient = pymongo.MongoClient(uri)\n",
        "mydb = myclient[\"multiverse\"]"
      ],
      "execution_count": 3,
      "outputs": []
    },
    {
      "cell_type": "code",
      "metadata": {
        "colab": {
          "base_uri": "https://localhost:8080/"
        },
        "id": "S7KmufGrNW6L",
        "outputId": "9578c361-bd05-49d8-8143-de4036840e0e"
      },
      "source": [
        "dblist = myclient.list_database_names()\n",
        "if \"multiverse\" in dblist:\n",
        "  print(\"The datbaase is present\")\n",
        "else:\n",
        "  print(\"No database\")"
      ],
      "execution_count": 9,
      "outputs": [
        {
          "output_type": "stream",
          "text": [
            "The datbaase is present\n"
          ],
          "name": "stdout"
        }
      ]
    },
    {
      "cell_type": "code",
      "metadata": {
        "colab": {
          "base_uri": "https://localhost:8080/"
        },
        "id": "S2ETCezSNqX2",
        "outputId": "e703b295-fc2b-443c-f726-540a80e8cb79"
      },
      "source": [
        "print(myclient.list_database_names())"
      ],
      "execution_count": 10,
      "outputs": [
        {
          "output_type": "stream",
          "text": [
            "['universe', 'multiverse']\n"
          ],
          "name": "stdout"
        }
      ]
    },
    {
      "cell_type": "code",
      "metadata": {
        "id": "jQ_kP7dIN2UB"
      },
      "source": [
        "myplanet= mydb['earth']"
      ],
      "execution_count": 7,
      "outputs": []
    },
    {
      "cell_type": "code",
      "metadata": {
        "colab": {
          "base_uri": "https://localhost:8080/"
        },
        "id": "kZ5IHTp4OAIG",
        "outputId": "37f3b306-81e8-4398-af83-129d841bfae4"
      },
      "source": [
        "country1={\n",
        "    \"name\":\"Honululu\",\n",
        "    \"population\":\"unknown\"\n",
        "}\n",
        "country2={\n",
        "    \"name\":\"Pikachuland\",\n",
        "    \"capital\":\"Townsville\",\n",
        "    \"potatolover\": True\n",
        "}\n",
        "myplanet.insert_one(country1)"
      ],
      "execution_count": 8,
      "outputs": [
        {
          "output_type": "execute_result",
          "data": {
            "text/plain": [
              "<pymongo.results.InsertOneResult at 0x7fdff22a0280>"
            ]
          },
          "metadata": {
            "tags": []
          },
          "execution_count": 8
        }
      ]
    }
  ]
}