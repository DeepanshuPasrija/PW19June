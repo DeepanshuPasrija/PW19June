{
  "nbformat": 4,
  "nbformat_minor": 0,
  "metadata": {
    "colab": {
      "name": "PWMongoDB.ipynb",
      "provenance": [],
      "authorship_tag": "ABX9TyNzWCXZySFsWglFYPsTWPm6",
      "include_colab_link": true
    },
    "kernelspec": {
      "name": "python3",
      "display_name": "Python 3"
    },
    "language_info": {
      "name": "python"
    }
  },
  "cells": [
    {
      "cell_type": "markdown",
      "metadata": {
        "id": "view-in-github",
        "colab_type": "text"
      },
      "source": [
        "<a href=\"https://colab.research.google.com/github/DeepanshuPasrija/PW19June/blob/main/PWMongoDB.ipynb\" target=\"_parent\"><img src=\"https://colab.research.google.com/assets/colab-badge.svg\" alt=\"Open In Colab\"/></a>"
      ]
    },
    {
      "cell_type": "code",
      "metadata": {
        "id": "ZvKFBwXVMpTV"
      },
      "source": [
        "import pymongo"
      ],
      "execution_count": 2,
      "outputs": []
    },
    {
      "cell_type": "code",
      "metadata": {
        "id": "cg8tbhIVNGYz"
      },
      "source": [
        "uri=\"mongodb://mosmoscosmos:2G1hQt1Nu4j6UEK50QKkHd5EsmbGLgjaep0GG4wmtrI1guPHGAdv9VQL3j8Wj4PajLIvIdx54jyezQLNXkHJCw==@mosmoscosmos.mongo.cosmos.azure.com:10255/?ssl=true&replicaSet=globaldb&retrywrites=false&maxIdleTimeMS=120000&appName=@mosmoscosmos@\"\n",
        "myclient = pymongo.MongoClient(uri)\n",
        "mydb = myclient[\"multiverse\"]"
      ],
      "execution_count": 3,
      "outputs": []
    },
    {
      "cell_type": "code",
      "metadata": {
        "colab": {
          "base_uri": "https://localhost:8080/"
        },
        "id": "S7KmufGrNW6L",
        "outputId": "9578c361-bd05-49d8-8143-de4036840e0e"
      },
      "source": [
        "dblist = myclient.list_database_names()\n",
        "if \"multiverse\" in dblist:\n",
        "  print(\"The datbaase is present\")\n",
        "else:\n",
        "  print(\"No database\")"
      ],
      "execution_count": 9,
      "outputs": [
        {
          "output_type": "stream",
          "text": [
            "The datbaase is present\n"
          ],
          "name": "stdout"
        }
      ]
    },
    {
      "cell_type": "code",
      "metadata": {
        "colab": {
          "base_uri": "https://localhost:8080/"
        },
        "id": "S2ETCezSNqX2",
        "outputId": "e703b295-fc2b-443c-f726-540a80e8cb79"
      },
      "source": [
        "print(myclient.list_database_names())"
      ],
      "execution_count": 10,
      "outputs": [
        {
          "output_type": "stream",
          "text": [
            "['universe', 'multiverse']\n"
          ],
          "name": "stdout"
        }
      ]
    },
    {
      "cell_type": "code",
      "metadata": {
        "id": "jQ_kP7dIN2UB"
      },
      "source": [
        "myplanet= mydb['earth']"
      ],
      "execution_count": 7,
      "outputs": []
    },
    {
      "cell_type": "code",
      "metadata": {
        "colab": {
          "base_uri": "https://localhost:8080/"
        },
        "id": "kZ5IHTp4OAIG",
        "outputId": "37f3b306-81e8-4398-af83-129d841bfae4"
      },
      "source": [
        "country1={\n",
        "    \"name\":\"Honululu\",\n",
        "    \"population\":\"unknown\"\n",
        "}\n",
        "country2={\n",
        "    \"name\":\"Pikachuland\",\n",
        "    \"capital\":\"Townsville\",\n",
        "    \"potatolover\": True\n",
        "}\n",
        "myplanet.insert_one(country1)"
      ],
      "execution_count": 8,
      "outputs": [
        {
          "output_type": "execute_result",
          "data": {
            "text/plain": [
              "<pymongo.results.InsertOneResult at 0x7fdff22a0280>"
            ]
          },
          "metadata": {
            "tags": []
          },
          "execution_count": 8
        }
      ]
    },
    {
      "cell_type": "code",
      "metadata": {
        "colab": {
          "base_uri": "https://localhost:8080/"
        },
        "id": "PXRfBEtzQilB",
        "outputId": "911f6b2f-4711-4d17-a146-be24a9cf9e04"
      },
      "source": [
        "x = myplanet.insert_one(country2)\n",
        "x"
      ],
      "execution_count": 11,
      "outputs": [
        {
          "output_type": "execute_result",
          "data": {
            "text/plain": [
              "<pymongo.results.InsertOneResult at 0x7fdff0d2fb40>"
            ]
          },
          "metadata": {
            "tags": []
          },
          "execution_count": 11
        }
      ]
    },
    {
      "cell_type": "code",
      "metadata": {
        "colab": {
          "base_uri": "https://localhost:8080/"
        },
        "id": "OcWt9GqwQvTH",
        "outputId": "4e311677-d9f6-4d81-b39b-0b6ccc26eadd"
      },
      "source": [
        "print(dir(x))"
      ],
      "execution_count": 12,
      "outputs": [
        {
          "output_type": "stream",
          "text": [
            "['_InsertOneResult__acknowledged', '_InsertOneResult__inserted_id', '_WriteResult__acknowledged', '__class__', '__delattr__', '__dir__', '__doc__', '__eq__', '__format__', '__ge__', '__getattribute__', '__gt__', '__hash__', '__init__', '__init_subclass__', '__le__', '__lt__', '__module__', '__ne__', '__new__', '__reduce__', '__reduce_ex__', '__repr__', '__setattr__', '__sizeof__', '__slots__', '__str__', '__subclasshook__', '_raise_if_unacknowledged', 'acknowledged', 'inserted_id']\n"
          ],
          "name": "stdout"
        }
      ]
    },
    {
      "cell_type": "code",
      "metadata": {
        "colab": {
          "base_uri": "https://localhost:8080/"
        },
        "id": "ehEuTlK-Q1ne",
        "outputId": "a6380957-ce0e-4e5e-fdfd-6d86f5bfb73d"
      },
      "source": [
        "x.inserted_id"
      ],
      "execution_count": 13,
      "outputs": [
        {
          "output_type": "execute_result",
          "data": {
            "text/plain": [
              "ObjectId('60cda2753fba09e53a806b45')"
            ]
          },
          "metadata": {
            "tags": []
          },
          "execution_count": 13
        }
      ]
    },
    {
      "cell_type": "code",
      "metadata": {
        "id": "etttttRyRy1f"
      },
      "source": [
        "countries = [{\n",
        "    \"name\":\"Tonululu\",\n",
        "    \"population\":100,\n",
        "    \"currency\":\"Dollar\"\n",
        "},{\n",
        "    \"name\":\"Gagacity\",\n",
        "    \"area\":1000,\n",
        "    \"potatolover\": True\n",
        "}]\n",
        "x = myplanet.insert_many(countries)"
      ],
      "execution_count": 17,
      "outputs": []
    },
    {
      "cell_type": "code",
      "metadata": {
        "colab": {
          "base_uri": "https://localhost:8080/"
        },
        "id": "Cg2QbRIUSIpr",
        "outputId": "f991fc6d-c4ed-4960-cef5-92729e13bde8"
      },
      "source": [
        "x.inserted_ids\n"
      ],
      "execution_count": 19,
      "outputs": [
        {
          "output_type": "execute_result",
          "data": {
            "text/plain": [
              "[ObjectId('60cda4263fba09e53a806b46'), ObjectId('60cda4263fba09e53a806b47')]"
            ]
          },
          "metadata": {
            "tags": []
          },
          "execution_count": 19
        }
      ]
    },
    {
      "cell_type": "code",
      "metadata": {
        "id": "YjB-V50rSeB5"
      },
      "source": [
        "x = myplanet.find_one()"
      ],
      "execution_count": 23,
      "outputs": []
    },
    {
      "cell_type": "code",
      "metadata": {
        "colab": {
          "base_uri": "https://localhost:8080/"
        },
        "id": "381tu1vjSm3k",
        "outputId": "757902d3-045d-4777-8e1d-f0551ca51f65"
      },
      "source": [
        "x"
      ],
      "execution_count": 24,
      "outputs": [
        {
          "output_type": "execute_result",
          "data": {
            "text/plain": [
              "{'_id': ObjectId('60cda0473fba09e53a806b44'),\n",
              " 'name': 'Honululu',\n",
              " 'population': 'unknown'}"
            ]
          },
          "metadata": {
            "tags": []
          },
          "execution_count": 24
        }
      ]
    }
  ]
}