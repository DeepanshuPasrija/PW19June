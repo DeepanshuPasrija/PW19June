{
  "nbformat": 4,
  "nbformat_minor": 0,
  "metadata": {
    "colab": {
      "name": "PW1906.ipynb",
      "provenance": [],
      "collapsed_sections": []
    },
    "kernelspec": {
      "name": "python3",
      "display_name": "Python 3"
    },
    "language_info": {
      "name": "python"
    }
  },
  "cells": [
    {
      "cell_type": "code",
      "metadata": {
        "id": "8BlNeOn_qYiM"
      },
      "source": [
        "#data insertion with Google Colab\n"
      ],
      "execution_count": null,
      "outputs": []
    }
  ]
}