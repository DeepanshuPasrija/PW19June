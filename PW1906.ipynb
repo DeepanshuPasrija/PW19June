{
  "nbformat": 4,
  "nbformat_minor": 0,
  "metadata": {
    "colab": {
      "name": "PW1906.ipynb",
      "provenance": [],
      "collapsed_sections": [],
      "authorship_tag": "ABX9TyM1RRE+7C33W529erdlj9dk",
      "include_colab_link": true
    },
    "kernelspec": {
      "name": "python3",
      "display_name": "Python 3"
    },
    "language_info": {
      "name": "python"
    }
  },
  "cells": [
    {
      "cell_type": "markdown",
      "metadata": {
        "id": "view-in-github",
        "colab_type": "text"
      },
      "source": [
        "<a href=\"https://colab.research.google.com/github/DeepanshuPasrija/PW19June/blob/main/PW1906.ipynb\" target=\"_parent\"><img src=\"https://colab.research.google.com/assets/colab-badge.svg\" alt=\"Open In Colab\"/></a>"
      ]
    },
    {
      "cell_type": "code",
      "metadata": {
        "colab": {
          "base_uri": "https://localhost:8080/"
        },
        "id": "8BlNeOn_qYiM",
        "outputId": "2703c420-2b20-4f77-be18-8818f28accd2"
      },
      "source": [
        "#data insertion with Google Colab\n",
        "\n",
        "#1. Install Cassandra db\n",
        "!pip install cassandra-driver"
      ],
      "execution_count": 1,
      "outputs": [
        {
          "output_type": "stream",
          "text": [
            "Collecting cassandra-driver\n",
            "\u001b[?25l  Downloading https://files.pythonhosted.org/packages/5c/85/2b87a18870e6c457a762cea58920a42c5d357b3e9ef3a6f94b978429ec15/cassandra_driver-3.25.0-cp37-cp37m-manylinux1_x86_64.whl (3.8MB)\n",
            "\u001b[K     |████████████████████████████████| 3.8MB 6.9MB/s \n",
            "\u001b[?25hRequirement already satisfied: six>=1.9 in /usr/local/lib/python3.7/dist-packages (from cassandra-driver) (1.15.0)\n",
            "Collecting geomet<0.3,>=0.1\n",
            "  Downloading https://files.pythonhosted.org/packages/c9/81/156ca48f950f833ddc392f8e3677ca50a18cb9d5db38ccb4ecea55a9303f/geomet-0.2.1.post1-py3-none-any.whl\n",
            "Requirement already satisfied: click in /usr/local/lib/python3.7/dist-packages (from geomet<0.3,>=0.1->cassandra-driver) (7.1.2)\n",
            "Installing collected packages: geomet, cassandra-driver\n",
            "Successfully installed cassandra-driver-3.25.0 geomet-0.2.1.post1\n"
          ],
          "name": "stdout"
        }
      ]
    },
    {
      "cell_type": "code",
      "metadata": {
        "id": "XAkYjH3Ns2l2"
      },
      "source": [
        "import cassandra\n",
        "from cassandra.auth import PlainTextAuthProvider\n",
        "from cassandra.cluster import Cluster\n",
        "from ssl import PROTOCOL_TLSv1_2, SSLContext, CERT_NONE\n",
        "from requests.utils import DEFAULT_CA_BUNDLE_PATH\n",
        "\n",
        "ssl_context = SSLContext(PROTOCOL_TLSv1_2)\n",
        "ssl_context.verify_mode= CERT_NONE\n",
        "\n",
        "auth_provider = PlainTextAuthProvider(username='pwcass',password='4npxDaR2mxA6Gbj3zlKpAzAGaK7vQrl6jP7szCW7LsAWE9vSaeBOWcvOUfAzrRi4MDPk3jla2QCSkEh7XlNMoQ==')\n",
        "cluster = Cluster(['pwcass.cassandra.cosmos.azure.com'], port = 10350, auth_provider=auth_provider, ssl_context=ssl_context)\n",
        "session = cluster.connect()"
      ],
      "execution_count": 6,
      "outputs": []
    },
    {
      "cell_type": "code",
      "metadata": {
        "colab": {
          "base_uri": "https://localhost:8080/"
        },
        "id": "SPWUC5-EwwnE",
        "outputId": "083ec067-58c9-474d-8e6a-6ce09c312fe6"
      },
      "source": [
        "session.execute('CREATE KEYSPACE IF NOT EXISTS PW WITH replication={\\'class\\': \\'NetworkTopologyStrategy\\',\\'datacenter\\':\\'1\\'}')"
      ],
      "execution_count": 7,
      "outputs": [
        {
          "output_type": "execute_result",
          "data": {
            "text/plain": [
              "<cassandra.cluster.ResultSet at 0x7f9bdaab23d0>"
            ]
          },
          "metadata": {
            "tags": []
          },
          "execution_count": 7
        }
      ]
    },
    {
      "cell_type": "code",
      "metadata": {
        "colab": {
          "base_uri": "https://localhost:8080/"
        },
        "id": "I42gWTh8ziXV",
        "outputId": "cbb347fc-4018-4d90-97f9-8a2b023ea02b"
      },
      "source": [
        "session.execute('CREATE TABLE IF NOT EXISTS PW.cities(user_id int PRIMARY KEY, username text, user_bcity text)')"
      ],
      "execution_count": 9,
      "outputs": [
        {
          "output_type": "execute_result",
          "data": {
            "text/plain": [
              "<cassandra.cluster.ResultSet at 0x7f9bdaaf9fd0>"
            ]
          },
          "metadata": {
            "tags": []
          },
          "execution_count": 9
        }
      ]
    },
    {
      "cell_type": "code",
      "metadata": {
        "colab": {
          "base_uri": "https://localhost:8080/"
        },
        "id": "Hng0Z2er5OZX",
        "outputId": "91d7df9b-5c88-41dc-e44e-e56f0cdae933"
      },
      "source": [
        "session.execute(\"INSERT INTO PW.cities (user_id, username, user_bcity) VALUES (%s,%s,%s)\",[1, 'John','Seattle'])"
      ],
      "execution_count": 11,
      "outputs": [
        {
          "output_type": "execute_result",
          "data": {
            "text/plain": [
              "<cassandra.cluster.ResultSet at 0x7f9bd61caa90>"
            ]
          },
          "metadata": {
            "tags": []
          },
          "execution_count": 11
        }
      ]
    },
    {
      "cell_type": "code",
      "metadata": {
        "colab": {
          "base_uri": "https://localhost:8080/"
        },
        "id": "xbhBv_k058ph",
        "outputId": "f94a3788-0a3d-4b2e-c71b-622368294669"
      },
      "source": [
        "session.execute(\"INSERT INTO PW.cities (user_id, username, user_bcity) VALUES (%s,%s,%s)\",[2, 'Jay','Dubai'])\n",
        "session.execute(\"INSERT INTO PW.cities (user_id, username, user_bcity) VALUES (%s,%s,%s)\",[3, 'Jam','Chennai'])\n",
        "session.execute(\"INSERT INTO PW.cities (user_id, username, user_bcity) VALUES (%s,%s,%s)\",[4, 'Jon','Pune'])\n",
        "session.execute(\"INSERT INTO PW.cities (user_id, username, user_bcity) VALUES (%s,%s,%s)\",[5, 'Johnathan','Mumbai'])\n",
        "session.execute(\"INSERT INTO PW.cities (user_id, username, user_bcity) VALUES (%s,%s,%s)\",[6, 'Raj','Bangalore'])\n",
        "session.execute(\"INSERT INTO PW.cities (user_id, username, user_bcity) VALUES (%s,%s,%s)\",[7, 'Ram','Belgaum'])\n",
        "session.execute(\"INSERT INTO PW.cities (user_id, username, user_bcity) VALUES (%s,%s,%s)\",[8, 'Johny','New York'])\n",
        "session.execute(\"INSERT INTO PW.cities (user_id, username, user_bcity) VALUES (%s,%s,%s)\",[9, 'Tupac','Texas'])\n",
        "session.execute(\"INSERT INTO PW.cities (user_id, username, user_bcity) VALUES (%s,%s,%s)\",[10, 'Jojo','California'])"
      ],
      "execution_count": 12,
      "outputs": [
        {
          "output_type": "execute_result",
          "data": {
            "text/plain": [
              "<cassandra.cluster.ResultSet at 0x7f9bd61e9f50>"
            ]
          },
          "metadata": {
            "tags": []
          },
          "execution_count": 12
        }
      ]
    },
    {
      "cell_type": "code",
      "metadata": {
        "colab": {
          "base_uri": "https://localhost:8080/"
        },
        "id": "_5WDbnLh7Y_z",
        "outputId": "0998b56d-2217-4f32-d1c8-f929c6fdd307"
      },
      "source": [
        "from prettytable import PrettyTable \n",
        "\n",
        "def PrintTable(rows):\n",
        "    t = PrettyTable(['UserID','Name','City'])\n",
        "    for r in rows:\n",
        "      t.add_row([r.user_id, r.username, r.user_bcity])\n",
        "    print(t)\n",
        "\n",
        "\n",
        "\n",
        "rows = session.execute('SELECT * FROM PW.cities')\n",
        "PrintTable(rows)"
      ],
      "execution_count": 21,
      "outputs": [
        {
          "output_type": "stream",
          "text": [
            "+--------+--------+-------------+\n",
            "| UserID |  Name  |     City    |\n",
            "+--------+--------+-------------+\n",
            "|   5    | Connor |  Las Vegas  |\n",
            "|   6    |  Ram   |  Minnesota  |\n",
            "|   7    |  Raj   |   Chicago   |\n",
            "|   2    |  Jay   |    Miami    |\n",
            "|   9    |  Bill  | Los Angeles |\n",
            "|   3    |  Ron   |    Boston   |\n",
            "|   10   | Henry  |  California |\n",
            "|   4    | Jason  |  St. Louis  |\n",
            "|   1    |  John  |   Seattle   |\n",
            "|   8    | Vikas  |   Florida   |\n",
            "+--------+--------+-------------+\n"
          ],
          "name": "stdout"
        }
      ]
    },
    {
      "cell_type": "code",
      "metadata": {
        "colab": {
          "base_uri": "https://localhost:8080/"
        },
        "id": "v4GJY_AX9LIc",
        "outputId": "96ad3fb1-37eb-4a7d-b89c-340a838bb7a8"
      },
      "source": [
        "from prettytable import PrettyTable \n",
        "\n",
        "def PrintTable(rows):\n",
        "    t = PrettyTable(['UserID','Name','City'])\n",
        "    for r in rows:\n",
        "      t.add_row([r.user_id, r.username, r.user_bcity])\n",
        "    print(t)\n",
        "\n",
        "rows = session.execute('SELECT * FROM PW.cities LIMIT 5')\n",
        "PrintTable(rows)"
      ],
      "execution_count": 22,
      "outputs": [
        {
          "output_type": "stream",
          "text": [
            "+--------+--------+-------------+\n",
            "| UserID |  Name  |     City    |\n",
            "+--------+--------+-------------+\n",
            "|   5    | Connor |  Las Vegas  |\n",
            "|   6    |  Ram   |  Minnesota  |\n",
            "|   7    |  Raj   |   Chicago   |\n",
            "|   2    |  Jay   |    Miami    |\n",
            "|   9    |  Bill  | Los Angeles |\n",
            "+--------+--------+-------------+\n"
          ],
          "name": "stdout"
        }
      ]
    },
    {
      "cell_type": "code",
      "metadata": {
        "colab": {
          "base_uri": "https://localhost:8080/"
        },
        "id": "C1jkK7Q282Aa",
        "outputId": "5225a26c-6fd9-4df0-9b4e-b7d9035384ce"
      },
      "source": [
        "rows = session.execute('SELECT * FROM PW.cities WHERE user_id = 9')\n",
        "PrintTable(rows)"
      ],
      "execution_count": 23,
      "outputs": [
        {
          "output_type": "stream",
          "text": [
            "+--------+------+-------------+\n",
            "| UserID | Name |     City    |\n",
            "+--------+------+-------------+\n",
            "|   9    | Bill | Los Angeles |\n",
            "+--------+------+-------------+\n"
          ],
          "name": "stdout"
        }
      ]
    },
    {
      "cell_type": "code",
      "metadata": {
        "colab": {
          "base_uri": "https://localhost:8080/"
        },
        "id": "zTaYgzIL-997",
        "outputId": "dcb8c9a9-9655-4a70-f623-2b6921ded5fa"
      },
      "source": [
        "session.execute(\"CREATE KEYSPACE IF NOT EXISTS cycling WITH REPLICATION={\\'class\\': \\'NetworkTopologyStrategy\\',\\'datacenter1\\':\\'3\\'}\")"
      ],
      "execution_count": 25,
      "outputs": [
        {
          "output_type": "execute_result",
          "data": {
            "text/plain": [
              "<cassandra.cluster.ResultSet at 0x7f9bd6092d50>"
            ]
          },
          "metadata": {
            "tags": []
          },
          "execution_count": 25
        }
      ]
    },
    {
      "cell_type": "code",
      "metadata": {
        "colab": {
          "base_uri": "https://localhost:8080/"
        },
        "id": "tC2g7XZt_mst",
        "outputId": "2baba550-bcd1-45a6-8305-6d8b7da48a71"
      },
      "source": [
        "session.execute(\"CREATE TABLE IF NOT EXISTS cycling.rankbyyearandname(race_year int , race_name text, cyclist_name text, rank int, PRIMARY KEY((race_year, race_name), rank) );\")"
      ],
      "execution_count": 27,
      "outputs": [
        {
          "output_type": "execute_result",
          "data": {
            "text/plain": [
              "<cassandra.cluster.ResultSet at 0x7f9bd61d2110>"
            ]
          },
          "metadata": {
            "tags": []
          },
          "execution_count": 27
        }
      ]
    },
    {
      "cell_type": "code",
      "metadata": {
        "id": "-hdsalqvAf_A"
      },
      "source": [
        ""
      ],
      "execution_count": null,
      "outputs": []
    }
  ]
}