{
  "nbformat": 4,
  "nbformat_minor": 0,
  "metadata": {
    "colab": {
      "name": "PW1906.ipynb",
      "provenance": [],
      "collapsed_sections": [],
      "authorship_tag": "ABX9TyMYZTqDCYvXdx3jOLQL8zUM",
      "include_colab_link": true
    },
    "kernelspec": {
      "name": "python3",
      "display_name": "Python 3"
    },
    "language_info": {
      "name": "python"
    }
  },
  "cells": [
    {
      "cell_type": "markdown",
      "metadata": {
        "id": "view-in-github",
        "colab_type": "text"
      },
      "source": [
        "<a href=\"https://colab.research.google.com/github/DeepanshuPasrija/PW19June/blob/main/PW1906.ipynb\" target=\"_parent\"><img src=\"https://colab.research.google.com/assets/colab-badge.svg\" alt=\"Open In Colab\"/></a>"
      ]
    },
    {
      "cell_type": "code",
      "metadata": {
        "colab": {
          "base_uri": "https://localhost:8080/"
        },
        "id": "8BlNeOn_qYiM",
        "outputId": "2703c420-2b20-4f77-be18-8818f28accd2"
      },
      "source": [
        "#data insertion with Google Colab\n",
        "\n",
        "#1. Install Cassandra db\n",
        "!pip install cassandra-driver"
      ],
      "execution_count": 1,
      "outputs": [
        {
          "output_type": "stream",
          "text": [
            "Collecting cassandra-driver\n",
            "\u001b[?25l  Downloading https://files.pythonhosted.org/packages/5c/85/2b87a18870e6c457a762cea58920a42c5d357b3e9ef3a6f94b978429ec15/cassandra_driver-3.25.0-cp37-cp37m-manylinux1_x86_64.whl (3.8MB)\n",
            "\u001b[K     |████████████████████████████████| 3.8MB 6.9MB/s \n",
            "\u001b[?25hRequirement already satisfied: six>=1.9 in /usr/local/lib/python3.7/dist-packages (from cassandra-driver) (1.15.0)\n",
            "Collecting geomet<0.3,>=0.1\n",
            "  Downloading https://files.pythonhosted.org/packages/c9/81/156ca48f950f833ddc392f8e3677ca50a18cb9d5db38ccb4ecea55a9303f/geomet-0.2.1.post1-py3-none-any.whl\n",
            "Requirement already satisfied: click in /usr/local/lib/python3.7/dist-packages (from geomet<0.3,>=0.1->cassandra-driver) (7.1.2)\n",
            "Installing collected packages: geomet, cassandra-driver\n",
            "Successfully installed cassandra-driver-3.25.0 geomet-0.2.1.post1\n"
          ],
          "name": "stdout"
        }
      ]
    },
    {
      "cell_type": "code",
      "metadata": {
        "id": "XAkYjH3Ns2l2"
      },
      "source": [
        "import cassandra\n",
        "from cassandra.auth import PlainTextAuthProvider\n",
        "from cassandra.cluster import Cluster\n",
        "from ssl import PROTOCOL_TLSv1_2, SSLContext, CERT_NONE\n",
        "from requests.utils import DEFAULT_CA_BUNDLE_PATH\n",
        "\n",
        "ssl_context = SSLContext(PROTOCOL_TLSv1_2)\n",
        "ssl_context.verify_mode= CERT_NONE\n",
        "\n",
        "auth_provider = PlainTextAuthProvider(username='pwcass',password='4npxDaR2mxA6Gbj3zlKpAzAGaK7vQrl6jP7szCW7LsAWE9vSaeBOWcvOUfAzrRi4MDPk3jla2QCSkEh7XlNMoQ==')\n",
        "cluster = Cluster(['pwcass.cassandra.cosmos.azure.com'], port = 10350, auth_provider=auth_provider, ssl_context=ssl_context)\n",
        "session = cluster.connect()"
      ],
      "execution_count": 6,
      "outputs": []
    },
    {
      "cell_type": "code",
      "metadata": {
        "colab": {
          "base_uri": "https://localhost:8080/"
        },
        "id": "SPWUC5-EwwnE",
        "outputId": "083ec067-58c9-474d-8e6a-6ce09c312fe6"
      },
      "source": [
        "session.execute('CREATE KEYSPACE IF NOT EXISTS PW WITH replication={\\'class\\': \\'NetworkTopologyStrategy\\',\\'datacenter\\':\\'1\\'}')"
      ],
      "execution_count": 7,
      "outputs": [
        {
          "output_type": "execute_result",
          "data": {
            "text/plain": [
              "<cassandra.cluster.ResultSet at 0x7f9bdaab23d0>"
            ]
          },
          "metadata": {
            "tags": []
          },
          "execution_count": 7
        }
      ]
    },
    {
      "cell_type": "code",
      "metadata": {
        "colab": {
          "base_uri": "https://localhost:8080/"
        },
        "id": "I42gWTh8ziXV",
        "outputId": "cbb347fc-4018-4d90-97f9-8a2b023ea02b"
      },
      "source": [
        "session.execute('CREATE TABLE IF NOT EXISTS PW.cities(user_id int PRIMARY KEY, username text, user_bcity text)')"
      ],
      "execution_count": 9,
      "outputs": [
        {
          "output_type": "execute_result",
          "data": {
            "text/plain": [
              "<cassandra.cluster.ResultSet at 0x7f9bdaaf9fd0>"
            ]
          },
          "metadata": {
            "tags": []
          },
          "execution_count": 9
        }
      ]
    },
    {
      "cell_type": "code",
      "metadata": {
        "colab": {
          "base_uri": "https://localhost:8080/"
        },
        "id": "Hng0Z2er5OZX",
        "outputId": "91d7df9b-5c88-41dc-e44e-e56f0cdae933"
      },
      "source": [
        "session.execute(\"INSERT INTO PW.cities (user_id, username, user_bcity) VALUES (%s,%s,%s)\",[1, 'John','Seattle'])"
      ],
      "execution_count": 11,
      "outputs": [
        {
          "output_type": "execute_result",
          "data": {
            "text/plain": [
              "<cassandra.cluster.ResultSet at 0x7f9bd61caa90>"
            ]
          },
          "metadata": {
            "tags": []
          },
          "execution_count": 11
        }
      ]
    },
    {
      "cell_type": "code",
      "metadata": {
        "colab": {
          "base_uri": "https://localhost:8080/"
        },
        "id": "xbhBv_k058ph",
        "outputId": "f94a3788-0a3d-4b2e-c71b-622368294669"
      },
      "source": [
        "session.execute(\"INSERT INTO PW.cities (user_id, username, user_bcity) VALUES (%s,%s,%s)\",[2, 'Jay','Dubai'])\n",
        "session.execute(\"INSERT INTO PW.cities (user_id, username, user_bcity) VALUES (%s,%s,%s)\",[3, 'Jam','Chennai'])\n",
        "session.execute(\"INSERT INTO PW.cities (user_id, username, user_bcity) VALUES (%s,%s,%s)\",[4, 'Jon','Pune'])\n",
        "session.execute(\"INSERT INTO PW.cities (user_id, username, user_bcity) VALUES (%s,%s,%s)\",[5, 'Johnathan','Mumbai'])\n",
        "session.execute(\"INSERT INTO PW.cities (user_id, username, user_bcity) VALUES (%s,%s,%s)\",[6, 'Raj','Bangalore'])\n",
        "session.execute(\"INSERT INTO PW.cities (user_id, username, user_bcity) VALUES (%s,%s,%s)\",[7, 'Ram','Belgaum'])\n",
        "session.execute(\"INSERT INTO PW.cities (user_id, username, user_bcity) VALUES (%s,%s,%s)\",[8, 'Johny','New York'])\n",
        "session.execute(\"INSERT INTO PW.cities (user_id, username, user_bcity) VALUES (%s,%s,%s)\",[9, 'Tupac','Texas'])\n",
        "session.execute(\"INSERT INTO PW.cities (user_id, username, user_bcity) VALUES (%s,%s,%s)\",[10, 'Jojo','California'])"
      ],
      "execution_count": 12,
      "outputs": [
        {
          "output_type": "execute_result",
          "data": {
            "text/plain": [
              "<cassandra.cluster.ResultSet at 0x7f9bd61e9f50>"
            ]
          },
          "metadata": {
            "tags": []
          },
          "execution_count": 12
        }
      ]
    },
    {
      "cell_type": "code",
      "metadata": {
        "colab": {
          "base_uri": "https://localhost:8080/"
        },
        "id": "_5WDbnLh7Y_z",
        "outputId": "0998b56d-2217-4f32-d1c8-f929c6fdd307"
      },
      "source": [
        "from prettytable import PrettyTable \n",
        "\n",
        "def PrintTable(rows):\n",
        "    t = PrettyTable(['UserID','Name','City'])\n",
        "    for r in rows:\n",
        "      t.add_row([r.user_id, r.username, r.user_bcity])\n",
        "    print(t)\n",
        "\n",
        "\n",
        "\n",
        "rows = session.execute('SELECT * FROM PW.cities')\n",
        "PrintTable(rows)"
      ],
      "execution_count": 21,
      "outputs": [
        {
          "output_type": "stream",
          "text": [
            "+--------+--------+-------------+\n",
            "| UserID |  Name  |     City    |\n",
            "+--------+--------+-------------+\n",
            "|   5    | Connor |  Las Vegas  |\n",
            "|   6    |  Ram   |  Minnesota  |\n",
            "|   7    |  Raj   |   Chicago   |\n",
            "|   2    |  Jay   |    Miami    |\n",
            "|   9    |  Bill  | Los Angeles |\n",
            "|   3    |  Ron   |    Boston   |\n",
            "|   10   | Henry  |  California |\n",
            "|   4    | Jason  |  St. Louis  |\n",
            "|   1    |  John  |   Seattle   |\n",
            "|   8    | Vikas  |   Florida   |\n",
            "+--------+--------+-------------+\n"
          ],
          "name": "stdout"
        }
      ]
    },
    {
      "cell_type": "code",
      "metadata": {
        "colab": {
          "base_uri": "https://localhost:8080/"
        },
        "id": "v4GJY_AX9LIc",
        "outputId": "96ad3fb1-37eb-4a7d-b89c-340a838bb7a8"
      },
      "source": [
        "from prettytable import PrettyTable \n",
        "\n",
        "def PrintTable(rows):\n",
        "    t = PrettyTable(['UserID','Name','City'])\n",
        "    for r in rows:\n",
        "      t.add_row([r.user_id, r.username, r.user_bcity])\n",
        "    print(t)\n",
        "\n",
        "rows = session.execute('SELECT * FROM PW.cities LIMIT 5')\n",
        "PrintTable(rows)"
      ],
      "execution_count": 22,
      "outputs": [
        {
          "output_type": "stream",
          "text": [
            "+--------+--------+-------------+\n",
            "| UserID |  Name  |     City    |\n",
            "+--------+--------+-------------+\n",
            "|   5    | Connor |  Las Vegas  |\n",
            "|   6    |  Ram   |  Minnesota  |\n",
            "|   7    |  Raj   |   Chicago   |\n",
            "|   2    |  Jay   |    Miami    |\n",
            "|   9    |  Bill  | Los Angeles |\n",
            "+--------+--------+-------------+\n"
          ],
          "name": "stdout"
        }
      ]
    },
    {
      "cell_type": "code",
      "metadata": {
        "colab": {
          "base_uri": "https://localhost:8080/"
        },
        "id": "C1jkK7Q282Aa",
        "outputId": "5225a26c-6fd9-4df0-9b4e-b7d9035384ce"
      },
      "source": [
        "rows = session.execute('SELECT * FROM PW.cities WHERE user_id = 9')\n",
        "PrintTable(rows)"
      ],
      "execution_count": 23,
      "outputs": [
        {
          "output_type": "stream",
          "text": [
            "+--------+------+-------------+\n",
            "| UserID | Name |     City    |\n",
            "+--------+------+-------------+\n",
            "|   9    | Bill | Los Angeles |\n",
            "+--------+------+-------------+\n"
          ],
          "name": "stdout"
        }
      ]
    },
    {
      "cell_type": "code",
      "metadata": {
        "colab": {
          "base_uri": "https://localhost:8080/"
        },
        "id": "zTaYgzIL-997",
        "outputId": "dcb8c9a9-9655-4a70-f623-2b6921ded5fa"
      },
      "source": [
        "session.execute(\"CREATE KEYSPACE IF NOT EXISTS cycling WITH REPLICATION={\\'class\\': \\'NetworkTopologyStrategy\\',\\'datacenter1\\':\\'3\\'}\")"
      ],
      "execution_count": 25,
      "outputs": [
        {
          "output_type": "execute_result",
          "data": {
            "text/plain": [
              "<cassandra.cluster.ResultSet at 0x7f9bd6092d50>"
            ]
          },
          "metadata": {
            "tags": []
          },
          "execution_count": 25
        }
      ]
    },
    {
      "cell_type": "code",
      "metadata": {
        "colab": {
          "base_uri": "https://localhost:8080/"
        },
        "id": "tC2g7XZt_mst",
        "outputId": "2baba550-bcd1-45a6-8305-6d8b7da48a71"
      },
      "source": [
        "session.execute(\"CREATE TABLE IF NOT EXISTS cycling.rankbyyearandname(race_year int , race_name text, cyclist_name text, rank int, PRIMARY KEY((race_year, race_name), rank) );\")"
      ],
      "execution_count": 27,
      "outputs": [
        {
          "output_type": "execute_result",
          "data": {
            "text/plain": [
              "<cassandra.cluster.ResultSet at 0x7f9bd61d2110>"
            ]
          },
          "metadata": {
            "tags": []
          },
          "execution_count": 27
        }
      ]
    },
    {
      "cell_type": "code",
      "metadata": {
        "colab": {
          "base_uri": "https://localhost:8080/"
        },
        "id": "-hdsalqvAf_A",
        "outputId": "289e2c02-408d-419f-cea6-8f69d100964e"
      },
      "source": [
        "session.execute(\"INSERT INTO cycling.rankbyyearandname (race_year, race_name, cyclist_name, rank ) VALUES (%s,%s,%s,%s)\",[2015, 'Tour of Italy','Raj', 1])\n",
        "session.execute(\"INSERT INTO cycling.rankbyyearandname (race_year, race_name, cyclist_name, rank ) VALUES (%s,%s,%s,%s)\",[2014, 'Tour of France','Raju', 2])\n",
        "session.execute(\"INSERT INTO cycling.rankbyyearandname (race_year, race_name, cyclist_name, rank ) VALUES (%s,%s,%s,%s)\",[2018, 'Tour of Japan','Raje', 3])\n",
        "session.execute(\"INSERT INTO cycling.rankbyyearandname (race_year, race_name, cyclist_name, rank ) VALUES (%s,%s,%s,%s)\",[2019, 'Tour of Australia','Rajt', 4])\n",
        "session.execute(\"INSERT INTO cycling.rankbyyearandname (race_year, race_name, cyclist_name, rank ) VALUES (%s,%s,%s,%s)\",[2005, 'Tour of Autria','Rajy', 5])\n",
        "session.execute(\"INSERT INTO cycling.rankbyyearandname (race_year, race_name, cyclist_name, rank ) VALUES (%s,%s,%s,%s)\",[2021, '4th Tour of Italy','Rajt', 6])\n",
        "session.execute(\"INSERT INTO cycling.rankbyyearandname (race_year, race_name, cyclist_name, rank ) VALUES (%s,%s,%s,%s)\",[2007, '4th Tour of France','Rajg', 7])\n",
        "session.execute(\"INSERT INTO cycling.rankbyyearandname (race_year, race_name, cyclist_name, rank ) VALUES (%s,%s,%s,%s)\",[2004, '4th Tour of Autria','Rajd', 8])\n",
        "session.execute(\"INSERT INTO cycling.rankbyyearandname (race_year, race_name, cyclist_name, rank ) VALUES (%s,%s,%s,%s)\",[1992, '4th Tour of Australia','Rajs', 9])\n",
        "session.execute(\"INSERT INTO cycling.rankbyyearandname (race_year, race_name, cyclist_name, rank ) VALUES (%s,%s,%s,%s)\",[1998, '4th Tour of Japan','Rajg', 10])\n",
        "session.execute(\"INSERT INTO cycling.rankbyyearandname (race_year, race_name, cyclist_name, rank ) VALUES (%s,%s,%s,%s)\",[1987, '4th Tour of China','Rajk', 11])\n"
      ],
      "execution_count": 28,
      "outputs": [
        {
          "output_type": "execute_result",
          "data": {
            "text/plain": [
              "<cassandra.cluster.ResultSet at 0x7f9bd60d2c50>"
            ]
          },
          "metadata": {
            "tags": []
          },
          "execution_count": 28
        }
      ]
    },
    {
      "cell_type": "code",
      "metadata": {
        "colab": {
          "base_uri": "https://localhost:8080/"
        },
        "id": "RINa0W41CAjT",
        "outputId": "6b99b368-acfa-4b72-be78-4c6c40acf9d9"
      },
      "source": [
        "session.execute(\"CREATE TYPE cycling.basic_info(birthday timestamp,  nationality text, weight text, height text)\")"
      ],
      "execution_count": 30,
      "outputs": [
        {
          "output_type": "execute_result",
          "data": {
            "text/plain": [
              "<cassandra.cluster.ResultSet at 0x7f9bd6131810>"
            ]
          },
          "metadata": {
            "tags": []
          },
          "execution_count": 30
        }
      ]
    },
    {
      "cell_type": "code",
      "metadata": {
        "colab": {
          "base_uri": "https://localhost:8080/"
        },
        "id": "6PFrzMLXCtJk",
        "outputId": "ba631ab0-eca9-44a6-c492-223b8de42c8f"
      },
      "source": [
        "session.execute(\"CREATE TABLE cycling.cycling_stats (id uuid PRIMARY KEY, lastname text, basics FROZEN<basic_info>);\")"
      ],
      "execution_count": 31,
      "outputs": [
        {
          "output_type": "execute_result",
          "data": {
            "text/plain": [
              "<cassandra.cluster.ResultSet at 0x7f9bd6053090>"
            ]
          },
          "metadata": {
            "tags": []
          },
          "execution_count": 31
        }
      ]
    },
    {
      "cell_type": "code",
      "metadata": {
        "colab": {
          "base_uri": "https://localhost:8080/"
        },
        "id": "o8ELA71pDFUq",
        "outputId": "409f0876-8c71-4c60-fcf9-075f919dcf3c"
      },
      "source": [
        "session.execute(\"INSERT INTO cycling.cycling_stats (id, lastname, basics ) VALUES (8b845131-c8b2-4197-84e6-f713de36f496, 'FRAME',{ birthday: '1993-08-18', nationality: 'India', weight:null, height:null});\")"
      ],
      "execution_count": 35,
      "outputs": [
        {
          "output_type": "execute_result",
          "data": {
            "text/plain": [
              "<cassandra.cluster.ResultSet at 0x7f9bd5ffd6d0>"
            ]
          },
          "metadata": {
            "tags": []
          },
          "execution_count": 35
        }
      ]
    },
    {
      "cell_type": "code",
      "metadata": {
        "colab": {
          "base_uri": "https://localhost:8080/"
        },
        "id": "cEO0dEsJGkHx",
        "outputId": "2d4ec56f-94f0-4cb2-88ff-d7092ccf22b0"
      },
      "source": [
        "session.execute(\"CREATE TYPE cycling.race (race_title text, race_date timestamp, race_time text);\")\n",
        "session.execute(\"CREATE TABLE cycling.cyclist_races (id uuid PRIMARY KEY, lastname text, firstname text, races list<FROZEN<race>>);\")"
      ],
      "execution_count": 38,
      "outputs": [
        {
          "output_type": "execute_result",
          "data": {
            "text/plain": [
              "<cassandra.cluster.ResultSet at 0x7f9bd6034890>"
            ]
          },
          "metadata": {
            "tags": []
          },
          "execution_count": 38
        }
      ]
    },
    {
      "cell_type": "code",
      "metadata": {
        "colab": {
          "base_uri": "https://localhost:8080/"
        },
        "id": "LyhcoFIYHxel",
        "outputId": "fcdd0145-d936-44a3-dc46-25cb550179d7"
      },
      "source": [
        "session.execute(\"INSERT INTO cycling.cyclist_races (id, lastname, firstname, races ) VALUES (7da4b41e-8a42-4dc0-ba50-6c928fcf254a, 'Los','Mary', [{ race_title: 'PREM RACE', race_date:'09-09-2018', race_time:'09:50'},{ race_title: 'PREM1 RACE', race_date:'09-09-2008', race_time:'08:50'}]);\")\n"
      ],
      "execution_count": 40,
      "outputs": [
        {
          "output_type": "execute_result",
          "data": {
            "text/plain": [
              "<cassandra.cluster.ResultSet at 0x7f9bd6034e90>"
            ]
          },
          "metadata": {
            "tags": []
          },
          "execution_count": 40
        }
      ]
    },
    {
      "cell_type": "code",
      "metadata": {
        "colab": {
          "base_uri": "https://localhost:8080/"
        },
        "id": "KFt4-QaTGIr3",
        "outputId": "f6e5885a-283e-463b-d1e4-b7881d18f474"
      },
      "source": [
        "def PrintTable(rows):\n",
        "    t = PrettyTable(['id','lastname','firstname','races'])\n",
        "    for r in rows:\n",
        "      t.add_row([r.id, r.lastname, r.firstname,r.races])\n",
        "    print(t)\n",
        "\n",
        "rows = session.execute('SELECT * FROM cycling.cyclist_races LIMIT 5')\n",
        "PrintTable(rows)"
      ],
      "execution_count": 42,
      "outputs": [
        {
          "output_type": "stream",
          "text": [
            "+--------------------------------------+----------+-----------+---------------------------------------------------------------------------------------------------------------------------------------------------------------------------------------------------+\n",
            "|                  id                  | lastname | firstname |                                                                                               races                                                                                               |\n",
            "+--------------------------------------+----------+-----------+---------------------------------------------------------------------------------------------------------------------------------------------------------------------------------------------------+\n",
            "| 7da4b41e-8a42-4dc0-ba50-6c928fcf254a |   Los    |    Mary   | [race(race_title='PREM RACE', race_date=datetime.datetime(2018, 9, 9, 0, 0), race_time='09:50'), race(race_title='PREM1 RACE', race_date=datetime.datetime(2008, 9, 9, 0, 0), race_time='08:50')] |\n",
            "+--------------------------------------+----------+-----------+---------------------------------------------------------------------------------------------------------------------------------------------------------------------------------------------------+\n"
          ],
          "name": "stdout"
        }
      ]
    }
  ]
}