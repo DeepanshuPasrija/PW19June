{
  "nbformat": 4,
  "nbformat_minor": 0,
  "metadata": {
    "colab": {
      "name": "PWCNeo4j.ipynb",
      "provenance": [],
      "authorship_tag": "ABX9TyNmYGPoZr9+Xs5UgFQLYPWQ",
      "include_colab_link": true
    },
    "kernelspec": {
      "name": "python3",
      "display_name": "Python 3"
    },
    "language_info": {
      "name": "python"
    }
  },
  "cells": [
    {
      "cell_type": "markdown",
      "metadata": {
        "id": "view-in-github",
        "colab_type": "text"
      },
      "source": [
        "<a href=\"https://colab.research.google.com/github/DeepanshuPasrija/PW19June/blob/main/PWCNeo4j.ipynb\" target=\"_parent\"><img src=\"https://colab.research.google.com/assets/colab-badge.svg\" alt=\"Open In Colab\"/></a>"
      ]
    },
    {
      "cell_type": "code",
      "metadata": {
        "colab": {
          "base_uri": "https://localhost:8080/"
        },
        "id": "EfQKbxNy7hYp",
        "outputId": "5910ca72-167b-4c50-fea7-5b34789fe2e5"
      },
      "source": [
        "!pip install neo4j"
      ],
      "execution_count": 1,
      "outputs": [
        {
          "output_type": "stream",
          "text": [
            "Collecting neo4j\n",
            "\u001b[?25l  Downloading https://files.pythonhosted.org/packages/0b/22/9b6d28613e8a564b9e82cf3b871b6df1f58a99cf5ac8a100439f9e895b5f/neo4j-4.3.1.tar.gz (74kB)\n",
            "\r\u001b[K     |████▍                           | 10kB 12.6MB/s eta 0:00:01\r\u001b[K     |████████▊                       | 20kB 18.5MB/s eta 0:00:01\r\u001b[K     |█████████████▏                  | 30kB 12.8MB/s eta 0:00:01\r\u001b[K     |█████████████████▌              | 40kB 6.7MB/s eta 0:00:01\r\u001b[K     |██████████████████████          | 51kB 5.8MB/s eta 0:00:01\r\u001b[K     |██████████████████████████▎     | 61kB 5.5MB/s eta 0:00:01\r\u001b[K     |██████████████████████████████▊ | 71kB 6.2MB/s eta 0:00:01\r\u001b[K     |████████████████████████████████| 81kB 4.2MB/s \n",
            "\u001b[?25hRequirement already satisfied: pytz in /usr/local/lib/python3.7/dist-packages (from neo4j) (2018.9)\n",
            "Building wheels for collected packages: neo4j\n",
            "  Building wheel for neo4j (setup.py) ... \u001b[?25l\u001b[?25hdone\n",
            "  Created wheel for neo4j: filename=neo4j-4.3.1-cp37-none-any.whl size=99332 sha256=34987731369642a5646694ed47a1640beaf0c5c1bbd5a9425bfcf178181f35f0\n",
            "  Stored in directory: /root/.cache/pip/wheels/23/13/72/0cc2405898bd9a7baef6512df3abf83873da9ba48c04acc818\n",
            "Successfully built neo4j\n",
            "Installing collected packages: neo4j\n",
            "Successfully installed neo4j-4.3.1\n"
          ],
          "name": "stdout"
        }
      ]
    },
    {
      "cell_type": "code",
      "metadata": {
        "id": "Mtn3_QlO7z4S"
      },
      "source": [
        "import neo4j\n",
        "from neo4j import GraphDatabase\n",
        "\n",
        "uri= 'bolt://3.83.97.73:7687'\n",
        "user='neo4j'\n",
        "password='hem-outfits-thirteen'\n",
        "driver = GraphDatabase.driver(uri, auth=(user, password))\n"
      ],
      "execution_count": 2,
      "outputs": []
    },
    {
      "cell_type": "code",
      "metadata": {
        "id": "RTYt0UAt8hmf"
      },
      "source": [
        "class Driver:\n",
        "  def __init__(this,uri,user,password):\n",
        "    this.driver = GraphDatabase.driver(uri, auth=(user, password))\n",
        "  def close(this):\n",
        "    this.driver.close()"
      ],
      "execution_count": 3,
      "outputs": []
    },
    {
      "cell_type": "code",
      "metadata": {
        "id": "HoSvWUhU9dEn"
      },
      "source": [
        "class Driver:\n",
        "  def __init__(this,uri,user,password):\n",
        "    this.driver = GraphDatabase.driver(uri, auth=(user, password))\n",
        "  def close(this):\n",
        "    this.driver.close()\n",
        "  \n",
        "  def executequery(this, query, parameters=None, db=None):\n",
        "    session = this.driver.session(database=db) if db is not None else this.driver.session()\n",
        "\n",
        "    response=[]\n",
        "\n",
        "    try:\n",
        "      response = list(session.run(query, parameters))\n",
        "    except Exception as e:\n",
        "      print(\"Query failed:\",e)\n",
        "    finally:\n",
        "      if session is not None:\n",
        "        session.close()\n",
        "      return response"
      ],
      "execution_count": 4,
      "outputs": []
    },
    {
      "cell_type": "code",
      "metadata": {
        "colab": {
          "base_uri": "https://localhost:8080/"
        },
        "id": "Tw-xwJck_FYi",
        "outputId": "03c9e091-af40-4775-8817-a37a1839a8ff"
      },
      "source": [
        "query = 'CREATE (t:trainer)-[:LIKES]->(f:food)'\n",
        "mydriver = Driver(uri, user, password)\n",
        "mydriver.executequery(query)"
      ],
      "execution_count": 6,
      "outputs": [
        {
          "output_type": "execute_result",
          "data": {
            "text/plain": [
              "[]"
            ]
          },
          "metadata": {
            "tags": []
          },
          "execution_count": 6
        }
      ]
    },
    {
      "cell_type": "code",
      "metadata": {
        "colab": {
          "base_uri": "https://localhost:8080/"
        },
        "id": "OIJmzC6FESMp",
        "outputId": "12a279a5-16dc-482a-fa0b-c038a28d762b"
      },
      "source": [
        "query = 'CREATE (t:trainer{name:\"Goofy\"})-[:LIKES]->(f:food{type:\"air\"})'\n",
        "mydriver.executequery(query)"
      ],
      "execution_count": 8,
      "outputs": [
        {
          "output_type": "execute_result",
          "data": {
            "text/plain": [
              "[]"
            ]
          },
          "metadata": {
            "tags": []
          },
          "execution_count": 8
        }
      ]
    },
    {
      "cell_type": "code",
      "metadata": {
        "id": "ZWdPncc7Esrn"
      },
      "source": [
        "trainers = [\"Deepanshu\",\"mantis shrimp\",\"donald duck\"]\n",
        "food = [\"chole bhature\",\"samosa\",\"pav bhaji\"]"
      ],
      "execution_count": 9,
      "outputs": []
    },
    {
      "cell_type": "code",
      "metadata": {
        "id": "Ui8YNmUREowb"
      },
      "source": [
        "for c in range(3):\n",
        "  query = 'CREATE (t:trainer {name:\"'+trainers[c]+'\"})-[rel:LIKES]->(f:food{type:\"'+food[c]+'\"})'\n",
        "  mydriver.executequery(query)"
      ],
      "execution_count": 10,
      "outputs": []
    },
    {
      "cell_type": "code",
      "metadata": {
        "colab": {
          "base_uri": "https://localhost:8080/"
        },
        "id": "gSuQN1ssFvT_",
        "outputId": "10d63f55-0219-43e8-9d9e-8269cd5007cb"
      },
      "source": [
        "query = 'MATCH (t:trainer) RETURN t'\n",
        "mydriver.executequery(query)"
      ],
      "execution_count": 12,
      "outputs": [
        {
          "output_type": "execute_result",
          "data": {
            "text/plain": [
              "[<Record t=<Node id=0 labels=frozenset({'trainer'}) properties={}>>,\n",
              " <Record t=<Node id=2 labels=frozenset({'trainer'}) properties={'name': 'Deepanshu'}>>,\n",
              " <Record t=<Node id=4 labels=frozenset({'trainer'}) properties={'name': 'Batman'}>>,\n",
              " <Record t=<Node id=6 labels=frozenset({'trainer'}) properties={}>>,\n",
              " <Record t=<Node id=8 labels=frozenset({'trainer'}) properties={}>>,\n",
              " <Record t=<Node id=10 labels=frozenset({'trainer'}) properties={}>>,\n",
              " <Record t=<Node id=12 labels=frozenset({'trainer'}) properties={}>>,\n",
              " <Record t=<Node id=14 labels=frozenset({'trainer'}) properties={}>>,\n",
              " <Record t=<Node id=16 labels=frozenset({'trainer'}) properties={}>>,\n",
              " <Record t=<Node id=18 labels=frozenset({'trainer'}) properties={}>>,\n",
              " <Record t=<Node id=20 labels=frozenset({'trainer'}) properties={}>>,\n",
              " <Record t=<Node id=22 labels=frozenset({'trainer'}) properties={}>>,\n",
              " <Record t=<Node id=24 labels=frozenset({'trainer'}) properties={}>>,\n",
              " <Record t=<Node id=26 labels=frozenset({'trainer'}) properties={}>>,\n",
              " <Record t=<Node id=28 labels=frozenset({'trainer'}) properties={}>>,\n",
              " <Record t=<Node id=30 labels=frozenset({'trainer'}) properties={}>>,\n",
              " <Record t=<Node id=32 labels=frozenset({'trainer'}) properties={}>>,\n",
              " <Record t=<Node id=34 labels=frozenset({'trainer'}) properties={'name': 'Goofy'}>>,\n",
              " <Record t=<Node id=36 labels=frozenset({'trainer'}) properties={'name': 'Goofy'}>>,\n",
              " <Record t=<Node id=38 labels=frozenset({'trainer'}) properties={}>>,\n",
              " <Record t=<Node id=40 labels=frozenset({'trainer'}) properties={'name': 'Deepanshu'}>>,\n",
              " <Record t=<Node id=42 labels=frozenset({'trainer'}) properties={'name': 'mantis shrimp'}>>,\n",
              " <Record t=<Node id=44 labels=frozenset({'trainer'}) properties={'name': 'donald duck'}>>]"
            ]
          },
          "metadata": {
            "tags": []
          },
          "execution_count": 12
        }
      ]
    },
    {
      "cell_type": "code",
      "metadata": {
        "colab": {
          "base_uri": "https://localhost:8080/"
        },
        "id": "2bQtAqR5F5Ec",
        "outputId": "697b9136-65ec-41a4-bcf3-4882290f45cd"
      },
      "source": [
        "query = 'MATCH (t:trainer{name:\"Deepanshu\"})-[:LIKES]->(f:food) RETURN f '\n",
        "mydriver.executequery(query)"
      ],
      "execution_count": 13,
      "outputs": [
        {
          "output_type": "execute_result",
          "data": {
            "text/plain": [
              "[<Record f=<Node id=3 labels=frozenset({'food'}) properties={'type': 'pasta'}>>,\n",
              " <Record f=<Node id=41 labels=frozenset({'food'}) properties={'type': 'chole bhature'}>>,\n",
              " <Record f=<Node id=47 labels=frozenset({'food'}) properties={'type': 'chole bhature'}>>,\n",
              " <Record f=<Node id=53 labels=frozenset({'food'}) properties={'type': 'chole bhature'}>>,\n",
              " <Record f=<Node id=61 labels=frozenset({'food'}) properties={'type': 'chole bhature'}>>,\n",
              " <Record f=<Node id=73 labels=frozenset({'food'}) properties={'type': 'chole bhature'}>>]"
            ]
          },
          "metadata": {
            "tags": []
          },
          "execution_count": 13
        }
      ]
    },
    {
      "cell_type": "code",
      "metadata": {
        "colab": {
          "base_uri": "https://localhost:8080/"
        },
        "id": "Qva1j77TH9JX",
        "outputId": "ceaeb6b0-db97-409a-f889-f60246419221"
      },
      "source": [
        "query = 'MATCH (t:trainer)-[:LIKES]->(f:food{type:\"chole bhature\"}) RETURN t '\n",
        "mydriver.executequery(query)"
      ],
      "execution_count": 14,
      "outputs": [
        {
          "output_type": "execute_result",
          "data": {
            "text/plain": [
              "[<Record t=<Node id=40 labels=frozenset({'trainer'}) properties={'name': 'Deepanshu'}>>,\n",
              " <Record t=<Node id=46 labels=frozenset({'trainer'}) properties={'name': 'Deepanshu'}>>,\n",
              " <Record t=<Node id=52 labels=frozenset({'trainer'}) properties={'name': 'Deepanshu'}>>,\n",
              " <Record t=<Node id=60 labels=frozenset({'trainer'}) properties={'name': 'Deepanshu'}>>,\n",
              " <Record t=<Node id=72 labels=frozenset({'trainer'}) properties={'name': 'Deepanshu'}>>]"
            ]
          },
          "metadata": {
            "tags": []
          },
          "execution_count": 14
        }
      ]
    },
    {
      "cell_type": "code",
      "metadata": {
        "id": "Lm-QQn84J7n3"
      },
      "source": [
        "trainers = ['Anshu', 'Superman','Goofy','thor','Batman']\n",
        "students = ['humans','monkeys','cats','pikachus','giraffe']\n",
        "\n",
        "for c in range(5):\n",
        "  query = 'CREATE (t:trainer {name:\"'+trainers[c]+'\"})-[rel:TEACHES]->(s:student{gene:\"'+students[c]+'\"})'\n",
        "  mydriver.executequery(query)\n"
      ],
      "execution_count": 15,
      "outputs": []
    },
    {
      "cell_type": "code",
      "metadata": {
        "colab": {
          "base_uri": "https://localhost:8080/"
        },
        "id": "3BSS58KAK0tt",
        "outputId": "87304611-0702-4707-df79-40d1c5523719"
      },
      "source": [
        "query = 'MATCH (t:trainer)-[:TEACHES]->(s:student) RETURN t'\n",
        "mydriver.executequery(query)"
      ],
      "execution_count": 16,
      "outputs": [
        {
          "output_type": "execute_result",
          "data": {
            "text/plain": [
              "[<Record t=<Node id=116 labels=frozenset({'trainer'}) properties={'name': 'Anshu'}>>,\n",
              " <Record t=<Node id=118 labels=frozenset({'trainer'}) properties={'name': 'Superman'}>>,\n",
              " <Record t=<Node id=120 labels=frozenset({'trainer'}) properties={'name': 'Goofy'}>>,\n",
              " <Record t=<Node id=122 labels=frozenset({'trainer'}) properties={'name': 'thor'}>>,\n",
              " <Record t=<Node id=124 labels=frozenset({'trainer'}) properties={'name': 'Batman'}>>]"
            ]
          },
          "metadata": {
            "tags": []
          },
          "execution_count": 16
        }
      ]
    },
    {
      "cell_type": "code",
      "metadata": {
        "colab": {
          "base_uri": "https://localhost:8080/"
        },
        "id": "QwDTn4gBLIC5",
        "outputId": "3caa42c3-092d-4236-fa04-5977f8501b80"
      },
      "source": [
        "query = 'MATCH (t:trainer{name:\"Batman\"}) SET t.birthdate = date(\"1980-10-10\") RETURN t'\n",
        "mydriver.executequery(query)"
      ],
      "execution_count": 17,
      "outputs": [
        {
          "output_type": "execute_result",
          "data": {
            "text/plain": [
              "[<Record t=<Node id=4 labels=frozenset({'trainer'}) properties={'name': 'Batman', 'birthdate': neo4j.time.Date(1980, 10, 10)}>>,\n",
              " <Record t=<Node id=124 labels=frozenset({'trainer'}) properties={'name': 'Batman', 'birthdate': neo4j.time.Date(1980, 10, 10)}>>]"
            ]
          },
          "metadata": {
            "tags": []
          },
          "execution_count": 17
        }
      ]
    },
    {
      "cell_type": "code",
      "metadata": {
        "colab": {
          "base_uri": "https://localhost:8080/"
        },
        "id": "YCiWrNsOLmit",
        "outputId": "b4baaeaa-4e00-4054-92f6-e7369209005a"
      },
      "source": [
        "query = 'MATCH (t:trainer)-[tea:TEACHES]-(s:student) RETURN t.name,tea.id,s.gene'\n",
        "mydriver.executequery(query)"
      ],
      "execution_count": 18,
      "outputs": [
        {
          "output_type": "execute_result",
          "data": {
            "text/plain": [
              "[<Record t.name='Anshu' tea.id=None s.gene='humans'>,\n",
              " <Record t.name='Superman' tea.id=None s.gene='monkeys'>,\n",
              " <Record t.name='Goofy' tea.id=None s.gene='cats'>,\n",
              " <Record t.name='thor' tea.id=None s.gene='pikachus'>,\n",
              " <Record t.name='Batman' tea.id=None s.gene='giraffe'>]"
            ]
          },
          "metadata": {
            "tags": []
          },
          "execution_count": 18
        }
      ]
    },
    {
      "cell_type": "code",
      "metadata": {
        "colab": {
          "base_uri": "https://localhost:8080/"
        },
        "id": "RdJv1g6_LCTa",
        "outputId": "e5cb87ad-db23-413e-ed13-652ca1a1396b"
      },
      "source": [
        "query = 'MATCH (t:trainer) WHERE t.name=\"Batman\" RETURN t'\n",
        "mydriver.executequery(query)"
      ],
      "execution_count": 19,
      "outputs": [
        {
          "output_type": "execute_result",
          "data": {
            "text/plain": [
              "[<Record t=<Node id=4 labels=frozenset({'trainer'}) properties={'name': 'Batman', 'birthdate': neo4j.time.Date(1980, 10, 10)}>>,\n",
              " <Record t=<Node id=124 labels=frozenset({'trainer'}) properties={'name': 'Batman', 'birthdate': neo4j.time.Date(1980, 10, 10)}>>]"
            ]
          },
          "metadata": {
            "tags": []
          },
          "execution_count": 19
        }
      ]
    },
    {
      "cell_type": "code",
      "metadata": {
        "colab": {
          "base_uri": "https://localhost:8080/"
        },
        "id": "es3PNK83MZ2c",
        "outputId": "53dc462a-c45d-4149-d99c-bab61b00c78f"
      },
      "source": [
        "query = 'MATCH (t:trainer) WHERE NOT t.name=\"Batman\" RETURN t.name, t.birthdate'\n",
        "mydriver.executequery(query)"
      ],
      "execution_count": 21,
      "outputs": [
        {
          "output_type": "execute_result",
          "data": {
            "text/plain": [
              "[<Record t.name='Deepanshu' t.birthdate=None>,\n",
              " <Record t.name='Goofy' t.birthdate=None>,\n",
              " <Record t.name='Goofy' t.birthdate=None>,\n",
              " <Record t.name='Deepanshu' t.birthdate=None>,\n",
              " <Record t.name='mantis shrimp' t.birthdate=None>,\n",
              " <Record t.name='donald duck' t.birthdate=None>,\n",
              " <Record t.name='Deepanshu' t.birthdate=None>,\n",
              " <Record t.name='mantis shrimp' t.birthdate=None>,\n",
              " <Record t.name='donald duck' t.birthdate=None>,\n",
              " <Record t.name='Deepanshu' t.birthdate=None>,\n",
              " <Record t.name='mantis shrimp' t.birthdate=None>,\n",
              " <Record t.name='donald duck' t.birthdate=None>,\n",
              " <Record t.name='Goofy' t.birthdate=None>,\n",
              " <Record t.name='Deepanshu' t.birthdate=None>,\n",
              " <Record t.name='mantis shrimp' t.birthdate=None>,\n",
              " <Record t.name='donald duck' t.birthdate=None>,\n",
              " <Record t.name='Goofy' t.birthdate=None>,\n",
              " <Record t.name='Deepanshu' t.birthdate=None>,\n",
              " <Record t.name='mantis shrimp' t.birthdate=None>,\n",
              " <Record t.name='donald duck' t.birthdate=None>,\n",
              " <Record t.name='Goofy' t.birthdate=None>,\n",
              " <Record t.name='Deepanshu' t.birthdate=None>,\n",
              " <Record t.name='mantis shrimp' t.birthdate=None>,\n",
              " <Record t.name='donald duck' t.birthdate=None>,\n",
              " <Record t.name='Deepanshu' t.birthdate=None>,\n",
              " <Record t.name='mantis shrimp' t.birthdate=None>,\n",
              " <Record t.name='donald duck' t.birthdate=None>,\n",
              " <Record t.name='Deepanshu' t.birthdate=None>,\n",
              " <Record t.name='mantis shrimp' t.birthdate=None>,\n",
              " <Record t.name='donald duck' t.birthdate=None>,\n",
              " <Record t.name='Goofy' t.birthdate=None>,\n",
              " <Record t.name='Deepanshu' t.birthdate=None>,\n",
              " <Record t.name='mantis shrimp' t.birthdate=None>,\n",
              " <Record t.name='donald duck' t.birthdate=None>,\n",
              " <Record t.name='Deepanshu' t.birthdate=None>,\n",
              " <Record t.name='mantis shrimp' t.birthdate=None>,\n",
              " <Record t.name='donald duck' t.birthdate=None>,\n",
              " <Record t.name='Anshu' t.birthdate=None>,\n",
              " <Record t.name='Superman' t.birthdate=None>,\n",
              " <Record t.name='Goofy' t.birthdate=None>,\n",
              " <Record t.name='thor' t.birthdate=None>]"
            ]
          },
          "metadata": {
            "tags": []
          },
          "execution_count": 21
        }
      ]
    },
    {
      "cell_type": "code",
      "metadata": {
        "colab": {
          "base_uri": "https://localhost:8080/"
        },
        "id": "5j8R_BoVMdeA",
        "outputId": "d4e76188-202a-4ee6-c0ca-d7daf7bf6efb"
      },
      "source": [
        "query = 'MATCH (d:trainer) WHERE exists(d.birthdate) RETURN d.name, d.birthdate'\n",
        "mydriver.executequery(query)"
      ],
      "execution_count": 22,
      "outputs": [
        {
          "output_type": "execute_result",
          "data": {
            "text/plain": [
              "[<Record d.name='Batman' d.birthdate=neo4j.time.Date(1980, 10, 10)>,\n",
              " <Record d.name='Batman' d.birthdate=neo4j.time.Date(1980, 10, 10)>]"
            ]
          },
          "metadata": {
            "tags": []
          },
          "execution_count": 22
        }
      ]
    },
    {
      "cell_type": "code",
      "metadata": {
        "colab": {
          "base_uri": "https://localhost:8080/"
        },
        "id": "OCRQbgLdM7qq",
        "outputId": "abc2f862-187d-4118-fee9-d45de0d84aac"
      },
      "source": [
        "query = 'MATCH (d:trainer)-[rel:LIKES]->(f:food) WHERE exists(d.birthdate) RETURN d.name, d.birthdate,f.type'\n",
        "mydriver.executequery(query)"
      ],
      "execution_count": 23,
      "outputs": [
        {
          "output_type": "execute_result",
          "data": {
            "text/plain": [
              "[<Record d.name='Batman' d.birthdate=neo4j.time.Date(1980, 10, 10) f.type='pizza'>]"
            ]
          },
          "metadata": {
            "tags": []
          },
          "execution_count": 23
        }
      ]
    }
  ]
}